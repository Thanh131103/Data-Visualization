{
 "cells": [
  {
   "cell_type": "code",
   "execution_count": null,
   "metadata": {},
   "outputs": [],
   "source": [
    "import pandas as pd\n",
    "import numpy as np"
   ]
  },
  {
   "cell_type": "markdown",
   "metadata": {},
   "source": [
    "# Read data and save to DataFrame  "
   ]
  },
  {
   "cell_type": "code",
   "execution_count": null,
   "metadata": {},
   "outputs": [],
   "source": [
    "dfDate22=pd.read_csv('22_2_2023.csv')\n",
    "dfDate23=pd.read_csv('23_2_2023.csv')\n",
    "dfDate24=pd.read_csv('24_2_2023.csv')\n",
    "dfDate22"
   ]
  },
  {
   "cell_type": "markdown",
   "metadata": {},
   "source": [
    "### Drop first column"
   ]
  },
  {
   "cell_type": "code",
   "execution_count": null,
   "metadata": {},
   "outputs": [],
   "source": [
    "dfDate22 = dfDate22.drop('Unnamed: 0', axis = 1)\n",
    "dfDate23 = dfDate23.drop('Unnamed: 0', axis = 1)\n",
    "dfDate24 = dfDate24.drop('Unnamed: 0', axis = 1)"
   ]
  },
  {
   "cell_type": "code",
   "execution_count": null,
   "metadata": {},
   "outputs": [],
   "source": [
    "dfDate22"
   ]
  },
  {
   "cell_type": "markdown",
   "metadata": {},
   "source": [
    "### Insert `Date` column into dataframe"
   ]
  },
  {
   "cell_type": "code",
   "execution_count": null,
   "metadata": {},
   "outputs": [],
   "source": [
    "Date22 = ('22/02/2023')\n",
    "Date23 = ('23/02/2023')\n",
    "Date24 = ('24/02/2023')\n",
    "dfDate22['Date'] = Date22\n",
    "dfDate23['Date'] = Date23\n",
    "dfDate24['Date'] = Date24"
   ]
  },
  {
   "cell_type": "code",
   "execution_count": null,
   "metadata": {},
   "outputs": [],
   "source": [
    "dfDate24.head(10)"
   ]
  },
  {
   "attachments": {},
   "cell_type": "markdown",
   "metadata": {},
   "source": [
    "### Join 3 dataframes of 3-days"
   ]
  },
  {
   "cell_type": "code",
   "execution_count": null,
   "metadata": {},
   "outputs": [],
   "source": [
    "frames = [dfDate22, dfDate23, dfDate24]\n",
    "df = pd.concat(frames, ignore_index = True)\n",
    "df"
   ]
  },
  {
   "attachments": {},
   "cell_type": "markdown",
   "metadata": {},
   "source": [
    "### Convert `Date` from string to datetime"
   ]
  },
  {
   "cell_type": "code",
   "execution_count": null,
   "metadata": {},
   "outputs": [],
   "source": [
    "df['Date'] = pd.to_datetime(df['Date'], yearfirst = False)\n",
    "df['Date'].dt.day.unique()"
   ]
  },
  {
   "attachments": {},
   "cell_type": "markdown",
   "metadata": {},
   "source": [
    "### Swap `Date` column order to the first"
   ]
  },
  {
   "cell_type": "code",
   "execution_count": null,
   "metadata": {},
   "outputs": [],
   "source": [
    "df = df[['Date'] + [ col for col in df.columns if col != 'Date' ]]\n",
    "df"
   ]
  },
  {
   "cell_type": "code",
   "execution_count": null,
   "metadata": {},
   "outputs": [],
   "source": [
    "df.keys()"
   ]
  },
  {
   "attachments": {},
   "cell_type": "markdown",
   "metadata": {},
   "source": [
    "# Data explorations\n",
    "## How many rows and columns does the data have ?"
   ]
  },
  {
   "cell_type": "code",
   "execution_count": null,
   "metadata": {},
   "outputs": [],
   "source": [
    "Num_rows,Num_cols=df.shape\n",
    "print(f\"The data have {Num_rows} rowls\")\n",
    "print(f\"The data have {Num_cols} columns\")"
   ]
  },
  {
   "cell_type": "markdown",
   "metadata": {},
   "source": [
    "## Are there any dulicate rows in the data?"
   ]
  },
  {
   "cell_type": "code",
   "execution_count": null,
   "metadata": {},
   "outputs": [],
   "source": [
    "have_duplicate_rows = df.duplicated().sum()\n",
    "print(\"Yes duplicate\") if have_duplicate_rows else print('No duplicate')"
   ]
  },
  {
   "cell_type": "markdown",
   "metadata": {},
   "source": [
    "## What do the columns in the data mean?"
   ]
  },
  {
   "cell_type": "markdown",
   "metadata": {},
   "source": [
    "**Country, Other** : Name of the country, or place.\n",
    "\n",
    "**Total Cases** : Total cases get covid.\n",
    "\n",
    "**New Cases** : New cases get covid today.\n",
    "\n",
    "**Total Deaths** : Total cases deaths.          \n",
    "\n",
    "**New Deaths** : New cases get death by covid.\n",
    "\n",
    "**Total Recovered** : Total recovered from covid.     \n",
    "\n",
    "**New Recovered** : New cases recovered from covid today.      \n",
    "\n",
    "**Active Cases** : Active cases today.        \n",
    "\n",
    "**Serious, Critical** : Serious, Critical cases.   \n",
    "\n",
    "**Tot Cases/ 1M pop** : Total cases get covid per 1 million populations.\n",
    "\n",
    "**Deaths/ 1M pop** : Total cases deaths by covid per 1 million populations.       \n",
    "\n",
    "**Total Tests** : Total test cases.\n",
    "\n",
    "**Tests/ 1M pop** : Total test cases per 1 million population.\n",
    "\n",
    "**Population** : population.\n",
    "\n",
    "**Continent** : continent name."
   ]
  },
  {
   "cell_type": "code",
   "execution_count": null,
   "metadata": {},
   "outputs": [],
   "source": [
    "dfDate22.info()"
   ]
  },
  {
   "cell_type": "markdown",
   "metadata": {},
   "source": [
    "**What does columns that have object type mean?**\n",
    "\n",
    "All columns in data have datatype of object expect New Deaths. If the datatype of a column in dataframe is object, the datatype of elements in that column can be different from each other. so we will list the data types present in each colum"
   ]
  },
  {
   "cell_type": "code",
   "execution_count": null,
   "metadata": {},
   "outputs": [],
   "source": [
    "def check_dtype(col_name):\n",
    "    s = dfDate22[col_name]\n",
    "    dtypes = set()\n",
    "    s.apply(lambda x : dtypes.add(type(x)))\n",
    "    print(f'List type in {col_name} column: {dtypes}')\n",
    "    return dtypes\n",
    "\n",
    "for col_name in dfDate22.columns:\n",
    "    check_dtype(col_name)"
   ]
  },
  {
   "cell_type": "markdown",
   "metadata": {},
   "source": [
    "#### Issues that need to be reprocessed:\n"
   ]
  },
  {
   "cell_type": "markdown",
   "metadata": {},
   "source": [
    "* Replace NaN to 0 in which columns has types is float expect the column 'Continent'"
   ]
  },
  {
   "cell_type": "code",
   "execution_count": null,
   "metadata": {},
   "outputs": [],
   "source": [
    "df['Continent']=df['Continent'].fillna('Do not know')\n",
    "dfDate22=dfDate22.fillna(0)\n",
    "dfDate22"
   ]
  },
  {
   "cell_type": "markdown",
   "metadata": {},
   "source": [
    "#### Convert all the data into int"
   ]
  },
  {
   "cell_type": "markdown",
   "metadata": {},
   "source": [
    "##### Get column with float type to convert to string"
   ]
  },
  {
   "cell_type": "code",
   "execution_count": null,
   "metadata": {},
   "outputs": [],
   "source": [
    "convert_columns = dfDate22.columns.tolist()\n",
    "convert_columns=convert_columns[1:-1]\n",
    "# convert_columns.remove('Total Deaths')\n",
    "# convert_columns.remove('New Cases')\n",
    "convert_columns.remove('New Deaths')\n",
    "# convert_columns.remove('New Recovered')\n",
    "convert_columns"
   ]
  },
  {
   "cell_type": "code",
   "execution_count": null,
   "metadata": {},
   "outputs": [],
   "source": [
    "for col in convert_columns:\n",
    "    dfDate22[col]=dfDate22[col].astype(str).apply(lambda x: x.replace(\",\",''))\n",
    "    dfDate22[col]=dfDate22[col].apply(lambda x:int(x))\n",
    "\n",
    "dfDate22\n"
   ]
  },
  {
   "cell_type": "code",
   "execution_count": null,
   "metadata": {},
   "outputs": [],
   "source": [
    "# dfDate22['New Deaths']=dfDate22['New Deaths'].str.slice(stop=-2).astype(int)\n",
    "dfDate22.dtypes"
   ]
  },
  {
   "cell_type": "markdown",
   "metadata": {},
   "source": [
    "#### Write to file output"
   ]
  },
  {
   "cell_type": "code",
   "execution_count": null,
   "metadata": {},
   "outputs": [],
   "source": [
    "dfDate22.to_csv('output.csv', index=True)"
   ]
  }
 ],
 "metadata": {
  "kernelspec": {
   "display_name": "Python 3 (ipykernel)",
   "language": "python",
   "name": "python3"
  },
  "language_info": {
   "codemirror_mode": {
    "name": "ipython",
    "version": 3
   },
   "file_extension": ".py",
   "mimetype": "text/x-python",
   "name": "python",
   "nbconvert_exporter": "python",
   "pygments_lexer": "ipython3",
   "version": "3.10.0"
  },
  "vscode": {
   "interpreter": {
    "hash": "a42ccb73e7d9bfdf27e036f1d2b8b681e55fc0743cc5586bc2474d4a60f4b886"
   }
  }
 },
 "nbformat": 4,
 "nbformat_minor": 2
}
