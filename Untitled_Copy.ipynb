{
  "cells": [
    {
      "cell_type": "code",
      "execution_count": null,
      "id": "5831215e",
      "metadata": {
        "id": "5831215e"
      },
      "outputs": [],
      "source": [
        "import pandas as pd \n",
        "import numpy as np\n",
        "import matplotlib.pyplot as plt \n",
        "import matplotlib.colors as mcolors\n",
        "import seaborn as sns\n",
        "import plotly.express as px"
      ]
    },
    {
      "cell_type": "code",
      "source": [
        "week = pd.read_csv('week22_28.csv').drop(\"Unnamed: 0\",axis=1)"
      ],
      "metadata": {
        "id": "4B_5lg5m-5xz"
      },
      "id": "4B_5lg5m-5xz",
      "execution_count": null,
      "outputs": []
    },
    {
      "cell_type": "code",
      "execution_count": null,
      "id": "96532899",
      "metadata": {
        "colab": {
          "base_uri": "https://localhost:8080/",
          "height": 537
        },
        "id": "96532899",
        "outputId": "03314a9e-de26-4c58-edd3-2819954383a8"
      },
      "outputs": [
        {
          "output_type": "execute_result",
          "data": {
            "text/plain": [
              "       Country, Other  Total Cases  New Cases  Total Deaths  New Deaths  \\\n",
              "0               China       503302          0          5272         0.0   \n",
              "1                 USA    105148929      24941       1144242       249.0   \n",
              "2               India     44685450        193        530763         1.0   \n",
              "3              France     39600548       4584        164829        38.0   \n",
              "4             Germany     38068912      25038        167604       113.0   \n",
              "..                ...          ...        ...           ...         ...   \n",
              "226  Diamond Princess          712          0            13         0.0   \n",
              "227      Vatican City           29          0             0         0.0   \n",
              "228    Western Sahara           10          0             1         0.0   \n",
              "229        MS Zaandam            9          0             2         0.0   \n",
              "230           Tokelau            5          0             0         0.0   \n",
              "\n",
              "     Total Recovered  New Recovered  Active Cases  Serious, Critical  \\\n",
              "0             379053              0        118977               7557   \n",
              "1          102473264          58247       1531423               2436   \n",
              "2           44152687            127          2000                  0   \n",
              "3           39368047           3989         67672                869   \n",
              "4           37630800          13600        270508                  0   \n",
              "..               ...            ...           ...                ...   \n",
              "226              699              0             0                  0   \n",
              "227               29              0             0                  0   \n",
              "228                9              0             0                  0   \n",
              "229                7              0             0                  0   \n",
              "230                0              0             5                  0   \n",
              "\n",
              "     Tot Cases/ 1M pop  Deaths/ 1M pop  Total Tests  Tests/ 1M pop  \\\n",
              "0                  347               4    160000000         110461   \n",
              "1               314060            3418   1163631220        3475546   \n",
              "2                31768             377    918101478         652695   \n",
              "3               603809            2513    271490188        4139547   \n",
              "4               453830            1998    122332384        1458359   \n",
              "..                 ...             ...          ...            ...   \n",
              "226                  0               0            0              0   \n",
              "227              36295               0            0              0   \n",
              "228                 16               2            0              0   \n",
              "229                  0               0            0              0   \n",
              "230               3628               0            0              0   \n",
              "\n",
              "     Population          Continent  \n",
              "0    1448471400               Asia  \n",
              "1     334805269      North America  \n",
              "2    1406631776               Asia  \n",
              "3      65584518             Europe  \n",
              "4      83883596             Europe  \n",
              "..          ...                ...  \n",
              "226           0        Do not know  \n",
              "227         799             Europe  \n",
              "228      626161             Africa  \n",
              "229           0        Do not know  \n",
              "230        1378  Australia/Oceania  \n",
              "\n",
              "[231 rows x 15 columns]"
            ],
            "text/html": [
              "\n",
              "  <div id=\"df-cc3a4ac8-2847-42fc-9850-3e6b6c09224b\">\n",
              "    <div class=\"colab-df-container\">\n",
              "      <div>\n",
              "<style scoped>\n",
              "    .dataframe tbody tr th:only-of-type {\n",
              "        vertical-align: middle;\n",
              "    }\n",
              "\n",
              "    .dataframe tbody tr th {\n",
              "        vertical-align: top;\n",
              "    }\n",
              "\n",
              "    .dataframe thead th {\n",
              "        text-align: right;\n",
              "    }\n",
              "</style>\n",
              "<table border=\"1\" class=\"dataframe\">\n",
              "  <thead>\n",
              "    <tr style=\"text-align: right;\">\n",
              "      <th></th>\n",
              "      <th>Country, Other</th>\n",
              "      <th>Total Cases</th>\n",
              "      <th>New Cases</th>\n",
              "      <th>Total Deaths</th>\n",
              "      <th>New Deaths</th>\n",
              "      <th>Total Recovered</th>\n",
              "      <th>New Recovered</th>\n",
              "      <th>Active Cases</th>\n",
              "      <th>Serious, Critical</th>\n",
              "      <th>Tot Cases/ 1M pop</th>\n",
              "      <th>Deaths/ 1M pop</th>\n",
              "      <th>Total Tests</th>\n",
              "      <th>Tests/ 1M pop</th>\n",
              "      <th>Population</th>\n",
              "      <th>Continent</th>\n",
              "    </tr>\n",
              "  </thead>\n",
              "  <tbody>\n",
              "    <tr>\n",
              "      <th>0</th>\n",
              "      <td>China</td>\n",
              "      <td>503302</td>\n",
              "      <td>0</td>\n",
              "      <td>5272</td>\n",
              "      <td>0.0</td>\n",
              "      <td>379053</td>\n",
              "      <td>0</td>\n",
              "      <td>118977</td>\n",
              "      <td>7557</td>\n",
              "      <td>347</td>\n",
              "      <td>4</td>\n",
              "      <td>160000000</td>\n",
              "      <td>110461</td>\n",
              "      <td>1448471400</td>\n",
              "      <td>Asia</td>\n",
              "    </tr>\n",
              "    <tr>\n",
              "      <th>1</th>\n",
              "      <td>USA</td>\n",
              "      <td>105148929</td>\n",
              "      <td>24941</td>\n",
              "      <td>1144242</td>\n",
              "      <td>249.0</td>\n",
              "      <td>102473264</td>\n",
              "      <td>58247</td>\n",
              "      <td>1531423</td>\n",
              "      <td>2436</td>\n",
              "      <td>314060</td>\n",
              "      <td>3418</td>\n",
              "      <td>1163631220</td>\n",
              "      <td>3475546</td>\n",
              "      <td>334805269</td>\n",
              "      <td>North America</td>\n",
              "    </tr>\n",
              "    <tr>\n",
              "      <th>2</th>\n",
              "      <td>India</td>\n",
              "      <td>44685450</td>\n",
              "      <td>193</td>\n",
              "      <td>530763</td>\n",
              "      <td>1.0</td>\n",
              "      <td>44152687</td>\n",
              "      <td>127</td>\n",
              "      <td>2000</td>\n",
              "      <td>0</td>\n",
              "      <td>31768</td>\n",
              "      <td>377</td>\n",
              "      <td>918101478</td>\n",
              "      <td>652695</td>\n",
              "      <td>1406631776</td>\n",
              "      <td>Asia</td>\n",
              "    </tr>\n",
              "    <tr>\n",
              "      <th>3</th>\n",
              "      <td>France</td>\n",
              "      <td>39600548</td>\n",
              "      <td>4584</td>\n",
              "      <td>164829</td>\n",
              "      <td>38.0</td>\n",
              "      <td>39368047</td>\n",
              "      <td>3989</td>\n",
              "      <td>67672</td>\n",
              "      <td>869</td>\n",
              "      <td>603809</td>\n",
              "      <td>2513</td>\n",
              "      <td>271490188</td>\n",
              "      <td>4139547</td>\n",
              "      <td>65584518</td>\n",
              "      <td>Europe</td>\n",
              "    </tr>\n",
              "    <tr>\n",
              "      <th>4</th>\n",
              "      <td>Germany</td>\n",
              "      <td>38068912</td>\n",
              "      <td>25038</td>\n",
              "      <td>167604</td>\n",
              "      <td>113.0</td>\n",
              "      <td>37630800</td>\n",
              "      <td>13600</td>\n",
              "      <td>270508</td>\n",
              "      <td>0</td>\n",
              "      <td>453830</td>\n",
              "      <td>1998</td>\n",
              "      <td>122332384</td>\n",
              "      <td>1458359</td>\n",
              "      <td>83883596</td>\n",
              "      <td>Europe</td>\n",
              "    </tr>\n",
              "    <tr>\n",
              "      <th>...</th>\n",
              "      <td>...</td>\n",
              "      <td>...</td>\n",
              "      <td>...</td>\n",
              "      <td>...</td>\n",
              "      <td>...</td>\n",
              "      <td>...</td>\n",
              "      <td>...</td>\n",
              "      <td>...</td>\n",
              "      <td>...</td>\n",
              "      <td>...</td>\n",
              "      <td>...</td>\n",
              "      <td>...</td>\n",
              "      <td>...</td>\n",
              "      <td>...</td>\n",
              "      <td>...</td>\n",
              "    </tr>\n",
              "    <tr>\n",
              "      <th>226</th>\n",
              "      <td>Diamond Princess</td>\n",
              "      <td>712</td>\n",
              "      <td>0</td>\n",
              "      <td>13</td>\n",
              "      <td>0.0</td>\n",
              "      <td>699</td>\n",
              "      <td>0</td>\n",
              "      <td>0</td>\n",
              "      <td>0</td>\n",
              "      <td>0</td>\n",
              "      <td>0</td>\n",
              "      <td>0</td>\n",
              "      <td>0</td>\n",
              "      <td>0</td>\n",
              "      <td>Do not know</td>\n",
              "    </tr>\n",
              "    <tr>\n",
              "      <th>227</th>\n",
              "      <td>Vatican City</td>\n",
              "      <td>29</td>\n",
              "      <td>0</td>\n",
              "      <td>0</td>\n",
              "      <td>0.0</td>\n",
              "      <td>29</td>\n",
              "      <td>0</td>\n",
              "      <td>0</td>\n",
              "      <td>0</td>\n",
              "      <td>36295</td>\n",
              "      <td>0</td>\n",
              "      <td>0</td>\n",
              "      <td>0</td>\n",
              "      <td>799</td>\n",
              "      <td>Europe</td>\n",
              "    </tr>\n",
              "    <tr>\n",
              "      <th>228</th>\n",
              "      <td>Western Sahara</td>\n",
              "      <td>10</td>\n",
              "      <td>0</td>\n",
              "      <td>1</td>\n",
              "      <td>0.0</td>\n",
              "      <td>9</td>\n",
              "      <td>0</td>\n",
              "      <td>0</td>\n",
              "      <td>0</td>\n",
              "      <td>16</td>\n",
              "      <td>2</td>\n",
              "      <td>0</td>\n",
              "      <td>0</td>\n",
              "      <td>626161</td>\n",
              "      <td>Africa</td>\n",
              "    </tr>\n",
              "    <tr>\n",
              "      <th>229</th>\n",
              "      <td>MS Zaandam</td>\n",
              "      <td>9</td>\n",
              "      <td>0</td>\n",
              "      <td>2</td>\n",
              "      <td>0.0</td>\n",
              "      <td>7</td>\n",
              "      <td>0</td>\n",
              "      <td>0</td>\n",
              "      <td>0</td>\n",
              "      <td>0</td>\n",
              "      <td>0</td>\n",
              "      <td>0</td>\n",
              "      <td>0</td>\n",
              "      <td>0</td>\n",
              "      <td>Do not know</td>\n",
              "    </tr>\n",
              "    <tr>\n",
              "      <th>230</th>\n",
              "      <td>Tokelau</td>\n",
              "      <td>5</td>\n",
              "      <td>0</td>\n",
              "      <td>0</td>\n",
              "      <td>0.0</td>\n",
              "      <td>0</td>\n",
              "      <td>0</td>\n",
              "      <td>5</td>\n",
              "      <td>0</td>\n",
              "      <td>3628</td>\n",
              "      <td>0</td>\n",
              "      <td>0</td>\n",
              "      <td>0</td>\n",
              "      <td>1378</td>\n",
              "      <td>Australia/Oceania</td>\n",
              "    </tr>\n",
              "  </tbody>\n",
              "</table>\n",
              "<p>231 rows × 15 columns</p>\n",
              "</div>\n",
              "      <button class=\"colab-df-convert\" onclick=\"convertToInteractive('df-cc3a4ac8-2847-42fc-9850-3e6b6c09224b')\"\n",
              "              title=\"Convert this dataframe to an interactive table.\"\n",
              "              style=\"display:none;\">\n",
              "        \n",
              "  <svg xmlns=\"http://www.w3.org/2000/svg\" height=\"24px\"viewBox=\"0 0 24 24\"\n",
              "       width=\"24px\">\n",
              "    <path d=\"M0 0h24v24H0V0z\" fill=\"none\"/>\n",
              "    <path d=\"M18.56 5.44l.94 2.06.94-2.06 2.06-.94-2.06-.94-.94-2.06-.94 2.06-2.06.94zm-11 1L8.5 8.5l.94-2.06 2.06-.94-2.06-.94L8.5 2.5l-.94 2.06-2.06.94zm10 10l.94 2.06.94-2.06 2.06-.94-2.06-.94-.94-2.06-.94 2.06-2.06.94z\"/><path d=\"M17.41 7.96l-1.37-1.37c-.4-.4-.92-.59-1.43-.59-.52 0-1.04.2-1.43.59L10.3 9.45l-7.72 7.72c-.78.78-.78 2.05 0 2.83L4 21.41c.39.39.9.59 1.41.59.51 0 1.02-.2 1.41-.59l7.78-7.78 2.81-2.81c.8-.78.8-2.07 0-2.86zM5.41 20L4 18.59l7.72-7.72 1.47 1.35L5.41 20z\"/>\n",
              "  </svg>\n",
              "      </button>\n",
              "      \n",
              "  <style>\n",
              "    .colab-df-container {\n",
              "      display:flex;\n",
              "      flex-wrap:wrap;\n",
              "      gap: 12px;\n",
              "    }\n",
              "\n",
              "    .colab-df-convert {\n",
              "      background-color: #E8F0FE;\n",
              "      border: none;\n",
              "      border-radius: 50%;\n",
              "      cursor: pointer;\n",
              "      display: none;\n",
              "      fill: #1967D2;\n",
              "      height: 32px;\n",
              "      padding: 0 0 0 0;\n",
              "      width: 32px;\n",
              "    }\n",
              "\n",
              "    .colab-df-convert:hover {\n",
              "      background-color: #E2EBFA;\n",
              "      box-shadow: 0px 1px 2px rgba(60, 64, 67, 0.3), 0px 1px 3px 1px rgba(60, 64, 67, 0.15);\n",
              "      fill: #174EA6;\n",
              "    }\n",
              "\n",
              "    [theme=dark] .colab-df-convert {\n",
              "      background-color: #3B4455;\n",
              "      fill: #D2E3FC;\n",
              "    }\n",
              "\n",
              "    [theme=dark] .colab-df-convert:hover {\n",
              "      background-color: #434B5C;\n",
              "      box-shadow: 0px 1px 3px 1px rgba(0, 0, 0, 0.15);\n",
              "      filter: drop-shadow(0px 1px 2px rgba(0, 0, 0, 0.3));\n",
              "      fill: #FFFFFF;\n",
              "    }\n",
              "  </style>\n",
              "\n",
              "      <script>\n",
              "        const buttonEl =\n",
              "          document.querySelector('#df-cc3a4ac8-2847-42fc-9850-3e6b6c09224b button.colab-df-convert');\n",
              "        buttonEl.style.display =\n",
              "          google.colab.kernel.accessAllowed ? 'block' : 'none';\n",
              "\n",
              "        async function convertToInteractive(key) {\n",
              "          const element = document.querySelector('#df-cc3a4ac8-2847-42fc-9850-3e6b6c09224b');\n",
              "          const dataTable =\n",
              "            await google.colab.kernel.invokeFunction('convertToInteractive',\n",
              "                                                     [key], {});\n",
              "          if (!dataTable) return;\n",
              "\n",
              "          const docLinkHtml = 'Like what you see? Visit the ' +\n",
              "            '<a target=\"_blank\" href=https://colab.research.google.com/notebooks/data_table.ipynb>data table notebook</a>'\n",
              "            + ' to learn more about interactive tables.';\n",
              "          element.innerHTML = '';\n",
              "          dataTable['output_type'] = 'display_data';\n",
              "          await google.colab.output.renderOutput(dataTable, element);\n",
              "          const docLink = document.createElement('div');\n",
              "          docLink.innerHTML = docLinkHtml;\n",
              "          element.appendChild(docLink);\n",
              "        }\n",
              "      </script>\n",
              "    </div>\n",
              "  </div>\n",
              "  "
            ]
          },
          "metadata": {},
          "execution_count": 4
        }
      ],
      "source": [
        "df = pd.read_csv(\"output.csv\").drop(\"Unnamed: 0\",axis=1)\n",
        "df"
      ]
    },
    {
      "cell_type": "code",
      "execution_count": null,
      "id": "374dd309",
      "metadata": {
        "colab": {
          "base_uri": "https://localhost:8080/",
          "height": 361
        },
        "id": "374dd309",
        "outputId": "3c8f1f85-dddd-4cca-bf0e-4be4cde910c0"
      },
      "outputs": [
        {
          "output_type": "execute_result",
          "data": {
            "text/plain": [
              "        Total Cases     New Cases  Total Deaths  New Deaths  Total Recovered  \\\n",
              "count  2.310000e+02    231.000000  2.310000e+02  231.000000     2.310000e+02   \n",
              "mean   2.940300e+06    660.532468  2.941577e+04    4.813853     2.739997e+06   \n",
              "std    9.548907e+06   3146.549252  1.047373e+05   28.686233     9.193313e+06   \n",
              "min    5.000000e+00      0.000000  0.000000e+00    0.000000     0.000000e+00   \n",
              "25%    2.412300e+04      0.000000  1.795000e+02    0.000000     1.208250e+04   \n",
              "50%    2.066330e+05      0.000000  1.965000e+03    0.000000     1.316340e+05   \n",
              "75%    1.299745e+06     22.500000  1.398400e+04    0.000000     1.255746e+06   \n",
              "max    1.051489e+08  25038.000000  1.144242e+06  312.000000     1.024733e+08   \n",
              "\n",
              "       New Recovered  Active Cases  Serious, Critical  Tot Cases/ 1M pop  \\\n",
              "count     231.000000  2.310000e+02         231.000000         231.000000   \n",
              "mean      995.536797  8.192995e+04          74.939394      193797.220779   \n",
              "std      5825.961726  7.606388e+05         528.920168      196700.415335   \n",
              "min         0.000000 -7.000000e+00           0.000000           0.000000   \n",
              "25%         0.000000  2.100000e+01           0.000000       16545.500000   \n",
              "50%         0.000000  6.730000e+02           1.000000      123588.000000   \n",
              "75%         7.500000  9.061000e+03          17.500000      313297.000000   \n",
              "max     58247.000000  1.139420e+07        7557.000000      703959.000000   \n",
              "\n",
              "       Deaths/ 1M pop   Total Tests  Tests/ 1M pop    Population  \n",
              "count      231.000000  2.310000e+02   2.310000e+02  2.310000e+02  \n",
              "mean      1201.614719  3.002951e+07   1.958991e+06  3.439366e+07  \n",
              "std       1275.299928  1.136584e+08   3.528050e+06  1.380709e+08  \n",
              "min          0.000000  0.000000e+00   0.000000e+00  0.000000e+00  \n",
              "25%        133.500000  2.260585e+05   8.447800e+04  4.281115e+05  \n",
              "50%        754.000000  1.677538e+06   7.173800e+05  5.554960e+06  \n",
              "75%       1961.000000  1.148478e+07   2.120314e+06  2.183934e+07  \n",
              "max       6512.000000  1.163631e+09   2.330212e+07  1.448471e+09  "
            ],
            "text/html": [
              "\n",
              "  <div id=\"df-f88dc88e-b41f-4459-834f-00f42dafb3fb\">\n",
              "    <div class=\"colab-df-container\">\n",
              "      <div>\n",
              "<style scoped>\n",
              "    .dataframe tbody tr th:only-of-type {\n",
              "        vertical-align: middle;\n",
              "    }\n",
              "\n",
              "    .dataframe tbody tr th {\n",
              "        vertical-align: top;\n",
              "    }\n",
              "\n",
              "    .dataframe thead th {\n",
              "        text-align: right;\n",
              "    }\n",
              "</style>\n",
              "<table border=\"1\" class=\"dataframe\">\n",
              "  <thead>\n",
              "    <tr style=\"text-align: right;\">\n",
              "      <th></th>\n",
              "      <th>Total Cases</th>\n",
              "      <th>New Cases</th>\n",
              "      <th>Total Deaths</th>\n",
              "      <th>New Deaths</th>\n",
              "      <th>Total Recovered</th>\n",
              "      <th>New Recovered</th>\n",
              "      <th>Active Cases</th>\n",
              "      <th>Serious, Critical</th>\n",
              "      <th>Tot Cases/ 1M pop</th>\n",
              "      <th>Deaths/ 1M pop</th>\n",
              "      <th>Total Tests</th>\n",
              "      <th>Tests/ 1M pop</th>\n",
              "      <th>Population</th>\n",
              "    </tr>\n",
              "  </thead>\n",
              "  <tbody>\n",
              "    <tr>\n",
              "      <th>count</th>\n",
              "      <td>2.310000e+02</td>\n",
              "      <td>231.000000</td>\n",
              "      <td>2.310000e+02</td>\n",
              "      <td>231.000000</td>\n",
              "      <td>2.310000e+02</td>\n",
              "      <td>231.000000</td>\n",
              "      <td>2.310000e+02</td>\n",
              "      <td>231.000000</td>\n",
              "      <td>231.000000</td>\n",
              "      <td>231.000000</td>\n",
              "      <td>2.310000e+02</td>\n",
              "      <td>2.310000e+02</td>\n",
              "      <td>2.310000e+02</td>\n",
              "    </tr>\n",
              "    <tr>\n",
              "      <th>mean</th>\n",
              "      <td>2.940300e+06</td>\n",
              "      <td>660.532468</td>\n",
              "      <td>2.941577e+04</td>\n",
              "      <td>4.813853</td>\n",
              "      <td>2.739997e+06</td>\n",
              "      <td>995.536797</td>\n",
              "      <td>8.192995e+04</td>\n",
              "      <td>74.939394</td>\n",
              "      <td>193797.220779</td>\n",
              "      <td>1201.614719</td>\n",
              "      <td>3.002951e+07</td>\n",
              "      <td>1.958991e+06</td>\n",
              "      <td>3.439366e+07</td>\n",
              "    </tr>\n",
              "    <tr>\n",
              "      <th>std</th>\n",
              "      <td>9.548907e+06</td>\n",
              "      <td>3146.549252</td>\n",
              "      <td>1.047373e+05</td>\n",
              "      <td>28.686233</td>\n",
              "      <td>9.193313e+06</td>\n",
              "      <td>5825.961726</td>\n",
              "      <td>7.606388e+05</td>\n",
              "      <td>528.920168</td>\n",
              "      <td>196700.415335</td>\n",
              "      <td>1275.299928</td>\n",
              "      <td>1.136584e+08</td>\n",
              "      <td>3.528050e+06</td>\n",
              "      <td>1.380709e+08</td>\n",
              "    </tr>\n",
              "    <tr>\n",
              "      <th>min</th>\n",
              "      <td>5.000000e+00</td>\n",
              "      <td>0.000000</td>\n",
              "      <td>0.000000e+00</td>\n",
              "      <td>0.000000</td>\n",
              "      <td>0.000000e+00</td>\n",
              "      <td>0.000000</td>\n",
              "      <td>-7.000000e+00</td>\n",
              "      <td>0.000000</td>\n",
              "      <td>0.000000</td>\n",
              "      <td>0.000000</td>\n",
              "      <td>0.000000e+00</td>\n",
              "      <td>0.000000e+00</td>\n",
              "      <td>0.000000e+00</td>\n",
              "    </tr>\n",
              "    <tr>\n",
              "      <th>25%</th>\n",
              "      <td>2.412300e+04</td>\n",
              "      <td>0.000000</td>\n",
              "      <td>1.795000e+02</td>\n",
              "      <td>0.000000</td>\n",
              "      <td>1.208250e+04</td>\n",
              "      <td>0.000000</td>\n",
              "      <td>2.100000e+01</td>\n",
              "      <td>0.000000</td>\n",
              "      <td>16545.500000</td>\n",
              "      <td>133.500000</td>\n",
              "      <td>2.260585e+05</td>\n",
              "      <td>8.447800e+04</td>\n",
              "      <td>4.281115e+05</td>\n",
              "    </tr>\n",
              "    <tr>\n",
              "      <th>50%</th>\n",
              "      <td>2.066330e+05</td>\n",
              "      <td>0.000000</td>\n",
              "      <td>1.965000e+03</td>\n",
              "      <td>0.000000</td>\n",
              "      <td>1.316340e+05</td>\n",
              "      <td>0.000000</td>\n",
              "      <td>6.730000e+02</td>\n",
              "      <td>1.000000</td>\n",
              "      <td>123588.000000</td>\n",
              "      <td>754.000000</td>\n",
              "      <td>1.677538e+06</td>\n",
              "      <td>7.173800e+05</td>\n",
              "      <td>5.554960e+06</td>\n",
              "    </tr>\n",
              "    <tr>\n",
              "      <th>75%</th>\n",
              "      <td>1.299745e+06</td>\n",
              "      <td>22.500000</td>\n",
              "      <td>1.398400e+04</td>\n",
              "      <td>0.000000</td>\n",
              "      <td>1.255746e+06</td>\n",
              "      <td>7.500000</td>\n",
              "      <td>9.061000e+03</td>\n",
              "      <td>17.500000</td>\n",
              "      <td>313297.000000</td>\n",
              "      <td>1961.000000</td>\n",
              "      <td>1.148478e+07</td>\n",
              "      <td>2.120314e+06</td>\n",
              "      <td>2.183934e+07</td>\n",
              "    </tr>\n",
              "    <tr>\n",
              "      <th>max</th>\n",
              "      <td>1.051489e+08</td>\n",
              "      <td>25038.000000</td>\n",
              "      <td>1.144242e+06</td>\n",
              "      <td>312.000000</td>\n",
              "      <td>1.024733e+08</td>\n",
              "      <td>58247.000000</td>\n",
              "      <td>1.139420e+07</td>\n",
              "      <td>7557.000000</td>\n",
              "      <td>703959.000000</td>\n",
              "      <td>6512.000000</td>\n",
              "      <td>1.163631e+09</td>\n",
              "      <td>2.330212e+07</td>\n",
              "      <td>1.448471e+09</td>\n",
              "    </tr>\n",
              "  </tbody>\n",
              "</table>\n",
              "</div>\n",
              "      <button class=\"colab-df-convert\" onclick=\"convertToInteractive('df-f88dc88e-b41f-4459-834f-00f42dafb3fb')\"\n",
              "              title=\"Convert this dataframe to an interactive table.\"\n",
              "              style=\"display:none;\">\n",
              "        \n",
              "  <svg xmlns=\"http://www.w3.org/2000/svg\" height=\"24px\"viewBox=\"0 0 24 24\"\n",
              "       width=\"24px\">\n",
              "    <path d=\"M0 0h24v24H0V0z\" fill=\"none\"/>\n",
              "    <path d=\"M18.56 5.44l.94 2.06.94-2.06 2.06-.94-2.06-.94-.94-2.06-.94 2.06-2.06.94zm-11 1L8.5 8.5l.94-2.06 2.06-.94-2.06-.94L8.5 2.5l-.94 2.06-2.06.94zm10 10l.94 2.06.94-2.06 2.06-.94-2.06-.94-.94-2.06-.94 2.06-2.06.94z\"/><path d=\"M17.41 7.96l-1.37-1.37c-.4-.4-.92-.59-1.43-.59-.52 0-1.04.2-1.43.59L10.3 9.45l-7.72 7.72c-.78.78-.78 2.05 0 2.83L4 21.41c.39.39.9.59 1.41.59.51 0 1.02-.2 1.41-.59l7.78-7.78 2.81-2.81c.8-.78.8-2.07 0-2.86zM5.41 20L4 18.59l7.72-7.72 1.47 1.35L5.41 20z\"/>\n",
              "  </svg>\n",
              "      </button>\n",
              "      \n",
              "  <style>\n",
              "    .colab-df-container {\n",
              "      display:flex;\n",
              "      flex-wrap:wrap;\n",
              "      gap: 12px;\n",
              "    }\n",
              "\n",
              "    .colab-df-convert {\n",
              "      background-color: #E8F0FE;\n",
              "      border: none;\n",
              "      border-radius: 50%;\n",
              "      cursor: pointer;\n",
              "      display: none;\n",
              "      fill: #1967D2;\n",
              "      height: 32px;\n",
              "      padding: 0 0 0 0;\n",
              "      width: 32px;\n",
              "    }\n",
              "\n",
              "    .colab-df-convert:hover {\n",
              "      background-color: #E2EBFA;\n",
              "      box-shadow: 0px 1px 2px rgba(60, 64, 67, 0.3), 0px 1px 3px 1px rgba(60, 64, 67, 0.15);\n",
              "      fill: #174EA6;\n",
              "    }\n",
              "\n",
              "    [theme=dark] .colab-df-convert {\n",
              "      background-color: #3B4455;\n",
              "      fill: #D2E3FC;\n",
              "    }\n",
              "\n",
              "    [theme=dark] .colab-df-convert:hover {\n",
              "      background-color: #434B5C;\n",
              "      box-shadow: 0px 1px 3px 1px rgba(0, 0, 0, 0.15);\n",
              "      filter: drop-shadow(0px 1px 2px rgba(0, 0, 0, 0.3));\n",
              "      fill: #FFFFFF;\n",
              "    }\n",
              "  </style>\n",
              "\n",
              "      <script>\n",
              "        const buttonEl =\n",
              "          document.querySelector('#df-f88dc88e-b41f-4459-834f-00f42dafb3fb button.colab-df-convert');\n",
              "        buttonEl.style.display =\n",
              "          google.colab.kernel.accessAllowed ? 'block' : 'none';\n",
              "\n",
              "        async function convertToInteractive(key) {\n",
              "          const element = document.querySelector('#df-f88dc88e-b41f-4459-834f-00f42dafb3fb');\n",
              "          const dataTable =\n",
              "            await google.colab.kernel.invokeFunction('convertToInteractive',\n",
              "                                                     [key], {});\n",
              "          if (!dataTable) return;\n",
              "\n",
              "          const docLinkHtml = 'Like what you see? Visit the ' +\n",
              "            '<a target=\"_blank\" href=https://colab.research.google.com/notebooks/data_table.ipynb>data table notebook</a>'\n",
              "            + ' to learn more about interactive tables.';\n",
              "          element.innerHTML = '';\n",
              "          dataTable['output_type'] = 'display_data';\n",
              "          await google.colab.output.renderOutput(dataTable, element);\n",
              "          const docLink = document.createElement('div');\n",
              "          docLink.innerHTML = docLinkHtml;\n",
              "          element.appendChild(docLink);\n",
              "        }\n",
              "      </script>\n",
              "    </div>\n",
              "  </div>\n",
              "  "
            ]
          },
          "metadata": {},
          "execution_count": 5
        }
      ],
      "source": [
        "df.describe()"
      ]
    },
    {
      "cell_type": "code",
      "execution_count": null,
      "id": "44bc95ff",
      "metadata": {
        "scrolled": false,
        "colab": {
          "base_uri": "https://localhost:8080/"
        },
        "id": "44bc95ff",
        "outputId": "dc15f644-92f3-49c5-b4b7-1f20a0e767fc"
      },
      "outputs": [
        {
          "output_type": "execute_result",
          "data": {
            "text/plain": [
              "Country, Other        object\n",
              "Total Cases            int64\n",
              "New Cases              int64\n",
              "Total Deaths           int64\n",
              "New Deaths           float64\n",
              "Total Recovered        int64\n",
              "New Recovered          int64\n",
              "Active Cases           int64\n",
              "Serious, Critical      int64\n",
              "Tot Cases/ 1M pop      int64\n",
              "Deaths/ 1M pop         int64\n",
              "Total Tests            int64\n",
              "Tests/ 1M pop          int64\n",
              "Population             int64\n",
              "Continent             object\n",
              "dtype: object"
            ]
          },
          "metadata": {},
          "execution_count": 6
        }
      ],
      "source": [
        "df.dtypes"
      ]
    },
    {
      "cell_type": "code",
      "execution_count": null,
      "id": "255b3d77",
      "metadata": {
        "id": "255b3d77"
      },
      "outputs": [],
      "source": [
        "def IQR(col):\n",
        "    q1 = col.quantile(0.25)\n",
        "    q3 = col.quantile(0.75)\n",
        "    iqr = q3 - q1\n",
        "    return col[(col >= q1 - 1.5*iqr) & (col <= q3 + 1.5*iqr)]"
      ]
    },
    {
      "cell_type": "markdown",
      "id": "bad0f843",
      "metadata": {
        "id": "bad0f843"
      },
      "source": [
        "# DataRelationship"
      ]
    },
    {
      "cell_type": "code",
      "execution_count": null,
      "id": "63b75e39",
      "metadata": {
        "colab": {
          "base_uri": "https://localhost:8080/",
          "height": 570
        },
        "id": "63b75e39",
        "outputId": "22b54e41-1bae-4109-ddf7-5a8d8b78c4fe"
      },
      "outputs": [
        {
          "output_type": "execute_result",
          "data": {
            "text/plain": [
              "                   Total Cases  New Cases  Total Deaths  New Deaths  \\\n",
              "Total Cases           1.000000   0.747878      0.879717    0.743286   \n",
              "New Cases             0.747878   1.000000      0.565109    0.684516   \n",
              "Total Deaths          0.879717   0.565109      1.000000    0.783414   \n",
              "New Deaths            0.743286   0.684516      0.783414    1.000000   \n",
              "Total Recovered       0.990137   0.732756      0.885004    0.736343   \n",
              "New Recovered         0.741832   0.679838      0.791217    0.905630   \n",
              "Active Cases          0.327502   0.479177      0.145845    0.343232   \n",
              "Serious, Critical     0.244702   0.163903      0.226078    0.172222   \n",
              "Tot Cases/ 1M pop     0.163847   0.178433      0.025080    0.071573   \n",
              "Deaths/ 1M pop        0.221202   0.136808      0.289186    0.185083   \n",
              "Total Tests           0.841121   0.460422      0.795439    0.439455   \n",
              "Tests/ 1M pop         0.065813   0.047664      0.010114   -0.015982   \n",
              "Population            0.375731   0.134230      0.413453    0.172322   \n",
              "\n",
              "                   Total Recovered  New Recovered  Active Cases  \\\n",
              "Total Cases               0.990137       0.741832      0.327502   \n",
              "New Cases                 0.732756       0.679838      0.479177   \n",
              "Total Deaths              0.885004       0.791217      0.145845   \n",
              "New Deaths                0.736343       0.905630      0.343232   \n",
              "Total Recovered           1.000000       0.753794      0.256817   \n",
              "New Recovered             0.753794       1.000000      0.113357   \n",
              "Active Cases              0.256817       0.113357      1.000000   \n",
              "Serious, Critical         0.247018       0.188981      0.070723   \n",
              "Tot Cases/ 1M pop         0.166821       0.117145      0.035108   \n",
              "Deaths/ 1M pop            0.225634       0.192232     -0.001689   \n",
              "Total Tests               0.844311       0.506406      0.137036   \n",
              "Tests/ 1M pop             0.070569       0.043791     -0.021244   \n",
              "Population                0.376675       0.161254      0.075374   \n",
              "\n",
              "                   Serious, Critical  Tot Cases/ 1M pop  Deaths/ 1M pop  \\\n",
              "Total Cases                 0.244702           0.163847        0.221202   \n",
              "New Cases                   0.163903           0.178433        0.136808   \n",
              "Total Deaths                0.226078           0.025080        0.289186   \n",
              "New Deaths                  0.172222           0.071573        0.185083   \n",
              "Total Recovered             0.247018           0.166821        0.225634   \n",
              "New Recovered               0.188981           0.117145        0.192232   \n",
              "Active Cases                0.070723           0.035108       -0.001689   \n",
              "Serious, Critical           1.000000          -0.032585        0.015547   \n",
              "Tot Cases/ 1M pop          -0.032585           1.000000        0.450666   \n",
              "Deaths/ 1M pop              0.015547           0.450666        1.000000   \n",
              "Total Tests                 0.295103           0.096495        0.175040   \n",
              "Tests/ 1M pop              -0.021689           0.537210        0.249828   \n",
              "Population                  0.682436          -0.137757       -0.067940   \n",
              "\n",
              "                   Total Tests  Tests/ 1M pop  Population  \n",
              "Total Cases           0.841121       0.065813    0.375731  \n",
              "New Cases             0.460422       0.047664    0.134230  \n",
              "Total Deaths          0.795439       0.010114    0.413453  \n",
              "New Deaths            0.439455      -0.015982    0.172322  \n",
              "Total Recovered       0.844311       0.070569    0.376675  \n",
              "New Recovered         0.506406       0.043791    0.161254  \n",
              "Active Cases          0.137036      -0.021244    0.075374  \n",
              "Serious, Critical     0.295103      -0.021689    0.682436  \n",
              "Tot Cases/ 1M pop     0.096495       0.537210   -0.137757  \n",
              "Deaths/ 1M pop        0.175040       0.249828   -0.067940  \n",
              "Total Tests           1.000000       0.214527    0.541920  \n",
              "Tests/ 1M pop         0.214527       1.000000   -0.077003  \n",
              "Population            0.541920      -0.077003    1.000000  "
            ],
            "text/html": [
              "\n",
              "  <div id=\"df-151195f4-b28b-4bc2-b45d-f4b131cfeb50\">\n",
              "    <div class=\"colab-df-container\">\n",
              "      <div>\n",
              "<style scoped>\n",
              "    .dataframe tbody tr th:only-of-type {\n",
              "        vertical-align: middle;\n",
              "    }\n",
              "\n",
              "    .dataframe tbody tr th {\n",
              "        vertical-align: top;\n",
              "    }\n",
              "\n",
              "    .dataframe thead th {\n",
              "        text-align: right;\n",
              "    }\n",
              "</style>\n",
              "<table border=\"1\" class=\"dataframe\">\n",
              "  <thead>\n",
              "    <tr style=\"text-align: right;\">\n",
              "      <th></th>\n",
              "      <th>Total Cases</th>\n",
              "      <th>New Cases</th>\n",
              "      <th>Total Deaths</th>\n",
              "      <th>New Deaths</th>\n",
              "      <th>Total Recovered</th>\n",
              "      <th>New Recovered</th>\n",
              "      <th>Active Cases</th>\n",
              "      <th>Serious, Critical</th>\n",
              "      <th>Tot Cases/ 1M pop</th>\n",
              "      <th>Deaths/ 1M pop</th>\n",
              "      <th>Total Tests</th>\n",
              "      <th>Tests/ 1M pop</th>\n",
              "      <th>Population</th>\n",
              "    </tr>\n",
              "  </thead>\n",
              "  <tbody>\n",
              "    <tr>\n",
              "      <th>Total Cases</th>\n",
              "      <td>1.000000</td>\n",
              "      <td>0.747878</td>\n",
              "      <td>0.879717</td>\n",
              "      <td>0.743286</td>\n",
              "      <td>0.990137</td>\n",
              "      <td>0.741832</td>\n",
              "      <td>0.327502</td>\n",
              "      <td>0.244702</td>\n",
              "      <td>0.163847</td>\n",
              "      <td>0.221202</td>\n",
              "      <td>0.841121</td>\n",
              "      <td>0.065813</td>\n",
              "      <td>0.375731</td>\n",
              "    </tr>\n",
              "    <tr>\n",
              "      <th>New Cases</th>\n",
              "      <td>0.747878</td>\n",
              "      <td>1.000000</td>\n",
              "      <td>0.565109</td>\n",
              "      <td>0.684516</td>\n",
              "      <td>0.732756</td>\n",
              "      <td>0.679838</td>\n",
              "      <td>0.479177</td>\n",
              "      <td>0.163903</td>\n",
              "      <td>0.178433</td>\n",
              "      <td>0.136808</td>\n",
              "      <td>0.460422</td>\n",
              "      <td>0.047664</td>\n",
              "      <td>0.134230</td>\n",
              "    </tr>\n",
              "    <tr>\n",
              "      <th>Total Deaths</th>\n",
              "      <td>0.879717</td>\n",
              "      <td>0.565109</td>\n",
              "      <td>1.000000</td>\n",
              "      <td>0.783414</td>\n",
              "      <td>0.885004</td>\n",
              "      <td>0.791217</td>\n",
              "      <td>0.145845</td>\n",
              "      <td>0.226078</td>\n",
              "      <td>0.025080</td>\n",
              "      <td>0.289186</td>\n",
              "      <td>0.795439</td>\n",
              "      <td>0.010114</td>\n",
              "      <td>0.413453</td>\n",
              "    </tr>\n",
              "    <tr>\n",
              "      <th>New Deaths</th>\n",
              "      <td>0.743286</td>\n",
              "      <td>0.684516</td>\n",
              "      <td>0.783414</td>\n",
              "      <td>1.000000</td>\n",
              "      <td>0.736343</td>\n",
              "      <td>0.905630</td>\n",
              "      <td>0.343232</td>\n",
              "      <td>0.172222</td>\n",
              "      <td>0.071573</td>\n",
              "      <td>0.185083</td>\n",
              "      <td>0.439455</td>\n",
              "      <td>-0.015982</td>\n",
              "      <td>0.172322</td>\n",
              "    </tr>\n",
              "    <tr>\n",
              "      <th>Total Recovered</th>\n",
              "      <td>0.990137</td>\n",
              "      <td>0.732756</td>\n",
              "      <td>0.885004</td>\n",
              "      <td>0.736343</td>\n",
              "      <td>1.000000</td>\n",
              "      <td>0.753794</td>\n",
              "      <td>0.256817</td>\n",
              "      <td>0.247018</td>\n",
              "      <td>0.166821</td>\n",
              "      <td>0.225634</td>\n",
              "      <td>0.844311</td>\n",
              "      <td>0.070569</td>\n",
              "      <td>0.376675</td>\n",
              "    </tr>\n",
              "    <tr>\n",
              "      <th>New Recovered</th>\n",
              "      <td>0.741832</td>\n",
              "      <td>0.679838</td>\n",
              "      <td>0.791217</td>\n",
              "      <td>0.905630</td>\n",
              "      <td>0.753794</td>\n",
              "      <td>1.000000</td>\n",
              "      <td>0.113357</td>\n",
              "      <td>0.188981</td>\n",
              "      <td>0.117145</td>\n",
              "      <td>0.192232</td>\n",
              "      <td>0.506406</td>\n",
              "      <td>0.043791</td>\n",
              "      <td>0.161254</td>\n",
              "    </tr>\n",
              "    <tr>\n",
              "      <th>Active Cases</th>\n",
              "      <td>0.327502</td>\n",
              "      <td>0.479177</td>\n",
              "      <td>0.145845</td>\n",
              "      <td>0.343232</td>\n",
              "      <td>0.256817</td>\n",
              "      <td>0.113357</td>\n",
              "      <td>1.000000</td>\n",
              "      <td>0.070723</td>\n",
              "      <td>0.035108</td>\n",
              "      <td>-0.001689</td>\n",
              "      <td>0.137036</td>\n",
              "      <td>-0.021244</td>\n",
              "      <td>0.075374</td>\n",
              "    </tr>\n",
              "    <tr>\n",
              "      <th>Serious, Critical</th>\n",
              "      <td>0.244702</td>\n",
              "      <td>0.163903</td>\n",
              "      <td>0.226078</td>\n",
              "      <td>0.172222</td>\n",
              "      <td>0.247018</td>\n",
              "      <td>0.188981</td>\n",
              "      <td>0.070723</td>\n",
              "      <td>1.000000</td>\n",
              "      <td>-0.032585</td>\n",
              "      <td>0.015547</td>\n",
              "      <td>0.295103</td>\n",
              "      <td>-0.021689</td>\n",
              "      <td>0.682436</td>\n",
              "    </tr>\n",
              "    <tr>\n",
              "      <th>Tot Cases/ 1M pop</th>\n",
              "      <td>0.163847</td>\n",
              "      <td>0.178433</td>\n",
              "      <td>0.025080</td>\n",
              "      <td>0.071573</td>\n",
              "      <td>0.166821</td>\n",
              "      <td>0.117145</td>\n",
              "      <td>0.035108</td>\n",
              "      <td>-0.032585</td>\n",
              "      <td>1.000000</td>\n",
              "      <td>0.450666</td>\n",
              "      <td>0.096495</td>\n",
              "      <td>0.537210</td>\n",
              "      <td>-0.137757</td>\n",
              "    </tr>\n",
              "    <tr>\n",
              "      <th>Deaths/ 1M pop</th>\n",
              "      <td>0.221202</td>\n",
              "      <td>0.136808</td>\n",
              "      <td>0.289186</td>\n",
              "      <td>0.185083</td>\n",
              "      <td>0.225634</td>\n",
              "      <td>0.192232</td>\n",
              "      <td>-0.001689</td>\n",
              "      <td>0.015547</td>\n",
              "      <td>0.450666</td>\n",
              "      <td>1.000000</td>\n",
              "      <td>0.175040</td>\n",
              "      <td>0.249828</td>\n",
              "      <td>-0.067940</td>\n",
              "    </tr>\n",
              "    <tr>\n",
              "      <th>Total Tests</th>\n",
              "      <td>0.841121</td>\n",
              "      <td>0.460422</td>\n",
              "      <td>0.795439</td>\n",
              "      <td>0.439455</td>\n",
              "      <td>0.844311</td>\n",
              "      <td>0.506406</td>\n",
              "      <td>0.137036</td>\n",
              "      <td>0.295103</td>\n",
              "      <td>0.096495</td>\n",
              "      <td>0.175040</td>\n",
              "      <td>1.000000</td>\n",
              "      <td>0.214527</td>\n",
              "      <td>0.541920</td>\n",
              "    </tr>\n",
              "    <tr>\n",
              "      <th>Tests/ 1M pop</th>\n",
              "      <td>0.065813</td>\n",
              "      <td>0.047664</td>\n",
              "      <td>0.010114</td>\n",
              "      <td>-0.015982</td>\n",
              "      <td>0.070569</td>\n",
              "      <td>0.043791</td>\n",
              "      <td>-0.021244</td>\n",
              "      <td>-0.021689</td>\n",
              "      <td>0.537210</td>\n",
              "      <td>0.249828</td>\n",
              "      <td>0.214527</td>\n",
              "      <td>1.000000</td>\n",
              "      <td>-0.077003</td>\n",
              "    </tr>\n",
              "    <tr>\n",
              "      <th>Population</th>\n",
              "      <td>0.375731</td>\n",
              "      <td>0.134230</td>\n",
              "      <td>0.413453</td>\n",
              "      <td>0.172322</td>\n",
              "      <td>0.376675</td>\n",
              "      <td>0.161254</td>\n",
              "      <td>0.075374</td>\n",
              "      <td>0.682436</td>\n",
              "      <td>-0.137757</td>\n",
              "      <td>-0.067940</td>\n",
              "      <td>0.541920</td>\n",
              "      <td>-0.077003</td>\n",
              "      <td>1.000000</td>\n",
              "    </tr>\n",
              "  </tbody>\n",
              "</table>\n",
              "</div>\n",
              "      <button class=\"colab-df-convert\" onclick=\"convertToInteractive('df-151195f4-b28b-4bc2-b45d-f4b131cfeb50')\"\n",
              "              title=\"Convert this dataframe to an interactive table.\"\n",
              "              style=\"display:none;\">\n",
              "        \n",
              "  <svg xmlns=\"http://www.w3.org/2000/svg\" height=\"24px\"viewBox=\"0 0 24 24\"\n",
              "       width=\"24px\">\n",
              "    <path d=\"M0 0h24v24H0V0z\" fill=\"none\"/>\n",
              "    <path d=\"M18.56 5.44l.94 2.06.94-2.06 2.06-.94-2.06-.94-.94-2.06-.94 2.06-2.06.94zm-11 1L8.5 8.5l.94-2.06 2.06-.94-2.06-.94L8.5 2.5l-.94 2.06-2.06.94zm10 10l.94 2.06.94-2.06 2.06-.94-2.06-.94-.94-2.06-.94 2.06-2.06.94z\"/><path d=\"M17.41 7.96l-1.37-1.37c-.4-.4-.92-.59-1.43-.59-.52 0-1.04.2-1.43.59L10.3 9.45l-7.72 7.72c-.78.78-.78 2.05 0 2.83L4 21.41c.39.39.9.59 1.41.59.51 0 1.02-.2 1.41-.59l7.78-7.78 2.81-2.81c.8-.78.8-2.07 0-2.86zM5.41 20L4 18.59l7.72-7.72 1.47 1.35L5.41 20z\"/>\n",
              "  </svg>\n",
              "      </button>\n",
              "      \n",
              "  <style>\n",
              "    .colab-df-container {\n",
              "      display:flex;\n",
              "      flex-wrap:wrap;\n",
              "      gap: 12px;\n",
              "    }\n",
              "\n",
              "    .colab-df-convert {\n",
              "      background-color: #E8F0FE;\n",
              "      border: none;\n",
              "      border-radius: 50%;\n",
              "      cursor: pointer;\n",
              "      display: none;\n",
              "      fill: #1967D2;\n",
              "      height: 32px;\n",
              "      padding: 0 0 0 0;\n",
              "      width: 32px;\n",
              "    }\n",
              "\n",
              "    .colab-df-convert:hover {\n",
              "      background-color: #E2EBFA;\n",
              "      box-shadow: 0px 1px 2px rgba(60, 64, 67, 0.3), 0px 1px 3px 1px rgba(60, 64, 67, 0.15);\n",
              "      fill: #174EA6;\n",
              "    }\n",
              "\n",
              "    [theme=dark] .colab-df-convert {\n",
              "      background-color: #3B4455;\n",
              "      fill: #D2E3FC;\n",
              "    }\n",
              "\n",
              "    [theme=dark] .colab-df-convert:hover {\n",
              "      background-color: #434B5C;\n",
              "      box-shadow: 0px 1px 3px 1px rgba(0, 0, 0, 0.15);\n",
              "      filter: drop-shadow(0px 1px 2px rgba(0, 0, 0, 0.3));\n",
              "      fill: #FFFFFF;\n",
              "    }\n",
              "  </style>\n",
              "\n",
              "      <script>\n",
              "        const buttonEl =\n",
              "          document.querySelector('#df-151195f4-b28b-4bc2-b45d-f4b131cfeb50 button.colab-df-convert');\n",
              "        buttonEl.style.display =\n",
              "          google.colab.kernel.accessAllowed ? 'block' : 'none';\n",
              "\n",
              "        async function convertToInteractive(key) {\n",
              "          const element = document.querySelector('#df-151195f4-b28b-4bc2-b45d-f4b131cfeb50');\n",
              "          const dataTable =\n",
              "            await google.colab.kernel.invokeFunction('convertToInteractive',\n",
              "                                                     [key], {});\n",
              "          if (!dataTable) return;\n",
              "\n",
              "          const docLinkHtml = 'Like what you see? Visit the ' +\n",
              "            '<a target=\"_blank\" href=https://colab.research.google.com/notebooks/data_table.ipynb>data table notebook</a>'\n",
              "            + ' to learn more about interactive tables.';\n",
              "          element.innerHTML = '';\n",
              "          dataTable['output_type'] = 'display_data';\n",
              "          await google.colab.output.renderOutput(dataTable, element);\n",
              "          const docLink = document.createElement('div');\n",
              "          docLink.innerHTML = docLinkHtml;\n",
              "          element.appendChild(docLink);\n",
              "        }\n",
              "      </script>\n",
              "    </div>\n",
              "  </div>\n",
              "  "
            ]
          },
          "metadata": {},
          "execution_count": 8
        }
      ],
      "source": [
        "cor_matrix=df.corr()\n",
        "cor_matrix"
      ]
    },
    {
      "cell_type": "markdown",
      "id": "8b43d899",
      "metadata": {
        "id": "8b43d899"
      },
      "source": [
        "Correlation is a measure of the linear relationship between two variables. It ranges from -1 to 1, with -1 indicating a perfect negative correlation (when one variable goes up, the other goes down), 1 indicating a perfect positive correlation (when one variable goes up, the other goes up), and 0 indicating no correlation between the variables."
      ]
    },
    {
      "cell_type": "markdown",
      "id": "ec171197",
      "metadata": {
        "id": "ec171197"
      },
      "source": [
        "Now we come to find the data relationship by visualized for each column"
      ]
    },
    {
      "cell_type": "markdown",
      "id": "8a11bae5",
      "metadata": {
        "id": "8a11bae5"
      },
      "source": [
        "## 1. Total Cases"
      ]
    },
    {
      "cell_type": "code",
      "execution_count": null,
      "id": "07e0ddf4",
      "metadata": {
        "colab": {
          "base_uri": "https://localhost:8080/",
          "height": 263
        },
        "id": "07e0ddf4",
        "outputId": "1679cdc9-bcdc-4e02-96c6-23eb2dc4e3ba"
      },
      "outputs": [
        {
          "output_type": "display_data",
          "data": {
            "text/plain": [
              "<Figure size 432x288 with 1 Axes>"
            ],
            "image/png": "[encoded data removed]"
          },
          "metadata": {
            "needs_background": "light"
          }
        }
      ],
      "source": [
        "sns.boxplot( y=df[\"Total Cases\"] );\n",
        "plt.show()\n"
      ]
    },
    {
      "cell_type": "markdown",
      "id": "4718cca1",
      "metadata": {
        "id": "4718cca1"
      },
      "source": [
        "We can observe that the difference between the country with the highest total number of cases and almost all other countries is quite significant. Therefore, we will create a boxplot that excludes the country with the extreme number of cases to visualize the distribution of the remaining countries in the list."
      ]
    },
    {
      "cell_type": "code",
      "execution_count": null,
      "id": "4fe17dda",
      "metadata": {
        "colab": {
          "base_uri": "https://localhost:8080/",
          "height": 263
        },
        "id": "4fe17dda",
        "outputId": "77b64464-3a3a-4973-fb47-598aac0f812f"
      },
      "outputs": [
        {
          "output_type": "display_data",
          "data": {
            "text/plain": [
              "<Figure size 432x288 with 1 Axes>"
            ],
            "image/png": "[encoded data removed]"
          },
          "metadata": {
            "needs_background": "light"
          }
        }
      ],
      "source": [
        "q1 = df['Total Cases'].quantile(0.25)\n",
        "q3 = df['Total Cases'].quantile(0.75)\n",
        "iqr = q3 - q1\n",
        "totalCase = df[\"Total Cases\"][(df['Total Cases'] >= q1 - 1.5*iqr) & (df['Total Cases'] <= q3 + 1.5*iqr)]\n",
        "sns.boxplot( y= totalCase);\n",
        "plt.show()"
      ]
    },
    {
      "cell_type": "code",
      "execution_count": null,
      "id": "e02d2c29",
      "metadata": {
        "colab": {
          "base_uri": "https://localhost:8080/",
          "height": 279
        },
        "id": "e02d2c29",
        "outputId": "09f547ad-3e8c-41db-aa69-40c4795ab453"
      },
      "outputs": [
        {
          "output_type": "display_data",
          "data": {
            "text/plain": [
              "<Figure size 432x288 with 1 Axes>"
            ],
            "image/png": "[encoded data removed]"
          },
          "metadata": {
            "needs_background": "light"
          }
        }
      ],
      "source": [
        "sns.histplot(data=totalCase, kde=True);"
      ]
    },
    {
      "cell_type": "markdown",
      "id": "c206ce8a",
      "metadata": {
        "id": "c206ce8a"
      },
      "source": [
        "Almost all of the total cases are distributed between 10,000 and 3,000,000 cases. The distribution is left-skewed."
      ]
    },
    {
      "cell_type": "markdown",
      "id": "8e9101fd",
      "metadata": {
        "id": "8e9101fd"
      },
      "source": [
        "## 2. New Cases"
      ]
    },
    {
      "cell_type": "code",
      "execution_count": null,
      "id": "7605b564",
      "metadata": {
        "colab": {
          "base_uri": "https://localhost:8080/",
          "height": 252
        },
        "id": "7605b564",
        "outputId": "80933353-df8f-492a-a114-6a7f5bf6fe88"
      },
      "outputs": [
        {
          "output_type": "display_data",
          "data": {
            "text/plain": [
              "<Figure size 432x288 with 1 Axes>"
            ],
            "image/png": "[encoded data removed]"
          },
          "metadata": {
            "needs_background": "light"
          }
        }
      ],
      "source": [
        "sns.boxplot( y=df[\"New Cases\"] );\n",
        "plt.show()"
      ]
    },
    {
      "cell_type": "markdown",
      "id": "2d628251",
      "metadata": {
        "id": "2d628251"
      },
      "source": [
        "After observing a considerable difference in new cases between the maximum and minimum values, we will re-plot the data to visualize the distribution without the extreme values."
      ]
    },
    {
      "cell_type": "code",
      "execution_count": null,
      "id": "407b1929",
      "metadata": {
        "colab": {
          "base_uri": "https://localhost:8080/",
          "height": 252
        },
        "id": "407b1929",
        "outputId": "b3a47fec-6f16-4f8b-aad5-1469ef08929d"
      },
      "outputs": [
        {
          "output_type": "display_data",
          "data": {
            "text/plain": [
              "<Figure size 432x288 with 1 Axes>"
            ],
            "image/png": "[encoded data removed]"
          },
          "metadata": {
            "needs_background": "light"
          }
        }
      ],
      "source": [
        "q1 = df['New Cases'].quantile(0.25)\n",
        "q3 = df['New Cases'].quantile(0.75)\n",
        "iqr = q3 - q1\n",
        "newCase = df[\"New Cases\"][(df['New Cases'] >= q1 - 1.5*iqr) & (df['New Cases'] <= q3 + 1.5*iqr)]\n",
        "sns.boxplot( y= newCase);\n",
        "plt.show()"
      ]
    },
    {
      "cell_type": "code",
      "execution_count": null,
      "id": "81a15b17",
      "metadata": {
        "scrolled": true,
        "colab": {
          "base_uri": "https://localhost:8080/",
          "height": 279
        },
        "id": "81a15b17",
        "outputId": "04ef9f29-a7eb-426c-a701-832b1fa0cba8"
      },
      "outputs": [
        {
          "output_type": "display_data",
          "data": {
            "text/plain": [
              "<Figure size 432x288 with 1 Axes>"
            ],
            "image/png": "[encoded data removed]"
          },
          "metadata": {
            "needs_background": "light"
          }
        }
      ],
      "source": [
        "sns.histplot(data=newCase, kde=True);"
      ]
    },
    {
      "cell_type": "code",
      "source": [
        "import plotly.graph_objects as go\n",
        "new_case_week = week.groupby('day').sum()['New Cases']\n",
        "fig = go.Figure()\n",
        "fig.add_trace(go.Scatter(x=new_case_week.index, y=new_case_week.values,\n",
        "                    mode='lines',\n",
        "                    name='lines'))"
      ],
      "metadata": {
        "colab": {
          "base_uri": "https://localhost:8080/",
          "height": 542
        },
        "id": "Ja8SczigCBiG",
        "outputId": "ca4e18a2-ada7-49df-c899-90a689e520cd"
      },
      "id": "Ja8SczigCBiG",
      "execution_count": null,
      "outputs": [
        {
          "output_type": "display_data",
          "data": {
            "text/html": [
              "<html>\n",
              "<head><meta charset=\"utf-8\" /></head>\n",
              "<body>\n",
              "    <div>            <script src=\"https://cdnjs.cloudflare.com/ajax/libs/mathjax/2.7.5/MathJax.js?config=TeX-AMS-MML_SVG\"></script><script type=\"text/javascript\">if (window.MathJax) {MathJax.Hub.Config({SVG: {font: \"STIX-Web\"}});}</script>                <script type=\"text/javascript\">window.PlotlyConfig = {MathJaxConfig: 'local'};</script>\n",
              "        <script src=\"https://cdn.plot.ly/plotly-2.8.3.min.js\"></script>                <div id=\"cf33f2cd-4fee-45ca-ae3c-ffb76ee65b07\" class=\"plotly-graph-div\" style=\"height:525px; width:100%;\"></div>            <script type=\"text/javascript\">                                    window.PLOTLYENV=window.PLOTLYENV || {};                                    if (document.getElementById(\"cf33f2cd-4fee-45ca-ae3c-ffb76ee65b07\")) {                    Plotly.newPlot(                        \"cf33f2cd-4fee-45ca-ae3c-ffb76ee65b07\",                        [{\"mode\":\"lines\",\"name\":\"lines\",\"x\":[\"2023-02-22\",\"2023-02-23\",\"2023-02-24\",\"2023-02-25\",\"2023-02-26\",\"2023-02-27\",\"2023-02-28\"],\"y\":[152583,130788,56298,54075,69334,112539,94798],\"type\":\"scatter\"}],                        {\"template\":{\"data\":{\"bar\":[{\"error_x\":{\"color\":\"#2a3f5f\"},\"error_y\":{\"color\":\"#2a3f5f\"},\"marker\":{\"line\":{\"color\":\"#E5ECF6\",\"width\":0.5},\"pattern\":{\"fillmode\":\"overlay\",\"size\":10,\"solidity\":0.2}},\"type\":\"bar\"}],\"barpolar\":[{\"marker\":{\"line\":{\"color\":\"#E5ECF6\",\"width\":0.5},\"pattern\":{\"fillmode\":\"overlay\",\"size\":10,\"solidity\":0.2}},\"type\":\"barpolar\"}],\"carpet\":[{\"aaxis\":{\"endlinecolor\":\"#2a3f5f\",\"gridcolor\":\"white\",\"linecolor\":\"white\",\"minorgridcolor\":\"white\",\"startlinecolor\":\"#2a3f5f\"},\"baxis\":{\"endlinecolor\":\"#2a3f5f\",\"gridcolor\":\"white\",\"linecolor\":\"white\",\"minorgridcolor\":\"white\",\"startlinecolor\":\"#2a3f5f\"},\"type\":\"carpet\"}],\"choropleth\":[{\"colorbar\":{\"outlinewidth\":0,\"ticks\":\"\"},\"type\":\"choropleth\"}],\"contour\":[{\"colorbar\":{\"outlinewidth\":0,\"ticks\":\"\"},\"colorscale\":[[0.0,\"#0d0887\"],[0.1111111111111111,\"#46039f\"],[0.2222222222222222,\"#7201a8\"],[0.3333333333333333,\"#9c179e\"],[0.4444444444444444,\"#bd3786\"],[0.5555555555555556,\"#d8576b\"],[0.6666666666666666,\"#ed7953\"],[0.7777777777777778,\"#fb9f3a\"],[0.8888888888888888,\"#fdca26\"],[1.0,\"#f0f921\"]],\"type\":\"contour\"}],\"contourcarpet\":[{\"colorbar\":{\"outlinewidth\":0,\"ticks\":\"\"},\"type\":\"contourcarpet\"}],\"heatmap\":[{\"colorbar\":{\"outlinewidth\":0,\"ticks\":\"\"},\"colorscale\":[[0.0,\"#0d0887\"],[0.1111111111111111,\"#46039f\"],[0.2222222222222222,\"#7201a8\"],[0.3333333333333333,\"#9c179e\"],[0.4444444444444444,\"#bd3786\"],[0.5555555555555556,\"#d8576b\"],[0.6666666666666666,\"#ed7953\"],[0.7777777777777778,\"#fb9f3a\"],[0.8888888888888888,\"#fdca26\"],[1.0,\"#f0f921\"]],\"type\":\"heatmap\"}],\"heatmapgl\":[{\"colorbar\":{\"outlinewidth\":0,\"ticks\":\"\"},\"colorscale\":[[0.0,\"#0d0887\"],[0.1111111111111111,\"#46039f\"],[0.2222222222222222,\"#7201a8\"],[0.3333333333333333,\"#9c179e\"],[0.4444444444444444,\"#bd3786\"],[0.5555555555555556,\"#d8576b\"],[0.6666666666666666,\"#ed7953\"],[0.7777777777777778,\"#fb9f3a\"],[0.8888888888888888,\"#fdca26\"],[1.0,\"#f0f921\"]],\"type\":\"heatmapgl\"}],\"histogram\":[{\"marker\":{\"pattern\":{\"fillmode\":\"overlay\",\"size\":10,\"solidity\":0.2}},\"type\":\"histogram\"}],\"histogram2d\":[{\"colorbar\":{\"outlinewidth\":0,\"ticks\":\"\"},\"colorscale\":[[0.0,\"#0d0887\"],[0.1111111111111111,\"#46039f\"],[0.2222222222222222,\"#7201a8\"],[0.3333333333333333,\"#9c179e\"],[0.4444444444444444,\"#bd3786\"],[0.5555555555555556,\"#d8576b\"],[0.6666666666666666,\"#ed7953\"],[0.7777777777777778,\"#fb9f3a\"],[0.8888888888888888,\"#fdca26\"],[1.0,\"#f0f921\"]],\"type\":\"histogram2d\"}],\"histogram2dcontour\":[{\"colorbar\":{\"outlinewidth\":0,\"ticks\":\"\"},\"colorscale\":[[0.0,\"#0d0887\"],[0.1111111111111111,\"#46039f\"],[0.2222222222222222,\"#7201a8\"],[0.3333333333333333,\"#9c179e\"],[0.4444444444444444,\"#bd3786\"],[0.5555555555555556,\"#d8576b\"],[0.6666666666666666,\"#ed7953\"],[0.7777777777777778,\"#fb9f3a\"],[0.8888888888888888,\"#fdca26\"],[1.0,\"#f0f921\"]],\"type\":\"histogram2dcontour\"}],\"mesh3d\":[{\"colorbar\":{\"outlinewidth\":0,\"ticks\":\"\"},\"type\":\"mesh3d\"}],\"parcoords\":[{\"line\":{\"colorbar\":{\"outlinewidth\":0,\"ticks\":\"\"}},\"type\":\"parcoords\"}],\"pie\":[{\"automargin\":true,\"type\":\"pie\"}],\"scatter\":[{\"marker\":{\"colorbar\":{\"outlinewidth\":0,\"ticks\":\"\"}},\"type\":\"scatter\"}],\"scatter3d\":[{\"line\":{\"colorbar\":{\"outlinewidth\":0,\"ticks\":\"\"}},\"marker\":{\"colorbar\":{\"outlinewidth\":0,\"ticks\":\"\"}},\"type\":\"scatter3d\"}],\"scattercarpet\":[{\"marker\":{\"colorbar\":{\"outlinewidth\":0,\"ticks\":\"\"}},\"type\":\"scattercarpet\"}],\"scattergeo\":[{\"marker\":{\"colorbar\":{\"outlinewidth\":0,\"ticks\":\"\"}},\"type\":\"scattergeo\"}],\"scattergl\":[{\"marker\":{\"colorbar\":{\"outlinewidth\":0,\"ticks\":\"\"}},\"type\":\"scattergl\"}],\"scattermapbox\":[{\"marker\":{\"colorbar\":{\"outlinewidth\":0,\"ticks\":\"\"}},\"type\":\"scattermapbox\"}],\"scatterpolar\":[{\"marker\":{\"colorbar\":{\"outlinewidth\":0,\"ticks\":\"\"}},\"type\":\"scatterpolar\"}],\"scatterpolargl\":[{\"marker\":{\"colorbar\":{\"outlinewidth\":0,\"ticks\":\"\"}},\"type\":\"scatterpolargl\"}],\"scatterternary\":[{\"marker\":{\"colorbar\":{\"outlinewidth\":0,\"ticks\":\"\"}},\"type\":\"scatterternary\"}],\"surface\":[{\"colorbar\":{\"outlinewidth\":0,\"ticks\":\"\"},\"colorscale\":[[0.0,\"#0d0887\"],[0.1111111111111111,\"#46039f\"],[0.2222222222222222,\"#7201a8\"],[0.3333333333333333,\"#9c179e\"],[0.4444444444444444,\"#bd3786\"],[0.5555555555555556,\"#d8576b\"],[0.6666666666666666,\"#ed7953\"],[0.7777777777777778,\"#fb9f3a\"],[0.8888888888888888,\"#fdca26\"],[1.0,\"#f0f921\"]],\"type\":\"surface\"}],\"table\":[{\"cells\":{\"fill\":{\"color\":\"#EBF0F8\"},\"line\":{\"color\":\"white\"}},\"header\":{\"fill\":{\"color\":\"#C8D4E3\"},\"line\":{\"color\":\"white\"}},\"type\":\"table\"}]},\"layout\":{\"annotationdefaults\":{\"arrowcolor\":\"#2a3f5f\",\"arrowhead\":0,\"arrowwidth\":1},\"autotypenumbers\":\"strict\",\"coloraxis\":{\"colorbar\":{\"outlinewidth\":0,\"ticks\":\"\"}},\"colorscale\":{\"diverging\":[[0,\"#8e0152\"],[0.1,\"#c51b7d\"],[0.2,\"#de77ae\"],[0.3,\"#f1b6da\"],[0.4,\"#fde0ef\"],[0.5,\"#f7f7f7\"],[0.6,\"#e6f5d0\"],[0.7,\"#b8e186\"],[0.8,\"#7fbc41\"],[0.9,\"#4d9221\"],[1,\"#276419\"]],\"sequential\":[[0.0,\"#0d0887\"],[0.1111111111111111,\"#46039f\"],[0.2222222222222222,\"#7201a8\"],[0.3333333333333333,\"#9c179e\"],[0.4444444444444444,\"#bd3786\"],[0.5555555555555556,\"#d8576b\"],[0.6666666666666666,\"#ed7953\"],[0.7777777777777778,\"#fb9f3a\"],[0.8888888888888888,\"#fdca26\"],[1.0,\"#f0f921\"]],\"sequentialminus\":[[0.0,\"#0d0887\"],[0.1111111111111111,\"#46039f\"],[0.2222222222222222,\"#7201a8\"],[0.3333333333333333,\"#9c179e\"],[0.4444444444444444,\"#bd3786\"],[0.5555555555555556,\"#d8576b\"],[0.6666666666666666,\"#ed7953\"],[0.7777777777777778,\"#fb9f3a\"],[0.8888888888888888,\"#fdca26\"],[1.0,\"#f0f921\"]]},\"colorway\":[\"#636efa\",\"#EF553B\",\"#00cc96\",\"#ab63fa\",\"#FFA15A\",\"#19d3f3\",\"#FF6692\",\"#B6E880\",\"#FF97FF\",\"#FECB52\"],\"font\":{\"color\":\"#2a3f5f\"},\"geo\":{\"bgcolor\":\"white\",\"lakecolor\":\"white\",\"landcolor\":\"#E5ECF6\",\"showlakes\":true,\"showland\":true,\"subunitcolor\":\"white\"},\"hoverlabel\":{\"align\":\"left\"},\"hovermode\":\"closest\",\"mapbox\":{\"style\":\"light\"},\"paper_bgcolor\":\"white\",\"plot_bgcolor\":\"#E5ECF6\",\"polar\":{\"angularaxis\":{\"gridcolor\":\"white\",\"linecolor\":\"white\",\"ticks\":\"\"},\"bgcolor\":\"#E5ECF6\",\"radialaxis\":{\"gridcolor\":\"white\",\"linecolor\":\"white\",\"ticks\":\"\"}},\"scene\":{\"xaxis\":{\"backgroundcolor\":\"#E5ECF6\",\"gridcolor\":\"white\",\"gridwidth\":2,\"linecolor\":\"white\",\"showbackground\":true,\"ticks\":\"\",\"zerolinecolor\":\"white\"},\"yaxis\":{\"backgroundcolor\":\"#E5ECF6\",\"gridcolor\":\"white\",\"gridwidth\":2,\"linecolor\":\"white\",\"showbackground\":true,\"ticks\":\"\",\"zerolinecolor\":\"white\"},\"zaxis\":{\"backgroundcolor\":\"#E5ECF6\",\"gridcolor\":\"white\",\"gridwidth\":2,\"linecolor\":\"white\",\"showbackground\":true,\"ticks\":\"\",\"zerolinecolor\":\"white\"}},\"shapedefaults\":{\"line\":{\"color\":\"#2a3f5f\"}},\"ternary\":{\"aaxis\":{\"gridcolor\":\"white\",\"linecolor\":\"white\",\"ticks\":\"\"},\"baxis\":{\"gridcolor\":\"white\",\"linecolor\":\"white\",\"ticks\":\"\"},\"bgcolor\":\"#E5ECF6\",\"caxis\":{\"gridcolor\":\"white\",\"linecolor\":\"white\",\"ticks\":\"\"}},\"title\":{\"x\":0.05},\"xaxis\":{\"automargin\":true,\"gridcolor\":\"white\",\"linecolor\":\"white\",\"ticks\":\"\",\"title\":{\"standoff\":15},\"zerolinecolor\":\"white\",\"zerolinewidth\":2},\"yaxis\":{\"automargin\":true,\"gridcolor\":\"white\",\"linecolor\":\"white\",\"ticks\":\"\",\"title\":{\"standoff\":15},\"zerolinecolor\":\"white\",\"zerolinewidth\":2}}}},                        {\"responsive\": true}                    ).then(function(){\n",
              "                            \n",
              "var gd = document.getElementById('cf33f2cd-4fee-45ca-ae3c-ffb76ee65b07');\n",
              "var x = new MutationObserver(function (mutations, observer) {{\n",
              "        var display = window.getComputedStyle(gd).display;\n",
              "        if (!display || display === 'none') {{\n",
              "            console.log([gd, 'removed!']);\n",
              "            Plotly.purge(gd);\n",
              "            observer.disconnect();\n",
              "        }}\n",
              "}});\n",
              "\n",
              "// Listen for the removal of the full notebook cells\n",
              "var notebookContainer = gd.closest('#notebook-container');\n",
              "if (notebookContainer) {{\n",
              "    x.observe(notebookContainer, {childList: true});\n",
              "}}\n",
              "\n",
              "// Listen for the clearing of the current output cell\n",
              "var outputEl = gd.closest('.output');\n",
              "if (outputEl) {{\n",
              "    x.observe(outputEl, {childList: true});\n",
              "}}\n",
              "\n",
              "                        })                };                            </script>        </div>\n",
              "</body>\n",
              "</html>"
            ]
          },
          "metadata": {}
        }
      ]
    },
    {
      "cell_type": "markdown",
      "id": "1d5ff9ac",
      "metadata": {
        "id": "1d5ff9ac"
      },
      "source": [
        "## 3. Total Deaths "
      ]
    },
    {
      "cell_type": "code",
      "execution_count": null,
      "id": "6510a5ca",
      "metadata": {
        "scrolled": true,
        "colab": {
          "base_uri": "https://localhost:8080/",
          "height": 263
        },
        "id": "6510a5ca",
        "outputId": "a94611e4-32d7-4188-d5d2-7ac4626a72d5"
      },
      "outputs": [
        {
          "output_type": "display_data",
          "data": {
            "text/plain": [
              "<Figure size 432x288 with 1 Axes>"
            ],
            "image/png": "[encoded data removed]"
          },
          "metadata": {
            "needs_background": "light"
          }
        }
      ],
      "source": [
        "sns.boxplot( y=df[\"Total Deaths\"] );\n",
        "plt.show()"
      ]
    },
    {
      "cell_type": "code",
      "execution_count": null,
      "id": "47016c9c",
      "metadata": {
        "scrolled": true,
        "colab": {
          "base_uri": "https://localhost:8080/",
          "height": 279
        },
        "id": "47016c9c",
        "outputId": "1fbdff84-4dca-42e5-d927-faf2588423c4"
      },
      "outputs": [
        {
          "output_type": "display_data",
          "data": {
            "text/plain": [
              "<Figure size 432x288 with 1 Axes>"
            ],
            "image/png": "[encoded data removed]"
          },
          "metadata": {
            "needs_background": "light"
          }
        }
      ],
      "source": [
        "sns.histplot(data=IQR(df[\"Total Deaths\"]), kde=True);"
      ]
    },
    {
      "cell_type": "markdown",
      "id": "b13c5ef8",
      "metadata": {
        "id": "b13c5ef8"
      },
      "source": [
        "It is apparent that the majority of the nation's fatalities fall within the 1000 to 35,000 range."
      ]
    },
    {
      "cell_type": "markdown",
      "id": "939cd611",
      "metadata": {
        "id": "939cd611"
      },
      "source": [
        "## 4. New Deaths"
      ]
    },
    {
      "cell_type": "code",
      "execution_count": null,
      "id": "c4d7bed4",
      "metadata": {
        "scrolled": true,
        "colab": {
          "base_uri": "https://localhost:8080/",
          "height": 252
        },
        "id": "c4d7bed4",
        "outputId": "2d80da6b-092d-42a6-d759-0604d7c684fe"
      },
      "outputs": [
        {
          "output_type": "display_data",
          "data": {
            "text/plain": [
              "<Figure size 432x288 with 1 Axes>"
            ],
            "image/png": "[encoded data removed]"
          },
          "metadata": {
            "needs_background": "light"
          }
        }
      ],
      "source": [
        "sns.boxplot( y=df[\"New Deaths\"] );\n",
        "plt.show()"
      ]
    },
    {
      "cell_type": "code",
      "execution_count": null,
      "id": "fa1deed9",
      "metadata": {
        "scrolled": true,
        "colab": {
          "base_uri": "https://localhost:8080/",
          "height": 279
        },
        "id": "fa1deed9",
        "outputId": "2f02d307-2a4a-44d5-8c73-74cb18887deb"
      },
      "outputs": [
        {
          "output_type": "display_data",
          "data": {
            "text/plain": [
              "<Figure size 432x288 with 1 Axes>"
            ],
            "image/png": "[encoded data removed]"
          },
          "metadata": {
            "needs_background": "light"
          }
        }
      ],
      "source": [
        "sns.histplot(data=df[\"New Deaths\"], kde=True);"
      ]
    },
    {
      "cell_type": "markdown",
      "id": "1b9e31d2",
      "metadata": {
        "id": "1b9e31d2"
      },
      "source": [
        "It is apparent that the majority of the nation's fatalities fall within the 1000 to 35,000 range."
      ]
    },
    {
      "cell_type": "code",
      "source": [
        "new_deaths_week = week.groupby('day').sum()['New Deaths']\n",
        "fig = go.Figure()\n",
        "fig.add_trace(go.Scatter(x=new_deaths_week.index, y=new_deaths_week.values,\n",
        "                    mode='lines',\n",
        "                    name='lines'))"
      ],
      "metadata": {
        "colab": {
          "base_uri": "https://localhost:8080/",
          "height": 542
        },
        "id": "7dwBwF7MDssf",
        "outputId": "5363dada-0c97-45a7-8b60-4e48119a456f"
      },
      "id": "7dwBwF7MDssf",
      "execution_count": null,
      "outputs": [
        {
          "output_type": "display_data",
          "data": {
            "text/html": [
              "<html>\n",
              "<head><meta charset=\"utf-8\" /></head>\n",
              "<body>\n",
              "    <div>            <script src=\"https://cdnjs.cloudflare.com/ajax/libs/mathjax/2.7.5/MathJax.js?config=TeX-AMS-MML_SVG\"></script><script type=\"text/javascript\">if (window.MathJax) {MathJax.Hub.Config({SVG: {font: \"STIX-Web\"}});}</script>                <script type=\"text/javascript\">window.PlotlyConfig = {MathJaxConfig: 'local'};</script>\n",
              "        <script src=\"https://cdn.plot.ly/plotly-2.8.3.min.js\"></script>                <div id=\"1b7155f1-3ec8-4745-a004-82cebc1ac789\" class=\"plotly-graph-div\" style=\"height:525px; width:100%;\"></div>            <script type=\"text/javascript\">                                    window.PLOTLYENV=window.PLOTLYENV || {};                                    if (document.getElementById(\"1b7155f1-3ec8-4745-a004-82cebc1ac789\")) {                    Plotly.newPlot(                        \"1b7155f1-3ec8-4745-a004-82cebc1ac789\",                        [{\"mode\":\"lines\",\"name\":\"lines\",\"x\":[\"2023-02-22\",\"2023-02-23\",\"2023-02-24\",\"2023-02-25\",\"2023-02-26\",\"2023-02-27\",\"2023-02-28\"],\"y\":[1112.0,1106.0,296.0,205.0,227.0,693.0,485.0],\"type\":\"scatter\"}],                        {\"template\":{\"data\":{\"bar\":[{\"error_x\":{\"color\":\"#2a3f5f\"},\"error_y\":{\"color\":\"#2a3f5f\"},\"marker\":{\"line\":{\"color\":\"#E5ECF6\",\"width\":0.5},\"pattern\":{\"fillmode\":\"overlay\",\"size\":10,\"solidity\":0.2}},\"type\":\"bar\"}],\"barpolar\":[{\"marker\":{\"line\":{\"color\":\"#E5ECF6\",\"width\":0.5},\"pattern\":{\"fillmode\":\"overlay\",\"size\":10,\"solidity\":0.2}},\"type\":\"barpolar\"}],\"carpet\":[{\"aaxis\":{\"endlinecolor\":\"#2a3f5f\",\"gridcolor\":\"white\",\"linecolor\":\"white\",\"minorgridcolor\":\"white\",\"startlinecolor\":\"#2a3f5f\"},\"baxis\":{\"endlinecolor\":\"#2a3f5f\",\"gridcolor\":\"white\",\"linecolor\":\"white\",\"minorgridcolor\":\"white\",\"startlinecolor\":\"#2a3f5f\"},\"type\":\"carpet\"}],\"choropleth\":[{\"colorbar\":{\"outlinewidth\":0,\"ticks\":\"\"},\"type\":\"choropleth\"}],\"contour\":[{\"colorbar\":{\"outlinewidth\":0,\"ticks\":\"\"},\"colorscale\":[[0.0,\"#0d0887\"],[0.1111111111111111,\"#46039f\"],[0.2222222222222222,\"#7201a8\"],[0.3333333333333333,\"#9c179e\"],[0.4444444444444444,\"#bd3786\"],[0.5555555555555556,\"#d8576b\"],[0.6666666666666666,\"#ed7953\"],[0.7777777777777778,\"#fb9f3a\"],[0.8888888888888888,\"#fdca26\"],[1.0,\"#f0f921\"]],\"type\":\"contour\"}],\"contourcarpet\":[{\"colorbar\":{\"outlinewidth\":0,\"ticks\":\"\"},\"type\":\"contourcarpet\"}],\"heatmap\":[{\"colorbar\":{\"outlinewidth\":0,\"ticks\":\"\"},\"colorscale\":[[0.0,\"#0d0887\"],[0.1111111111111111,\"#46039f\"],[0.2222222222222222,\"#7201a8\"],[0.3333333333333333,\"#9c179e\"],[0.4444444444444444,\"#bd3786\"],[0.5555555555555556,\"#d8576b\"],[0.6666666666666666,\"#ed7953\"],[0.7777777777777778,\"#fb9f3a\"],[0.8888888888888888,\"#fdca26\"],[1.0,\"#f0f921\"]],\"type\":\"heatmap\"}],\"heatmapgl\":[{\"colorbar\":{\"outlinewidth\":0,\"ticks\":\"\"},\"colorscale\":[[0.0,\"#0d0887\"],[0.1111111111111111,\"#46039f\"],[0.2222222222222222,\"#7201a8\"],[0.3333333333333333,\"#9c179e\"],[0.4444444444444444,\"#bd3786\"],[0.5555555555555556,\"#d8576b\"],[0.6666666666666666,\"#ed7953\"],[0.7777777777777778,\"#fb9f3a\"],[0.8888888888888888,\"#fdca26\"],[1.0,\"#f0f921\"]],\"type\":\"heatmapgl\"}],\"histogram\":[{\"marker\":{\"pattern\":{\"fillmode\":\"overlay\",\"size\":10,\"solidity\":0.2}},\"type\":\"histogram\"}],\"histogram2d\":[{\"colorbar\":{\"outlinewidth\":0,\"ticks\":\"\"},\"colorscale\":[[0.0,\"#0d0887\"],[0.1111111111111111,\"#46039f\"],[0.2222222222222222,\"#7201a8\"],[0.3333333333333333,\"#9c179e\"],[0.4444444444444444,\"#bd3786\"],[0.5555555555555556,\"#d8576b\"],[0.6666666666666666,\"#ed7953\"],[0.7777777777777778,\"#fb9f3a\"],[0.8888888888888888,\"#fdca26\"],[1.0,\"#f0f921\"]],\"type\":\"histogram2d\"}],\"histogram2dcontour\":[{\"colorbar\":{\"outlinewidth\":0,\"ticks\":\"\"},\"colorscale\":[[0.0,\"#0d0887\"],[0.1111111111111111,\"#46039f\"],[0.2222222222222222,\"#7201a8\"],[0.3333333333333333,\"#9c179e\"],[0.4444444444444444,\"#bd3786\"],[0.5555555555555556,\"#d8576b\"],[0.6666666666666666,\"#ed7953\"],[0.7777777777777778,\"#fb9f3a\"],[0.8888888888888888,\"#fdca26\"],[1.0,\"#f0f921\"]],\"type\":\"histogram2dcontour\"}],\"mesh3d\":[{\"colorbar\":{\"outlinewidth\":0,\"ticks\":\"\"},\"type\":\"mesh3d\"}],\"parcoords\":[{\"line\":{\"colorbar\":{\"outlinewidth\":0,\"ticks\":\"\"}},\"type\":\"parcoords\"}],\"pie\":[{\"automargin\":true,\"type\":\"pie\"}],\"scatter\":[{\"marker\":{\"colorbar\":{\"outlinewidth\":0,\"ticks\":\"\"}},\"type\":\"scatter\"}],\"scatter3d\":[{\"line\":{\"colorbar\":{\"outlinewidth\":0,\"ticks\":\"\"}},\"marker\":{\"colorbar\":{\"outlinewidth\":0,\"ticks\":\"\"}},\"type\":\"scatter3d\"}],\"scattercarpet\":[{\"marker\":{\"colorbar\":{\"outlinewidth\":0,\"ticks\":\"\"}},\"type\":\"scattercarpet\"}],\"scattergeo\":[{\"marker\":{\"colorbar\":{\"outlinewidth\":0,\"ticks\":\"\"}},\"type\":\"scattergeo\"}],\"scattergl\":[{\"marker\":{\"colorbar\":{\"outlinewidth\":0,\"ticks\":\"\"}},\"type\":\"scattergl\"}],\"scattermapbox\":[{\"marker\":{\"colorbar\":{\"outlinewidth\":0,\"ticks\":\"\"}},\"type\":\"scattermapbox\"}],\"scatterpolar\":[{\"marker\":{\"colorbar\":{\"outlinewidth\":0,\"ticks\":\"\"}},\"type\":\"scatterpolar\"}],\"scatterpolargl\":[{\"marker\":{\"colorbar\":{\"outlinewidth\":0,\"ticks\":\"\"}},\"type\":\"scatterpolargl\"}],\"scatterternary\":[{\"marker\":{\"colorbar\":{\"outlinewidth\":0,\"ticks\":\"\"}},\"type\":\"scatterternary\"}],\"surface\":[{\"colorbar\":{\"outlinewidth\":0,\"ticks\":\"\"},\"colorscale\":[[0.0,\"#0d0887\"],[0.1111111111111111,\"#46039f\"],[0.2222222222222222,\"#7201a8\"],[0.3333333333333333,\"#9c179e\"],[0.4444444444444444,\"#bd3786\"],[0.5555555555555556,\"#d8576b\"],[0.6666666666666666,\"#ed7953\"],[0.7777777777777778,\"#fb9f3a\"],[0.8888888888888888,\"#fdca26\"],[1.0,\"#f0f921\"]],\"type\":\"surface\"}],\"table\":[{\"cells\":{\"fill\":{\"color\":\"#EBF0F8\"},\"line\":{\"color\":\"white\"}},\"header\":{\"fill\":{\"color\":\"#C8D4E3\"},\"line\":{\"color\":\"white\"}},\"type\":\"table\"}]},\"layout\":{\"annotationdefaults\":{\"arrowcolor\":\"#2a3f5f\",\"arrowhead\":0,\"arrowwidth\":1},\"autotypenumbers\":\"strict\",\"coloraxis\":{\"colorbar\":{\"outlinewidth\":0,\"ticks\":\"\"}},\"colorscale\":{\"diverging\":[[0,\"#8e0152\"],[0.1,\"#c51b7d\"],[0.2,\"#de77ae\"],[0.3,\"#f1b6da\"],[0.4,\"#fde0ef\"],[0.5,\"#f7f7f7\"],[0.6,\"#e6f5d0\"],[0.7,\"#b8e186\"],[0.8,\"#7fbc41\"],[0.9,\"#4d9221\"],[1,\"#276419\"]],\"sequential\":[[0.0,\"#0d0887\"],[0.1111111111111111,\"#46039f\"],[0.2222222222222222,\"#7201a8\"],[0.3333333333333333,\"#9c179e\"],[0.4444444444444444,\"#bd3786\"],[0.5555555555555556,\"#d8576b\"],[0.6666666666666666,\"#ed7953\"],[0.7777777777777778,\"#fb9f3a\"],[0.8888888888888888,\"#fdca26\"],[1.0,\"#f0f921\"]],\"sequentialminus\":[[0.0,\"#0d0887\"],[0.1111111111111111,\"#46039f\"],[0.2222222222222222,\"#7201a8\"],[0.3333333333333333,\"#9c179e\"],[0.4444444444444444,\"#bd3786\"],[0.5555555555555556,\"#d8576b\"],[0.6666666666666666,\"#ed7953\"],[0.7777777777777778,\"#fb9f3a\"],[0.8888888888888888,\"#fdca26\"],[1.0,\"#f0f921\"]]},\"colorway\":[\"#636efa\",\"#EF553B\",\"#00cc96\",\"#ab63fa\",\"#FFA15A\",\"#19d3f3\",\"#FF6692\",\"#B6E880\",\"#FF97FF\",\"#FECB52\"],\"font\":{\"color\":\"#2a3f5f\"},\"geo\":{\"bgcolor\":\"white\",\"lakecolor\":\"white\",\"landcolor\":\"#E5ECF6\",\"showlakes\":true,\"showland\":true,\"subunitcolor\":\"white\"},\"hoverlabel\":{\"align\":\"left\"},\"hovermode\":\"closest\",\"mapbox\":{\"style\":\"light\"},\"paper_bgcolor\":\"white\",\"plot_bgcolor\":\"#E5ECF6\",\"polar\":{\"angularaxis\":{\"gridcolor\":\"white\",\"linecolor\":\"white\",\"ticks\":\"\"},\"bgcolor\":\"#E5ECF6\",\"radialaxis\":{\"gridcolor\":\"white\",\"linecolor\":\"white\",\"ticks\":\"\"}},\"scene\":{\"xaxis\":{\"backgroundcolor\":\"#E5ECF6\",\"gridcolor\":\"white\",\"gridwidth\":2,\"linecolor\":\"white\",\"showbackground\":true,\"ticks\":\"\",\"zerolinecolor\":\"white\"},\"yaxis\":{\"backgroundcolor\":\"#E5ECF6\",\"gridcolor\":\"white\",\"gridwidth\":2,\"linecolor\":\"white\",\"showbackground\":true,\"ticks\":\"\",\"zerolinecolor\":\"white\"},\"zaxis\":{\"backgroundcolor\":\"#E5ECF6\",\"gridcolor\":\"white\",\"gridwidth\":2,\"linecolor\":\"white\",\"showbackground\":true,\"ticks\":\"\",\"zerolinecolor\":\"white\"}},\"shapedefaults\":{\"line\":{\"color\":\"#2a3f5f\"}},\"ternary\":{\"aaxis\":{\"gridcolor\":\"white\",\"linecolor\":\"white\",\"ticks\":\"\"},\"baxis\":{\"gridcolor\":\"white\",\"linecolor\":\"white\",\"ticks\":\"\"},\"bgcolor\":\"#E5ECF6\",\"caxis\":{\"gridcolor\":\"white\",\"linecolor\":\"white\",\"ticks\":\"\"}},\"title\":{\"x\":0.05},\"xaxis\":{\"automargin\":true,\"gridcolor\":\"white\",\"linecolor\":\"white\",\"ticks\":\"\",\"title\":{\"standoff\":15},\"zerolinecolor\":\"white\",\"zerolinewidth\":2},\"yaxis\":{\"automargin\":true,\"gridcolor\":\"white\",\"linecolor\":\"white\",\"ticks\":\"\",\"title\":{\"standoff\":15},\"zerolinecolor\":\"white\",\"zerolinewidth\":2}}}},                        {\"responsive\": true}                    ).then(function(){\n",
              "                            \n",
              "var gd = document.getElementById('1b7155f1-3ec8-4745-a004-82cebc1ac789');\n",
              "var x = new MutationObserver(function (mutations, observer) {{\n",
              "        var display = window.getComputedStyle(gd).display;\n",
              "        if (!display || display === 'none') {{\n",
              "            console.log([gd, 'removed!']);\n",
              "            Plotly.purge(gd);\n",
              "            observer.disconnect();\n",
              "        }}\n",
              "}});\n",
              "\n",
              "// Listen for the removal of the full notebook cells\n",
              "var notebookContainer = gd.closest('#notebook-container');\n",
              "if (notebookContainer) {{\n",
              "    x.observe(notebookContainer, {childList: true});\n",
              "}}\n",
              "\n",
              "// Listen for the clearing of the current output cell\n",
              "var outputEl = gd.closest('.output');\n",
              "if (outputEl) {{\n",
              "    x.observe(outputEl, {childList: true});\n",
              "}}\n",
              "\n",
              "                        })                };                            </script>        </div>\n",
              "</body>\n",
              "</html>"
            ]
          },
          "metadata": {}
        }
      ]
    },
    {
      "cell_type": "markdown",
      "id": "d8562f7b",
      "metadata": {
        "id": "d8562f7b"
      },
      "source": [
        "## 5. Total Recovered"
      ]
    },
    {
      "cell_type": "code",
      "execution_count": null,
      "id": "3c5a4161",
      "metadata": {
        "scrolled": true,
        "colab": {
          "base_uri": "https://localhost:8080/",
          "height": 263
        },
        "id": "3c5a4161",
        "outputId": "68920051-0610-4d85-c340-cf9090922463"
      },
      "outputs": [
        {
          "output_type": "display_data",
          "data": {
            "text/plain": [
              "<Figure size 432x288 with 1 Axes>"
            ],
            "image/png": "[encoded data removed]"
          },
          "metadata": {
            "needs_background": "light"
          }
        }
      ],
      "source": [
        "sns.boxplot( y=df[\"Total Recovered\"] );\n",
        "plt.show()"
      ]
    },
    {
      "cell_type": "code",
      "execution_count": null,
      "id": "fddc7ba3",
      "metadata": {
        "scrolled": true,
        "colab": {
          "base_uri": "https://localhost:8080/",
          "height": 279
        },
        "id": "fddc7ba3",
        "outputId": "0d0a425d-8610-4491-dabe-35285dd4c886"
      },
      "outputs": [
        {
          "output_type": "display_data",
          "data": {
            "text/plain": [
              "<Figure size 432x288 with 1 Axes>"
            ],
            "image/png": "[encoded data removed]"
          },
          "metadata": {
            "needs_background": "light"
          }
        }
      ],
      "source": [
        "sns.histplot(data=IQR(df[\"Total Recovered\"]), kde=True);"
      ]
    },
    {
      "cell_type": "markdown",
      "id": "6f483452",
      "metadata": {
        "id": "6f483452"
      },
      "source": [
        "It is apparent that the majority of the nation's fatalities fall within the 1000 to 35,000 range."
      ]
    },
    {
      "cell_type": "code",
      "execution_count": null,
      "id": "276d4585",
      "metadata": {
        "id": "276d4585"
      },
      "outputs": [],
      "source": []
    },
    {
      "cell_type": "markdown",
      "id": "92ebe237",
      "metadata": {
        "id": "92ebe237"
      },
      "source": [
        "## 6. New Recovered"
      ]
    },
    {
      "cell_type": "code",
      "execution_count": null,
      "id": "9a9c5974",
      "metadata": {
        "scrolled": true,
        "colab": {
          "base_uri": "https://localhost:8080/",
          "height": 252
        },
        "id": "9a9c5974",
        "outputId": "c63b3923-9686-4520-dac6-1a72b416720a"
      },
      "outputs": [
        {
          "output_type": "display_data",
          "data": {
            "text/plain": [
              "<Figure size 432x288 with 1 Axes>"
            ],
            "image/png": "[encoded data removed]"
          },
          "metadata": {
            "needs_background": "light"
          }
        }
      ],
      "source": [
        "sns.boxplot( y=df[\"New Recovered\"] );\n",
        "plt.show()"
      ]
    },
    {
      "cell_type": "code",
      "execution_count": null,
      "id": "5a8ed907",
      "metadata": {
        "scrolled": true,
        "colab": {
          "base_uri": "https://localhost:8080/",
          "height": 279
        },
        "id": "5a8ed907",
        "outputId": "053128f4-c8fb-4153-9917-8fdbdc535992"
      },
      "outputs": [
        {
          "output_type": "display_data",
          "data": {
            "text/plain": [
              "<Figure size 432x288 with 1 Axes>"
            ],
            "image/png": "[encoded data removed]"
          },
          "metadata": {
            "needs_background": "light"
          }
        }
      ],
      "source": [
        "sns.histplot(data=IQR(df[\"New Recovered\"]), kde=True);"
      ]
    },
    {
      "cell_type": "markdown",
      "id": "854fcd30",
      "metadata": {
        "id": "854fcd30"
      },
      "source": [
        "It is apparent that the majority of the nation's fatalities fall within the 1000 to 35,000 range."
      ]
    },
    {
      "cell_type": "code",
      "source": [
        "new_recovered_week = week.groupby('day')['New Recovered'].sum()\n",
        "fig = go.Figure()\n",
        "fig.add_trace(go.Scatter(x=new_recovered_week.index, y=new_recovered_week.values,\n",
        "                    mode='lines',\n",
        "                    name='lines'))"
      ],
      "metadata": {
        "colab": {
          "base_uri": "https://localhost:8080/",
          "height": 542
        },
        "id": "zhuoVKxaD1Zy",
        "outputId": "43420590-1f96-44a4-c0d4-48eb91bb29bc"
      },
      "id": "zhuoVKxaD1Zy",
      "execution_count": null,
      "outputs": [
        {
          "output_type": "display_data",
          "data": {
            "text/html": [
              "<html>\n",
              "<head><meta charset=\"utf-8\" /></head>\n",
              "<body>\n",
              "    <div>            <script src=\"https://cdnjs.cloudflare.com/ajax/libs/mathjax/2.7.5/MathJax.js?config=TeX-AMS-MML_SVG\"></script><script type=\"text/javascript\">if (window.MathJax) {MathJax.Hub.Config({SVG: {font: \"STIX-Web\"}});}</script>                <script type=\"text/javascript\">window.PlotlyConfig = {MathJaxConfig: 'local'};</script>\n",
              "        <script src=\"https://cdn.plot.ly/plotly-2.8.3.min.js\"></script>                <div id=\"031fc3a9-14dc-41e4-b0d2-8a674ec47df8\" class=\"plotly-graph-div\" style=\"height:525px; width:100%;\"></div>            <script type=\"text/javascript\">                                    window.PLOTLYENV=window.PLOTLYENV || {};                                    if (document.getElementById(\"031fc3a9-14dc-41e4-b0d2-8a674ec47df8\")) {                    Plotly.newPlot(                        \"031fc3a9-14dc-41e4-b0d2-8a674ec47df8\",                        [{\"mode\":\"lines\",\"name\":\"lines\",\"x\":[\"2023-02-22\",\"2023-02-23\",\"2023-02-24\",\"2023-02-25\",\"2023-02-26\",\"2023-02-27\",\"2023-02-28\"],\"y\":[229969,193015,64117,71137,104182,157338,148943],\"type\":\"scatter\"}],                        {\"template\":{\"data\":{\"bar\":[{\"error_x\":{\"color\":\"#2a3f5f\"},\"error_y\":{\"color\":\"#2a3f5f\"},\"marker\":{\"line\":{\"color\":\"#E5ECF6\",\"width\":0.5},\"pattern\":{\"fillmode\":\"overlay\",\"size\":10,\"solidity\":0.2}},\"type\":\"bar\"}],\"barpolar\":[{\"marker\":{\"line\":{\"color\":\"#E5ECF6\",\"width\":0.5},\"pattern\":{\"fillmode\":\"overlay\",\"size\":10,\"solidity\":0.2}},\"type\":\"barpolar\"}],\"carpet\":[{\"aaxis\":{\"endlinecolor\":\"#2a3f5f\",\"gridcolor\":\"white\",\"linecolor\":\"white\",\"minorgridcolor\":\"white\",\"startlinecolor\":\"#2a3f5f\"},\"baxis\":{\"endlinecolor\":\"#2a3f5f\",\"gridcolor\":\"white\",\"linecolor\":\"white\",\"minorgridcolor\":\"white\",\"startlinecolor\":\"#2a3f5f\"},\"type\":\"carpet\"}],\"choropleth\":[{\"colorbar\":{\"outlinewidth\":0,\"ticks\":\"\"},\"type\":\"choropleth\"}],\"contour\":[{\"colorbar\":{\"outlinewidth\":0,\"ticks\":\"\"},\"colorscale\":[[0.0,\"#0d0887\"],[0.1111111111111111,\"#46039f\"],[0.2222222222222222,\"#7201a8\"],[0.3333333333333333,\"#9c179e\"],[0.4444444444444444,\"#bd3786\"],[0.5555555555555556,\"#d8576b\"],[0.6666666666666666,\"#ed7953\"],[0.7777777777777778,\"#fb9f3a\"],[0.8888888888888888,\"#fdca26\"],[1.0,\"#f0f921\"]],\"type\":\"contour\"}],\"contourcarpet\":[{\"colorbar\":{\"outlinewidth\":0,\"ticks\":\"\"},\"type\":\"contourcarpet\"}],\"heatmap\":[{\"colorbar\":{\"outlinewidth\":0,\"ticks\":\"\"},\"colorscale\":[[0.0,\"#0d0887\"],[0.1111111111111111,\"#46039f\"],[0.2222222222222222,\"#7201a8\"],[0.3333333333333333,\"#9c179e\"],[0.4444444444444444,\"#bd3786\"],[0.5555555555555556,\"#d8576b\"],[0.6666666666666666,\"#ed7953\"],[0.7777777777777778,\"#fb9f3a\"],[0.8888888888888888,\"#fdca26\"],[1.0,\"#f0f921\"]],\"type\":\"heatmap\"}],\"heatmapgl\":[{\"colorbar\":{\"outlinewidth\":0,\"ticks\":\"\"},\"colorscale\":[[0.0,\"#0d0887\"],[0.1111111111111111,\"#46039f\"],[0.2222222222222222,\"#7201a8\"],[0.3333333333333333,\"#9c179e\"],[0.4444444444444444,\"#bd3786\"],[0.5555555555555556,\"#d8576b\"],[0.6666666666666666,\"#ed7953\"],[0.7777777777777778,\"#fb9f3a\"],[0.8888888888888888,\"#fdca26\"],[1.0,\"#f0f921\"]],\"type\":\"heatmapgl\"}],\"histogram\":[{\"marker\":{\"pattern\":{\"fillmode\":\"overlay\",\"size\":10,\"solidity\":0.2}},\"type\":\"histogram\"}],\"histogram2d\":[{\"colorbar\":{\"outlinewidth\":0,\"ticks\":\"\"},\"colorscale\":[[0.0,\"#0d0887\"],[0.1111111111111111,\"#46039f\"],[0.2222222222222222,\"#7201a8\"],[0.3333333333333333,\"#9c179e\"],[0.4444444444444444,\"#bd3786\"],[0.5555555555555556,\"#d8576b\"],[0.6666666666666666,\"#ed7953\"],[0.7777777777777778,\"#fb9f3a\"],[0.8888888888888888,\"#fdca26\"],[1.0,\"#f0f921\"]],\"type\":\"histogram2d\"}],\"histogram2dcontour\":[{\"colorbar\":{\"outlinewidth\":0,\"ticks\":\"\"},\"colorscale\":[[0.0,\"#0d0887\"],[0.1111111111111111,\"#46039f\"],[0.2222222222222222,\"#7201a8\"],[0.3333333333333333,\"#9c179e\"],[0.4444444444444444,\"#bd3786\"],[0.5555555555555556,\"#d8576b\"],[0.6666666666666666,\"#ed7953\"],[0.7777777777777778,\"#fb9f3a\"],[0.8888888888888888,\"#fdca26\"],[1.0,\"#f0f921\"]],\"type\":\"histogram2dcontour\"}],\"mesh3d\":[{\"colorbar\":{\"outlinewidth\":0,\"ticks\":\"\"},\"type\":\"mesh3d\"}],\"parcoords\":[{\"line\":{\"colorbar\":{\"outlinewidth\":0,\"ticks\":\"\"}},\"type\":\"parcoords\"}],\"pie\":[{\"automargin\":true,\"type\":\"pie\"}],\"scatter\":[{\"marker\":{\"colorbar\":{\"outlinewidth\":0,\"ticks\":\"\"}},\"type\":\"scatter\"}],\"scatter3d\":[{\"line\":{\"colorbar\":{\"outlinewidth\":0,\"ticks\":\"\"}},\"marker\":{\"colorbar\":{\"outlinewidth\":0,\"ticks\":\"\"}},\"type\":\"scatter3d\"}],\"scattercarpet\":[{\"marker\":{\"colorbar\":{\"outlinewidth\":0,\"ticks\":\"\"}},\"type\":\"scattercarpet\"}],\"scattergeo\":[{\"marker\":{\"colorbar\":{\"outlinewidth\":0,\"ticks\":\"\"}},\"type\":\"scattergeo\"}],\"scattergl\":[{\"marker\":{\"colorbar\":{\"outlinewidth\":0,\"ticks\":\"\"}},\"type\":\"scattergl\"}],\"scattermapbox\":[{\"marker\":{\"colorbar\":{\"outlinewidth\":0,\"ticks\":\"\"}},\"type\":\"scattermapbox\"}],\"scatterpolar\":[{\"marker\":{\"colorbar\":{\"outlinewidth\":0,\"ticks\":\"\"}},\"type\":\"scatterpolar\"}],\"scatterpolargl\":[{\"marker\":{\"colorbar\":{\"outlinewidth\":0,\"ticks\":\"\"}},\"type\":\"scatterpolargl\"}],\"scatterternary\":[{\"marker\":{\"colorbar\":{\"outlinewidth\":0,\"ticks\":\"\"}},\"type\":\"scatterternary\"}],\"surface\":[{\"colorbar\":{\"outlinewidth\":0,\"ticks\":\"\"},\"colorscale\":[[0.0,\"#0d0887\"],[0.1111111111111111,\"#46039f\"],[0.2222222222222222,\"#7201a8\"],[0.3333333333333333,\"#9c179e\"],[0.4444444444444444,\"#bd3786\"],[0.5555555555555556,\"#d8576b\"],[0.6666666666666666,\"#ed7953\"],[0.7777777777777778,\"#fb9f3a\"],[0.8888888888888888,\"#fdca26\"],[1.0,\"#f0f921\"]],\"type\":\"surface\"}],\"table\":[{\"cells\":{\"fill\":{\"color\":\"#EBF0F8\"},\"line\":{\"color\":\"white\"}},\"header\":{\"fill\":{\"color\":\"#C8D4E3\"},\"line\":{\"color\":\"white\"}},\"type\":\"table\"}]},\"layout\":{\"annotationdefaults\":{\"arrowcolor\":\"#2a3f5f\",\"arrowhead\":0,\"arrowwidth\":1},\"autotypenumbers\":\"strict\",\"coloraxis\":{\"colorbar\":{\"outlinewidth\":0,\"ticks\":\"\"}},\"colorscale\":{\"diverging\":[[0,\"#8e0152\"],[0.1,\"#c51b7d\"],[0.2,\"#de77ae\"],[0.3,\"#f1b6da\"],[0.4,\"#fde0ef\"],[0.5,\"#f7f7f7\"],[0.6,\"#e6f5d0\"],[0.7,\"#b8e186\"],[0.8,\"#7fbc41\"],[0.9,\"#4d9221\"],[1,\"#276419\"]],\"sequential\":[[0.0,\"#0d0887\"],[0.1111111111111111,\"#46039f\"],[0.2222222222222222,\"#7201a8\"],[0.3333333333333333,\"#9c179e\"],[0.4444444444444444,\"#bd3786\"],[0.5555555555555556,\"#d8576b\"],[0.6666666666666666,\"#ed7953\"],[0.7777777777777778,\"#fb9f3a\"],[0.8888888888888888,\"#fdca26\"],[1.0,\"#f0f921\"]],\"sequentialminus\":[[0.0,\"#0d0887\"],[0.1111111111111111,\"#46039f\"],[0.2222222222222222,\"#7201a8\"],[0.3333333333333333,\"#9c179e\"],[0.4444444444444444,\"#bd3786\"],[0.5555555555555556,\"#d8576b\"],[0.6666666666666666,\"#ed7953\"],[0.7777777777777778,\"#fb9f3a\"],[0.8888888888888888,\"#fdca26\"],[1.0,\"#f0f921\"]]},\"colorway\":[\"#636efa\",\"#EF553B\",\"#00cc96\",\"#ab63fa\",\"#FFA15A\",\"#19d3f3\",\"#FF6692\",\"#B6E880\",\"#FF97FF\",\"#FECB52\"],\"font\":{\"color\":\"#2a3f5f\"},\"geo\":{\"bgcolor\":\"white\",\"lakecolor\":\"white\",\"landcolor\":\"#E5ECF6\",\"showlakes\":true,\"showland\":true,\"subunitcolor\":\"white\"},\"hoverlabel\":{\"align\":\"left\"},\"hovermode\":\"closest\",\"mapbox\":{\"style\":\"light\"},\"paper_bgcolor\":\"white\",\"plot_bgcolor\":\"#E5ECF6\",\"polar\":{\"angularaxis\":{\"gridcolor\":\"white\",\"linecolor\":\"white\",\"ticks\":\"\"},\"bgcolor\":\"#E5ECF6\",\"radialaxis\":{\"gridcolor\":\"white\",\"linecolor\":\"white\",\"ticks\":\"\"}},\"scene\":{\"xaxis\":{\"backgroundcolor\":\"#E5ECF6\",\"gridcolor\":\"white\",\"gridwidth\":2,\"linecolor\":\"white\",\"showbackground\":true,\"ticks\":\"\",\"zerolinecolor\":\"white\"},\"yaxis\":{\"backgroundcolor\":\"#E5ECF6\",\"gridcolor\":\"white\",\"gridwidth\":2,\"linecolor\":\"white\",\"showbackground\":true,\"ticks\":\"\",\"zerolinecolor\":\"white\"},\"zaxis\":{\"backgroundcolor\":\"#E5ECF6\",\"gridcolor\":\"white\",\"gridwidth\":2,\"linecolor\":\"white\",\"showbackground\":true,\"ticks\":\"\",\"zerolinecolor\":\"white\"}},\"shapedefaults\":{\"line\":{\"color\":\"#2a3f5f\"}},\"ternary\":{\"aaxis\":{\"gridcolor\":\"white\",\"linecolor\":\"white\",\"ticks\":\"\"},\"baxis\":{\"gridcolor\":\"white\",\"linecolor\":\"white\",\"ticks\":\"\"},\"bgcolor\":\"#E5ECF6\",\"caxis\":{\"gridcolor\":\"white\",\"linecolor\":\"white\",\"ticks\":\"\"}},\"title\":{\"x\":0.05},\"xaxis\":{\"automargin\":true,\"gridcolor\":\"white\",\"linecolor\":\"white\",\"ticks\":\"\",\"title\":{\"standoff\":15},\"zerolinecolor\":\"white\",\"zerolinewidth\":2},\"yaxis\":{\"automargin\":true,\"gridcolor\":\"white\",\"linecolor\":\"white\",\"ticks\":\"\",\"title\":{\"standoff\":15},\"zerolinecolor\":\"white\",\"zerolinewidth\":2}}}},                        {\"responsive\": true}                    ).then(function(){\n",
              "                            \n",
              "var gd = document.getElementById('031fc3a9-14dc-41e4-b0d2-8a674ec47df8');\n",
              "var x = new MutationObserver(function (mutations, observer) {{\n",
              "        var display = window.getComputedStyle(gd).display;\n",
              "        if (!display || display === 'none') {{\n",
              "            console.log([gd, 'removed!']);\n",
              "            Plotly.purge(gd);\n",
              "            observer.disconnect();\n",
              "        }}\n",
              "}});\n",
              "\n",
              "// Listen for the removal of the full notebook cells\n",
              "var notebookContainer = gd.closest('#notebook-container');\n",
              "if (notebookContainer) {{\n",
              "    x.observe(notebookContainer, {childList: true});\n",
              "}}\n",
              "\n",
              "// Listen for the clearing of the current output cell\n",
              "var outputEl = gd.closest('.output');\n",
              "if (outputEl) {{\n",
              "    x.observe(outputEl, {childList: true});\n",
              "}}\n",
              "\n",
              "                        })                };                            </script>        </div>\n",
              "</body>\n",
              "</html>"
            ]
          },
          "metadata": {}
        }
      ]
    },
    {
      "cell_type": "markdown",
      "id": "330ceb29",
      "metadata": {
        "id": "330ceb29"
      },
      "source": [
        "## 7. Active cases"
      ]
    },
    {
      "cell_type": "code",
      "execution_count": null,
      "id": "6f401757",
      "metadata": {
        "colab": {
          "base_uri": "https://localhost:8080/",
          "height": 263
        },
        "id": "6f401757",
        "outputId": "7053c99d-98e6-4dce-873c-61101e016f7a"
      },
      "outputs": [
        {
          "output_type": "display_data",
          "data": {
            "text/plain": [
              "<Figure size 432x288 with 1 Axes>"
            ],
            "image/png": "[encoded data removed]"
          },
          "metadata": {
            "needs_background": "light"
          }
        }
      ],
      "source": [
        "sns.boxplot( y=df[\"Active Cases\"] );\n",
        "plt.show()"
      ]
    },
    {
      "cell_type": "code",
      "execution_count": null,
      "id": "3cba45ce",
      "metadata": {
        "colab": {
          "base_uri": "https://localhost:8080/",
          "height": 279
        },
        "id": "3cba45ce",
        "outputId": "8a73848a-674b-4520-8aed-cb1754d38ce4"
      },
      "outputs": [
        {
          "output_type": "display_data",
          "data": {
            "text/plain": [
              "<Figure size 432x288 with 1 Axes>"
            ],
            "image/png": "[encoded data removed]"
          },
          "metadata": {
            "needs_background": "light"
          }
        }
      ],
      "source": [
        "sns.histplot(data=IQR(df[\"Active Cases\"]), kde=True);"
      ]
    },
    {
      "cell_type": "markdown",
      "id": "4973c5a3",
      "metadata": {
        "id": "4973c5a3"
      },
      "source": [
        "## 8. Serious, Critical"
      ]
    },
    {
      "cell_type": "code",
      "execution_count": null,
      "id": "f761ecf4",
      "metadata": {
        "colab": {
          "base_uri": "https://localhost:8080/",
          "height": 252
        },
        "id": "f761ecf4",
        "outputId": "a3284c74-0ab5-48af-9e3c-2110da7557be"
      },
      "outputs": [
        {
          "output_type": "display_data",
          "data": {
            "text/plain": [
              "<Figure size 432x288 with 1 Axes>"
            ],
            "image/png": "[encoded data removed]"
          },
          "metadata": {
            "needs_background": "light"
          }
        }
      ],
      "source": [
        "sns.boxplot( y=df[\"Serious, Critical\"] );\n",
        "plt.show()"
      ]
    },
    {
      "cell_type": "code",
      "execution_count": null,
      "id": "b2e15e71",
      "metadata": {
        "colab": {
          "base_uri": "https://localhost:8080/",
          "height": 279
        },
        "id": "b2e15e71",
        "outputId": "903e68f2-4432-4121-af43-788666bcc4b1"
      },
      "outputs": [
        {
          "output_type": "display_data",
          "data": {
            "text/plain": [
              "<Figure size 432x288 with 1 Axes>"
            ],
            "image/png": "[encoded data removed]"
          },
          "metadata": {
            "needs_background": "light"
          }
        }
      ],
      "source": [
        "sns.histplot(data=IQR(df[\"Serious, Critical\"]), kde=True);"
      ]
    },
    {
      "cell_type": "markdown",
      "id": "41576017",
      "metadata": {
        "id": "41576017"
      },
      "source": [
        "## 9. Tot Cases/ 1M pop"
      ]
    },
    {
      "cell_type": "code",
      "execution_count": null,
      "id": "1ff23332",
      "metadata": {
        "colab": {
          "base_uri": "https://localhost:8080/",
          "height": 252
        },
        "id": "1ff23332",
        "outputId": "badb0610-9766-41f4-94ea-10d2e740d8bf"
      },
      "outputs": [
        {
          "output_type": "display_data",
          "data": {
            "text/plain": [
              "<Figure size 432x288 with 1 Axes>"
            ],
            "image/png": "[encoded data removed]"
          },
          "metadata": {
            "needs_background": "light"
          }
        }
      ],
      "source": [
        "sns.boxplot( y=df[\"Tot Cases/ 1M pop\"] );\n",
        "plt.show()"
      ]
    },
    {
      "cell_type": "code",
      "execution_count": null,
      "id": "51bc4479",
      "metadata": {
        "colab": {
          "base_uri": "https://localhost:8080/",
          "height": 279
        },
        "id": "51bc4479",
        "outputId": "035df90e-cf54-45d2-ccf8-619bd7e10919"
      },
      "outputs": [
        {
          "output_type": "display_data",
          "data": {
            "text/plain": [
              "<Figure size 432x288 with 1 Axes>"
            ],
            "image/png": "[encoded data removed]"
          },
          "metadata": {
            "needs_background": "light"
          }
        }
      ],
      "source": [
        "sns.histplot(data=IQR(df[\"Tot Cases/ 1M pop\"]), kde=True);"
      ]
    },
    {
      "cell_type": "markdown",
      "id": "63313257",
      "metadata": {
        "id": "63313257"
      },
      "source": [
        "## 10. Deaths/ 1M pop"
      ]
    },
    {
      "cell_type": "code",
      "execution_count": null,
      "id": "1ea2e912",
      "metadata": {
        "colab": {
          "base_uri": "https://localhost:8080/",
          "height": 252
        },
        "id": "1ea2e912",
        "outputId": "522d536a-ef1a-4c20-cd0a-50288876a59b"
      },
      "outputs": [
        {
          "output_type": "display_data",
          "data": {
            "text/plain": [
              "<Figure size 432x288 with 1 Axes>"
            ],
            "image/png": "[encoded data removed]"
          },
          "metadata": {
            "needs_background": "light"
          }
        }
      ],
      "source": [
        "sns.boxplot( y=df[\"Deaths/ 1M pop\"] );\n",
        "plt.show()"
      ]
    },
    {
      "cell_type": "code",
      "execution_count": null,
      "id": "44e2c5e3",
      "metadata": {
        "colab": {
          "base_uri": "https://localhost:8080/",
          "height": 282
        },
        "id": "44e2c5e3",
        "outputId": "c4ff57ca-1ad9-4957-bb75-77e62ceed40e"
      },
      "outputs": [
        {
          "output_type": "display_data",
          "data": {
            "text/plain": [
              "<Figure size 432x288 with 1 Axes>"
            ],
            "image/png": "[encoded data removed]"
          },
          "metadata": {
            "needs_background": "light"
          }
        }
      ],
      "source": [
        "sns.histplot(data=IQR(df[\"Deaths/ 1M pop\"]), kde=True);"
      ]
    },
    {
      "cell_type": "markdown",
      "id": "44d014e9",
      "metadata": {
        "id": "44d014e9"
      },
      "source": [
        "## 11. Total Tests"
      ]
    },
    {
      "cell_type": "code",
      "execution_count": null,
      "id": "b0cc33ad",
      "metadata": {
        "colab": {
          "base_uri": "https://localhost:8080/",
          "height": 263
        },
        "id": "b0cc33ad",
        "outputId": "0b5f493a-c992-4c8a-ca16-8de47d1b2d01"
      },
      "outputs": [
        {
          "output_type": "display_data",
          "data": {
            "text/plain": [
              "<Figure size 432x288 with 1 Axes>"
            ],
            "image/png": "[encoded data removed]"
          },
          "metadata": {
            "needs_background": "light"
          }
        }
      ],
      "source": [
        "sns.boxplot( y=df[\"Total Tests\"] );\n",
        "plt.show()"
      ]
    },
    {
      "cell_type": "code",
      "execution_count": null,
      "id": "291cbe4d",
      "metadata": {
        "colab": {
          "base_uri": "https://localhost:8080/",
          "height": 279
        },
        "id": "291cbe4d",
        "outputId": "bef189a5-2a31-4b1d-e123-ff2ad9ca6b78"
      },
      "outputs": [
        {
          "output_type": "display_data",
          "data": {
            "text/plain": [
              "<Figure size 432x288 with 1 Axes>"
            ],
            "image/png": "[encoded data removed]"
          },
          "metadata": {
            "needs_background": "light"
          }
        }
      ],
      "source": [
        "sns.histplot(data=IQR(df[\"Total Tests\"]), kde=True);"
      ]
    },
    {
      "cell_type": "markdown",
      "id": "fbbaaa57",
      "metadata": {
        "id": "fbbaaa57"
      },
      "source": [
        "## 12.Tests/ 1M pop"
      ]
    },
    {
      "cell_type": "code",
      "execution_count": null,
      "id": "1c07bceb",
      "metadata": {
        "colab": {
          "base_uri": "https://localhost:8080/",
          "height": 263
        },
        "id": "1c07bceb",
        "outputId": "9d5690f5-0530-4b98-fa62-0b18794dbcba"
      },
      "outputs": [
        {
          "output_type": "display_data",
          "data": {
            "text/plain": [
              "<Figure size 432x288 with 1 Axes>"
            ],
            "image/png": "[encoded data removed]"
          },
          "metadata": {
            "needs_background": "light"
          }
        }
      ],
      "source": [
        "sns.boxplot( y=df[\"Tests/ 1M pop\"] );\n",
        "plt.show()"
      ]
    },
    {
      "cell_type": "code",
      "execution_count": null,
      "id": "37b82aa6",
      "metadata": {
        "colab": {
          "base_uri": "https://localhost:8080/",
          "height": 279
        },
        "id": "37b82aa6",
        "outputId": "9b814a3e-9f98-48fe-92db-375d84445d71"
      },
      "outputs": [
        {
          "output_type": "display_data",
          "data": {
            "text/plain": [
              "<Figure size 432x288 with 1 Axes>"
            ],
            "image/png": "[encoded data removed]"
          },
          "metadata": {
            "needs_background": "light"
          }
        }
      ],
      "source": [
        "sns.histplot(data=IQR(df[\"Tests/ 1M pop\"]), kde=True);"
      ]
    },
    {
      "cell_type": "markdown",
      "id": "718797ce",
      "metadata": {
        "id": "718797ce"
      },
      "source": [
        "## 13. Population"
      ]
    },
    {
      "cell_type": "code",
      "execution_count": null,
      "id": "dad8d082",
      "metadata": {
        "colab": {
          "base_uri": "https://localhost:8080/",
          "height": 263
        },
        "id": "dad8d082",
        "outputId": "d902109f-ef7a-4001-a458-e59f5c550927"
      },
      "outputs": [
        {
          "output_type": "display_data",
          "data": {
            "text/plain": [
              "<Figure size 432x288 with 1 Axes>"
            ],
            "image/png": "[encoded data removed]"
          },
          "metadata": {
            "needs_background": "light"
          }
        }
      ],
      "source": [
        "sns.boxplot( y=df[\"Population\"] );\n",
        "plt.show()"
      ]
    },
    {
      "cell_type": "code",
      "execution_count": null,
      "id": "de6d2fd5",
      "metadata": {
        "colab": {
          "base_uri": "https://localhost:8080/",
          "height": 279
        },
        "id": "de6d2fd5",
        "outputId": "4ffe15a5-2978-4530-e5a3-a35dc404ae5a"
      },
      "outputs": [
        {
          "output_type": "display_data",
          "data": {
            "text/plain": [
              "<Figure size 432x288 with 1 Axes>"
            ],
            "image/png": "[encoded data removed]"
          },
          "metadata": {
            "needs_background": "light"
          }
        }
      ],
      "source": [
        "sns.histplot(data=IQR(df[\"Population\"]), kde=True);"
      ]
    },
    {
      "cell_type": "markdown",
      "id": "b69aa034",
      "metadata": {
        "id": "b69aa034"
      },
      "source": [
        "## 14. Continent"
      ]
    },
    {
      "cell_type": "code",
      "execution_count": null,
      "id": "65ed0696",
      "metadata": {
        "colab": {
          "base_uri": "https://localhost:8080/",
          "height": 610
        },
        "id": "65ed0696",
        "outputId": "f9e35c61-2145-4009-ec44-0ef8100ee69c"
      },
      "outputs": [
        {
          "output_type": "stream",
          "name": "stderr",
          "text": [
            "<ipython-input-37-f9b0045ff250>:22: MatplotlibDeprecationWarning: The 'b' parameter of grid() has been renamed 'visible' since Matplotlib 3.5; support for the old name will be dropped two minor releases later.\n",
            "  ax.grid(b = True, color ='grey',\n"
          ]
        },
        {
          "output_type": "display_data",
          "data": {
            "text/plain": [
              "<Figure size 1152x648 with 1 Axes>"
            ],
            "image/png": "[encoded data removed]"
          },
          "metadata": {
            "needs_background": "light"
          }
        }
      ],
      "source": [
        "continent = df['Continent'].value_counts()\n",
        "continent.values\n",
        "# Figure Size\n",
        "fig, ax = plt.subplots(figsize =(16, 9))\n",
        " \n",
        "# Horizontal Bar Plot\n",
        "ax.barh(continent.index, continent.values)\n",
        " \n",
        "# Remove axes splines\n",
        "for s in ['top', 'bottom', 'left', 'right']:\n",
        "    ax.spines[s].set_visible(False)\n",
        " \n",
        "# Remove x, y Ticks\n",
        "ax.xaxis.set_ticks_position('none')\n",
        "ax.yaxis.set_ticks_position('none')\n",
        " \n",
        "# Add padding between axes and labels\n",
        "ax.xaxis.set_tick_params(pad = 5)\n",
        "ax.yaxis.set_tick_params(pad = 10)\n",
        " \n",
        "# Add x, y gridlines\n",
        "ax.grid(b = True, color ='grey',\n",
        "        linestyle ='-.', linewidth = 0.5,\n",
        "        alpha = 0.2)\n",
        " \n",
        "# Show top values\n",
        "ax.invert_yaxis()\n",
        " \n",
        "# Add annotation to bars\n",
        "for i in ax.patches:\n",
        "    plt.text(i.get_width()+0.2, i.get_y()+0.5,\n",
        "             str(round((i.get_width()), 2)),\n",
        "             fontsize = 10, fontweight ='bold',\n",
        "             color ='grey')\n",
        " \n",
        "# Add Plot Title\n",
        "ax.set_title('Number of Countries per Continent',\n",
        "             loc ='left', )\n",
        " \n",
        " \n",
        "# Show Plot\n",
        "plt.show()"
      ]
    },
    {
      "cell_type": "markdown",
      "source": [
        "## New Cases vs New Deaths vs New Recovered"
      ],
      "metadata": {
        "id": "_0igZ_6MG-Si"
      },
      "id": "_0igZ_6MG-Si"
    },
    {
      "cell_type": "code",
      "source": [
        "import plotly.express as px\n",
        "fig = px.scatter(df, x=\"New Cases\", y=\"New Deaths\",size='New Recovered', trendline='ols', trendline_color_override='#DEB887')\n",
        "fig.show()"
      ],
      "metadata": {
        "colab": {
          "base_uri": "https://localhost:8080/",
          "height": 542
        },
        "id": "4UkcxYNWOSAE",
        "outputId": "64cbd99d-086b-45ad-b7e4-7d71a0f768e3"
      },
      "id": "4UkcxYNWOSAE",
      "execution_count": null,
      "outputs": [
        {
          "output_type": "display_data",
          "data": {
            "text/html": [
              "<html>\n",
              "<head><meta charset=\"utf-8\" /></head>\n",
              "<body>\n",
              "    <div>            <script src=\"https://cdnjs.cloudflare.com/ajax/libs/mathjax/2.7.5/MathJax.js?config=TeX-AMS-MML_SVG\"></script><script type=\"text/javascript\">if (window.MathJax) {MathJax.Hub.Config({SVG: {font: \"STIX-Web\"}});}</script>                <script type=\"text/javascript\">window.PlotlyConfig = {MathJaxConfig: 'local'};</script>\n",
              "        <script src=\"https://cdn.plot.ly/plotly-2.8.3.min.js\"></script>                <div id=\"ae4843e1-1cdf-415a-8cfc-b87fe3d096ad\" class=\"plotly-graph-div\" style=\"height:525px; width:100%;\"></div>            <script type=\"text/javascript\">                                    window.PLOTLYENV=window.PLOTLYENV || {};                                    if (document.getElementById(\"ae4843e1-1cdf-415a-8cfc-b87fe3d096ad\")) {                    Plotly.newPlot(                        \"ae4843e1-1cdf-415a-8cfc-b87fe3d096ad\",                        [{\"hovertemplate\":\"New Cases=%{x}<br>New Deaths=%{y}<br>New Recovered=%{marker.size}<extra></extra>\",\"legendgroup\":\"\",\"marker\":{\"color\":\"#636efa\",\"size\":[0,58247,127,3989,13600,54404,1261,14496,0,2621,15408,0,0,7,0,456,27033,0,73,3568,195,0,0,4207,15393,107,425,1585,227,0,0,0,367,199,0,0,0,119,0,2799,89,3841,92,592,0,0,0,962,0,96,0,0,29,0,53,107,0,305,370,68,10,0,362,0,0,260,0,5,0,122,0,0,8,2,0,24,52,22,0,316,1,0,0,0,4,0,0,0,32,0,0,15,38,0,0,0,0,0,0,37,23,0,0,0,89,0,0,0,512,0,0,0,0,254,0,0,0,0,0,0,7,97,0,0,0,0,0,0,0,34,0,0,0,0,87,22,0,0,0,0,0,0,0,0,0,0,1,0,0,0,0,0,0,0,0,0,0,0,0,0,0,0,0,0,0,0,10,0,0,0,0,0,0,0,0,0,0,0,0,0,5,0,0,0,0,0,0,0,0,0,0,0,0,0,0,0,0,0,0,0,0,0,0,1,0,0,0,0,0,0,0,0,0,0,0,0,0,0,0,0,0,0,0,0,0,0,0,0,0,0,0],\"sizemode\":\"area\",\"sizeref\":145.6175,\"symbol\":\"circle\"},\"mode\":\"markers\",\"name\":\"\",\"orientation\":\"v\",\"showlegend\":false,\"x\":[0,24941,193,4584,25038,5174,18654,13082,0,0,13954,0,0,24,2961,0,16480,0,260,4250,212,2767,689,6972,0,0,0,2225,229,257,0,0,1341,1425,0,93,0,0,0,0,63,129,130,1015,0,0,0,867,35,138,582,0,0,23,48,1,0,347,431,70,11,0,368,263,0,37,0,8,0,95,0,0,1,2,0,37,54,31,0,309,1,0,41,0,2,0,0,0,10,0,0,13,79,0,0,487,48,0,0,26,49,0,0,0,104,0,3,0,279,59,0,0,0,14,0,22,148,0,0,0,7,62,0,0,1,0,0,0,0,21,0,0,0,7,41,24,0,0,0,0,0,0,0,0,12,0,1,4,0,0,0,0,0,0,0,0,48,0,0,0,0,0,0,0,0,0,17,0,0,0,0,0,0,0,0,0,0,4,0,0,8,0,0,0,7,0,13,2,0,0,0,0,0,10,0,0,0,0,0,0,0,0,0,1,0,0,0,0,0,0,0,0,0,0,8,0,0,0,0,0,0,0,0,0,0,0,0,0,0,0,0],\"xaxis\":\"x\",\"y\":[0.0,249.0,1.0,38.0,113.0,312.0,114.0,14.0,0.0,0.0,34.0,0.0,0.0,0.0,16.0,0.0,64.0,0.0,7.0,35.0,2.0,7.0,19.0,1.0,0.0,0.0,0.0,3.0,0.0,0.0,0.0,0.0,7.0,5.0,0.0,14.0,0.0,12.0,0.0,0.0,2.0,0.0,0.0,5.0,0.0,0.0,0.0,7.0,0.0,5.0,1.0,0.0,0.0,0.0,0.0,0.0,0.0,0.0,1.0,1.0,0.0,0.0,1.0,2.0,0.0,0.0,0.0,0.0,0.0,0.0,0.0,0.0,0.0,0.0,0.0,1.0,1.0,3.0,0.0,0.0,0.0,0.0,0.0,0.0,0.0,0.0,0.0,0.0,0.0,0.0,0.0,0.0,0.0,0.0,0.0,2.0,11.0,0.0,0.0,0.0,0.0,0.0,0.0,0.0,0.0,0.0,0.0,0.0,1.0,0.0,0.0,0.0,0.0,0.0,0.0,0.0,0.0,0.0,0.0,0.0,0.0,0.0,0.0,0.0,0.0,0.0,0.0,0.0,0.0,0.0,0.0,0.0,0.0,0.0,0.0,0.0,0.0,0.0,0.0,0.0,0.0,0.0,0.0,0.0,0.0,0.0,0.0,0.0,0.0,0.0,0.0,0.0,0.0,0.0,0.0,0.0,0.0,0.0,0.0,0.0,0.0,0.0,0.0,0.0,0.0,0.0,0.0,0.0,0.0,0.0,0.0,0.0,0.0,0.0,0.0,0.0,0.0,0.0,0.0,0.0,1.0,0.0,0.0,0.0,0.0,0.0,0.0,0.0,0.0,0.0,0.0,0.0,0.0,0.0,0.0,0.0,0.0,0.0,0.0,0.0,0.0,0.0,0.0,0.0,0.0,0.0,0.0,0.0,0.0,0.0,0.0,0.0,0.0,0.0,0.0,0.0,0.0,0.0,0.0,0.0,0.0,0.0,0.0,0.0,0.0,0.0,0.0,0.0,0.0,0.0,0.0],\"yaxis\":\"y\",\"type\":\"scatter\"},{\"hovertemplate\":\"<b>OLS trendline</b><br>New Deaths = 0.00624054 * New Cases + 0.691772<br>R<sup>2</sup>=0.468562<br><br>New Cases=%{x}<br>New Deaths=%{y} <b>(trend)</b><extra></extra>\",\"legendgroup\":\"\",\"line\":{\"color\":\"#DEB887\"},\"marker\":{\"color\":\"#636efa\",\"symbol\":\"circle\"},\"mode\":\"lines\",\"name\":\"\",\"showlegend\":false,\"x\":[0,0,0,0,0,0,0,0,0,0,0,0,0,0,0,0,0,0,0,0,0,0,0,0,0,0,0,0,0,0,0,0,0,0,0,0,0,0,0,0,0,0,0,0,0,0,0,0,0,0,0,0,0,0,0,0,0,0,0,0,0,0,0,0,0,0,0,0,0,0,0,0,0,0,0,0,0,0,0,0,0,0,0,0,0,0,0,0,0,0,0,0,0,0,0,0,0,0,0,0,0,0,0,0,0,0,0,0,0,0,0,0,0,0,0,0,0,0,0,0,0,0,0,0,0,0,0,0,0,0,0,0,0,0,0,0,0,0,0,0,0,0,0,0,0,1,1,1,1,1,1,2,2,2,3,4,4,7,7,7,8,8,8,10,10,11,12,13,13,14,17,21,22,23,24,24,26,31,35,37,37,41,41,48,48,48,49,54,59,62,63,70,79,93,95,104,129,130,138,148,193,212,229,257,260,263,279,309,347,368,431,487,582,689,867,1015,1341,1425,2225,2767,2961,4250,4584,5174,6972,13082,13954,16480,18654,24941,25038],\"xaxis\":\"x\",\"y\":[0.6917715095236694,0.6917715095236694,0.6917715095236694,0.6917715095236694,0.6917715095236694,0.6917715095236694,0.6917715095236694,0.6917715095236694,0.6917715095236694,0.6917715095236694,0.6917715095236694,0.6917715095236694,0.6917715095236694,0.6917715095236694,0.6917715095236694,0.6917715095236694,0.6917715095236694,0.6917715095236694,0.6917715095236694,0.6917715095236694,0.6917715095236694,0.6917715095236694,0.6917715095236694,0.6917715095236694,0.6917715095236694,0.6917715095236694,0.6917715095236694,0.6917715095236694,0.6917715095236694,0.6917715095236694,0.6917715095236694,0.6917715095236694,0.6917715095236694,0.6917715095236694,0.6917715095236694,0.6917715095236694,0.6917715095236694,0.6917715095236694,0.6917715095236694,0.6917715095236694,0.6917715095236694,0.6917715095236694,0.6917715095236694,0.6917715095236694,0.6917715095236694,0.6917715095236694,0.6917715095236694,0.6917715095236694,0.6917715095236694,0.6917715095236694,0.6917715095236694,0.6917715095236694,0.6917715095236694,0.6917715095236694,0.6917715095236694,0.6917715095236694,0.6917715095236694,0.6917715095236694,0.6917715095236694,0.6917715095236694,0.6917715095236694,0.6917715095236694,0.6917715095236694,0.6917715095236694,0.6917715095236694,0.6917715095236694,0.6917715095236694,0.6917715095236694,0.6917715095236694,0.6917715095236694,0.6917715095236694,0.6917715095236694,0.6917715095236694,0.6917715095236694,0.6917715095236694,0.6917715095236694,0.6917715095236694,0.6917715095236694,0.6917715095236694,0.6917715095236694,0.6917715095236694,0.6917715095236694,0.6917715095236694,0.6917715095236694,0.6917715095236694,0.6917715095236694,0.6917715095236694,0.6917715095236694,0.6917715095236694,0.6917715095236694,0.6917715095236694,0.6917715095236694,0.6917715095236694,0.6917715095236694,0.6917715095236694,0.6917715095236694,0.6917715095236694,0.6917715095236694,0.6917715095236694,0.6917715095236694,0.6917715095236694,0.6917715095236694,0.6917715095236694,0.6917715095236694,0.6917715095236694,0.6917715095236694,0.6917715095236694,0.6917715095236694,0.6917715095236694,0.6917715095236694,0.6917715095236694,0.6917715095236694,0.6917715095236694,0.6917715095236694,0.6917715095236694,0.6917715095236694,0.6917715095236694,0.6917715095236694,0.6917715095236694,0.6917715095236694,0.6917715095236694,0.6917715095236694,0.6917715095236694,0.6917715095236694,0.6917715095236694,0.6917715095236694,0.6917715095236694,0.6917715095236694,0.6917715095236694,0.6917715095236694,0.6917715095236694,0.6917715095236694,0.6917715095236694,0.6917715095236694,0.6917715095236694,0.6917715095236694,0.6917715095236694,0.6917715095236694,0.6917715095236694,0.6917715095236694,0.6917715095236694,0.6917715095236694,0.6917715095236694,0.6917715095236694,0.6917715095236694,0.6980120525808909,0.6980120525808909,0.6980120525808909,0.6980120525808909,0.6980120525808909,0.6980120525808909,0.7042525956381125,0.7042525956381125,0.7042525956381125,0.7104931386953339,0.7167336817525555,0.7167336817525555,0.7354553109242201,0.7354553109242201,0.7354553109242201,0.7416958539814416,0.7416958539814416,0.7416958539814416,0.7541769400958847,0.7541769400958847,0.7604174831531062,0.7666580262103277,0.7728985692675492,0.7728985692675492,0.7791391123247707,0.7978607414964354,0.8228229137253215,0.829063456782543,0.8353039998397646,0.8415445428969861,0.8415445428969861,0.8540256290114291,0.8852283442975367,0.9101905165264228,0.9226716026408659,0.9226716026408659,0.9476337748697521,0.9476337748697521,0.9913175762703027,0.9913175762703027,0.9913175762703027,0.9975581193275243,1.0287608346136319,1.0599635498997395,1.078685179071404,1.0849257221286255,1.1286095235291764,1.18477441104417,1.2721420138452715,1.2846230999597146,1.3407879874747082,1.4968015639052465,1.503042106962468,1.5529664514202401,1.6153718819924554,1.896196319567424,2.014766637654633,2.120855869627399,2.295591075229602,2.3143127044012664,2.333034333572931,2.4328830224884754,2.620099314205121,2.8572399503795394,2.9882913545811913,3.381445567186148,3.730915978390553,4.323767568826598,4.991505675949302,6.102322340134734,7.02592271260352,9.060339749257738,9.584545366064345,14.576979811841566,17.959354148855635,19.17001950195661,27.21407950271516,29.29842088382715,32.98034128758785,44.20083770447216,82.3305557840957,87.77230932999286,103.53592109253445,117.10286169893405,156.3371558996858,156.9424885762363],\"yaxis\":\"y\",\"type\":\"scatter\"}],                        {\"template\":{\"data\":{\"bar\":[{\"error_x\":{\"color\":\"#2a3f5f\"},\"error_y\":{\"color\":\"#2a3f5f\"},\"marker\":{\"line\":{\"color\":\"#E5ECF6\",\"width\":0.5},\"pattern\":{\"fillmode\":\"overlay\",\"size\":10,\"solidity\":0.2}},\"type\":\"bar\"}],\"barpolar\":[{\"marker\":{\"line\":{\"color\":\"#E5ECF6\",\"width\":0.5},\"pattern\":{\"fillmode\":\"overlay\",\"size\":10,\"solidity\":0.2}},\"type\":\"barpolar\"}],\"carpet\":[{\"aaxis\":{\"endlinecolor\":\"#2a3f5f\",\"gridcolor\":\"white\",\"linecolor\":\"white\",\"minorgridcolor\":\"white\",\"startlinecolor\":\"#2a3f5f\"},\"baxis\":{\"endlinecolor\":\"#2a3f5f\",\"gridcolor\":\"white\",\"linecolor\":\"white\",\"minorgridcolor\":\"white\",\"startlinecolor\":\"#2a3f5f\"},\"type\":\"carpet\"}],\"choropleth\":[{\"colorbar\":{\"outlinewidth\":0,\"ticks\":\"\"},\"type\":\"choropleth\"}],\"contour\":[{\"colorbar\":{\"outlinewidth\":0,\"ticks\":\"\"},\"colorscale\":[[0.0,\"#0d0887\"],[0.1111111111111111,\"#46039f\"],[0.2222222222222222,\"#7201a8\"],[0.3333333333333333,\"#9c179e\"],[0.4444444444444444,\"#bd3786\"],[0.5555555555555556,\"#d8576b\"],[0.6666666666666666,\"#ed7953\"],[0.7777777777777778,\"#fb9f3a\"],[0.8888888888888888,\"#fdca26\"],[1.0,\"#f0f921\"]],\"type\":\"contour\"}],\"contourcarpet\":[{\"colorbar\":{\"outlinewidth\":0,\"ticks\":\"\"},\"type\":\"contourcarpet\"}],\"heatmap\":[{\"colorbar\":{\"outlinewidth\":0,\"ticks\":\"\"},\"colorscale\":[[0.0,\"#0d0887\"],[0.1111111111111111,\"#46039f\"],[0.2222222222222222,\"#7201a8\"],[0.3333333333333333,\"#9c179e\"],[0.4444444444444444,\"#bd3786\"],[0.5555555555555556,\"#d8576b\"],[0.6666666666666666,\"#ed7953\"],[0.7777777777777778,\"#fb9f3a\"],[0.8888888888888888,\"#fdca26\"],[1.0,\"#f0f921\"]],\"type\":\"heatmap\"}],\"heatmapgl\":[{\"colorbar\":{\"outlinewidth\":0,\"ticks\":\"\"},\"colorscale\":[[0.0,\"#0d0887\"],[0.1111111111111111,\"#46039f\"],[0.2222222222222222,\"#7201a8\"],[0.3333333333333333,\"#9c179e\"],[0.4444444444444444,\"#bd3786\"],[0.5555555555555556,\"#d8576b\"],[0.6666666666666666,\"#ed7953\"],[0.7777777777777778,\"#fb9f3a\"],[0.8888888888888888,\"#fdca26\"],[1.0,\"#f0f921\"]],\"type\":\"heatmapgl\"}],\"histogram\":[{\"marker\":{\"pattern\":{\"fillmode\":\"overlay\",\"size\":10,\"solidity\":0.2}},\"type\":\"histogram\"}],\"histogram2d\":[{\"colorbar\":{\"outlinewidth\":0,\"ticks\":\"\"},\"colorscale\":[[0.0,\"#0d0887\"],[0.1111111111111111,\"#46039f\"],[0.2222222222222222,\"#7201a8\"],[0.3333333333333333,\"#9c179e\"],[0.4444444444444444,\"#bd3786\"],[0.5555555555555556,\"#d8576b\"],[0.6666666666666666,\"#ed7953\"],[0.7777777777777778,\"#fb9f3a\"],[0.8888888888888888,\"#fdca26\"],[1.0,\"#f0f921\"]],\"type\":\"histogram2d\"}],\"histogram2dcontour\":[{\"colorbar\":{\"outlinewidth\":0,\"ticks\":\"\"},\"colorscale\":[[0.0,\"#0d0887\"],[0.1111111111111111,\"#46039f\"],[0.2222222222222222,\"#7201a8\"],[0.3333333333333333,\"#9c179e\"],[0.4444444444444444,\"#bd3786\"],[0.5555555555555556,\"#d8576b\"],[0.6666666666666666,\"#ed7953\"],[0.7777777777777778,\"#fb9f3a\"],[0.8888888888888888,\"#fdca26\"],[1.0,\"#f0f921\"]],\"type\":\"histogram2dcontour\"}],\"mesh3d\":[{\"colorbar\":{\"outlinewidth\":0,\"ticks\":\"\"},\"type\":\"mesh3d\"}],\"parcoords\":[{\"line\":{\"colorbar\":{\"outlinewidth\":0,\"ticks\":\"\"}},\"type\":\"parcoords\"}],\"pie\":[{\"automargin\":true,\"type\":\"pie\"}],\"scatter\":[{\"marker\":{\"colorbar\":{\"outlinewidth\":0,\"ticks\":\"\"}},\"type\":\"scatter\"}],\"scatter3d\":[{\"line\":{\"colorbar\":{\"outlinewidth\":0,\"ticks\":\"\"}},\"marker\":{\"colorbar\":{\"outlinewidth\":0,\"ticks\":\"\"}},\"type\":\"scatter3d\"}],\"scattercarpet\":[{\"marker\":{\"colorbar\":{\"outlinewidth\":0,\"ticks\":\"\"}},\"type\":\"scattercarpet\"}],\"scattergeo\":[{\"marker\":{\"colorbar\":{\"outlinewidth\":0,\"ticks\":\"\"}},\"type\":\"scattergeo\"}],\"scattergl\":[{\"marker\":{\"colorbar\":{\"outlinewidth\":0,\"ticks\":\"\"}},\"type\":\"scattergl\"}],\"scattermapbox\":[{\"marker\":{\"colorbar\":{\"outlinewidth\":0,\"ticks\":\"\"}},\"type\":\"scattermapbox\"}],\"scatterpolar\":[{\"marker\":{\"colorbar\":{\"outlinewidth\":0,\"ticks\":\"\"}},\"type\":\"scatterpolar\"}],\"scatterpolargl\":[{\"marker\":{\"colorbar\":{\"outlinewidth\":0,\"ticks\":\"\"}},\"type\":\"scatterpolargl\"}],\"scatterternary\":[{\"marker\":{\"colorbar\":{\"outlinewidth\":0,\"ticks\":\"\"}},\"type\":\"scatterternary\"}],\"surface\":[{\"colorbar\":{\"outlinewidth\":0,\"ticks\":\"\"},\"colorscale\":[[0.0,\"#0d0887\"],[0.1111111111111111,\"#46039f\"],[0.2222222222222222,\"#7201a8\"],[0.3333333333333333,\"#9c179e\"],[0.4444444444444444,\"#bd3786\"],[0.5555555555555556,\"#d8576b\"],[0.6666666666666666,\"#ed7953\"],[0.7777777777777778,\"#fb9f3a\"],[0.8888888888888888,\"#fdca26\"],[1.0,\"#f0f921\"]],\"type\":\"surface\"}],\"table\":[{\"cells\":{\"fill\":{\"color\":\"#EBF0F8\"},\"line\":{\"color\":\"white\"}},\"header\":{\"fill\":{\"color\":\"#C8D4E3\"},\"line\":{\"color\":\"white\"}},\"type\":\"table\"}]},\"layout\":{\"annotationdefaults\":{\"arrowcolor\":\"#2a3f5f\",\"arrowhead\":0,\"arrowwidth\":1},\"autotypenumbers\":\"strict\",\"coloraxis\":{\"colorbar\":{\"outlinewidth\":0,\"ticks\":\"\"}},\"colorscale\":{\"diverging\":[[0,\"#8e0152\"],[0.1,\"#c51b7d\"],[0.2,\"#de77ae\"],[0.3,\"#f1b6da\"],[0.4,\"#fde0ef\"],[0.5,\"#f7f7f7\"],[0.6,\"#e6f5d0\"],[0.7,\"#b8e186\"],[0.8,\"#7fbc41\"],[0.9,\"#4d9221\"],[1,\"#276419\"]],\"sequential\":[[0.0,\"#0d0887\"],[0.1111111111111111,\"#46039f\"],[0.2222222222222222,\"#7201a8\"],[0.3333333333333333,\"#9c179e\"],[0.4444444444444444,\"#bd3786\"],[0.5555555555555556,\"#d8576b\"],[0.6666666666666666,\"#ed7953\"],[0.7777777777777778,\"#fb9f3a\"],[0.8888888888888888,\"#fdca26\"],[1.0,\"#f0f921\"]],\"sequentialminus\":[[0.0,\"#0d0887\"],[0.1111111111111111,\"#46039f\"],[0.2222222222222222,\"#7201a8\"],[0.3333333333333333,\"#9c179e\"],[0.4444444444444444,\"#bd3786\"],[0.5555555555555556,\"#d8576b\"],[0.6666666666666666,\"#ed7953\"],[0.7777777777777778,\"#fb9f3a\"],[0.8888888888888888,\"#fdca26\"],[1.0,\"#f0f921\"]]},\"colorway\":[\"#636efa\",\"#EF553B\",\"#00cc96\",\"#ab63fa\",\"#FFA15A\",\"#19d3f3\",\"#FF6692\",\"#B6E880\",\"#FF97FF\",\"#FECB52\"],\"font\":{\"color\":\"#2a3f5f\"},\"geo\":{\"bgcolor\":\"white\",\"lakecolor\":\"white\",\"landcolor\":\"#E5ECF6\",\"showlakes\":true,\"showland\":true,\"subunitcolor\":\"white\"},\"hoverlabel\":{\"align\":\"left\"},\"hovermode\":\"closest\",\"mapbox\":{\"style\":\"light\"},\"paper_bgcolor\":\"white\",\"plot_bgcolor\":\"#E5ECF6\",\"polar\":{\"angularaxis\":{\"gridcolor\":\"white\",\"linecolor\":\"white\",\"ticks\":\"\"},\"bgcolor\":\"#E5ECF6\",\"radialaxis\":{\"gridcolor\":\"white\",\"linecolor\":\"white\",\"ticks\":\"\"}},\"scene\":{\"xaxis\":{\"backgroundcolor\":\"#E5ECF6\",\"gridcolor\":\"white\",\"gridwidth\":2,\"linecolor\":\"white\",\"showbackground\":true,\"ticks\":\"\",\"zerolinecolor\":\"white\"},\"yaxis\":{\"backgroundcolor\":\"#E5ECF6\",\"gridcolor\":\"white\",\"gridwidth\":2,\"linecolor\":\"white\",\"showbackground\":true,\"ticks\":\"\",\"zerolinecolor\":\"white\"},\"zaxis\":{\"backgroundcolor\":\"#E5ECF6\",\"gridcolor\":\"white\",\"gridwidth\":2,\"linecolor\":\"white\",\"showbackground\":true,\"ticks\":\"\",\"zerolinecolor\":\"white\"}},\"shapedefaults\":{\"line\":{\"color\":\"#2a3f5f\"}},\"ternary\":{\"aaxis\":{\"gridcolor\":\"white\",\"linecolor\":\"white\",\"ticks\":\"\"},\"baxis\":{\"gridcolor\":\"white\",\"linecolor\":\"white\",\"ticks\":\"\"},\"bgcolor\":\"#E5ECF6\",\"caxis\":{\"gridcolor\":\"white\",\"linecolor\":\"white\",\"ticks\":\"\"}},\"title\":{\"x\":0.05},\"xaxis\":{\"automargin\":true,\"gridcolor\":\"white\",\"linecolor\":\"white\",\"ticks\":\"\",\"title\":{\"standoff\":15},\"zerolinecolor\":\"white\",\"zerolinewidth\":2},\"yaxis\":{\"automargin\":true,\"gridcolor\":\"white\",\"linecolor\":\"white\",\"ticks\":\"\",\"title\":{\"standoff\":15},\"zerolinecolor\":\"white\",\"zerolinewidth\":2}}},\"xaxis\":{\"anchor\":\"y\",\"domain\":[0.0,1.0],\"title\":{\"text\":\"New Cases\"}},\"yaxis\":{\"anchor\":\"x\",\"domain\":[0.0,1.0],\"title\":{\"text\":\"New Deaths\"}},\"legend\":{\"tracegroupgap\":0,\"itemsizing\":\"constant\"},\"margin\":{\"t\":60}},                        {\"responsive\": true}                    ).then(function(){\n",
              "                            \n",
              "var gd = document.getElementById('ae4843e1-1cdf-415a-8cfc-b87fe3d096ad');\n",
              "var x = new MutationObserver(function (mutations, observer) {{\n",
              "        var display = window.getComputedStyle(gd).display;\n",
              "        if (!display || display === 'none') {{\n",
              "            console.log([gd, 'removed!']);\n",
              "            Plotly.purge(gd);\n",
              "            observer.disconnect();\n",
              "        }}\n",
              "}});\n",
              "\n",
              "// Listen for the removal of the full notebook cells\n",
              "var notebookContainer = gd.closest('#notebook-container');\n",
              "if (notebookContainer) {{\n",
              "    x.observe(notebookContainer, {childList: true});\n",
              "}}\n",
              "\n",
              "// Listen for the clearing of the current output cell\n",
              "var outputEl = gd.closest('.output');\n",
              "if (outputEl) {{\n",
              "    x.observe(outputEl, {childList: true});\n",
              "}}\n",
              "\n",
              "                        })                };                            </script>        </div>\n",
              "</body>\n",
              "</html>"
            ]
          },
          "metadata": {}
        }
      ]
    },
    {
      "cell_type": "code",
      "source": [
        "fig = go.Figure()\n",
        "\n",
        "fig.add_trace(go.Scatter(x=new_case_week.index, y=new_case_week.values,\n",
        "                    mode='lines',\n",
        "                    name='Case'))\n",
        "fig.add_trace(go.Scatter(x=new_deaths_week.index, y=new_deaths_week.values,\n",
        "                    mode='lines',\n",
        "                    name='Deaths'))\n",
        "fig.add_trace(go.Scatter(x=new_recovered_week.index, y=new_recovered_week.values,\n",
        "                    mode='lines',\n",
        "                    name='Recovered'))\n",
        "\n",
        "fig.show()"
      ],
      "metadata": {
        "colab": {
          "base_uri": "https://localhost:8080/",
          "height": 542
        },
        "id": "0KfePMPaHFm_",
        "outputId": "a26f7ace-cd5f-4766-f2fc-449ca863e473"
      },
      "id": "0KfePMPaHFm_",
      "execution_count": null,
      "outputs": [
        {
          "output_type": "display_data",
          "data": {
            "text/html": [
              "<html>\n",
              "<head><meta charset=\"utf-8\" /></head>\n",
              "<body>\n",
              "    <div>            <script src=\"https://cdnjs.cloudflare.com/ajax/libs/mathjax/2.7.5/MathJax.js?config=TeX-AMS-MML_SVG\"></script><script type=\"text/javascript\">if (window.MathJax) {MathJax.Hub.Config({SVG: {font: \"STIX-Web\"}});}</script>                <script type=\"text/javascript\">window.PlotlyConfig = {MathJaxConfig: 'local'};</script>\n",
              "        <script src=\"https://cdn.plot.ly/plotly-2.8.3.min.js\"></script>                <div id=\"bc0987e4-c510-4600-a86c-9c728e16fd8d\" class=\"plotly-graph-div\" style=\"height:525px; width:100%;\"></div>            <script type=\"text/javascript\">                                    window.PLOTLYENV=window.PLOTLYENV || {};                                    if (document.getElementById(\"bc0987e4-c510-4600-a86c-9c728e16fd8d\")) {                    Plotly.newPlot(                        \"bc0987e4-c510-4600-a86c-9c728e16fd8d\",                        [{\"mode\":\"lines\",\"name\":\"Case\",\"x\":[\"2023-02-22\",\"2023-02-23\",\"2023-02-24\",\"2023-02-25\",\"2023-02-26\",\"2023-02-27\",\"2023-02-28\"],\"y\":[152583,130788,56298,54075,69334,112539,94798],\"type\":\"scatter\"},{\"mode\":\"lines\",\"name\":\"Deaths\",\"x\":[\"2023-02-22\",\"2023-02-23\",\"2023-02-24\",\"2023-02-25\",\"2023-02-26\",\"2023-02-27\",\"2023-02-28\"],\"y\":[1112.0,1106.0,296.0,205.0,227.0,693.0,485.0],\"type\":\"scatter\"},{\"mode\":\"lines\",\"name\":\"Recovered\",\"x\":[\"2023-02-22\",\"2023-02-23\",\"2023-02-24\",\"2023-02-25\",\"2023-02-26\",\"2023-02-27\",\"2023-02-28\"],\"y\":[229969,193015,64117,71137,104182,157338,148943],\"type\":\"scatter\"}],                        {\"template\":{\"data\":{\"bar\":[{\"error_x\":{\"color\":\"#2a3f5f\"},\"error_y\":{\"color\":\"#2a3f5f\"},\"marker\":{\"line\":{\"color\":\"#E5ECF6\",\"width\":0.5},\"pattern\":{\"fillmode\":\"overlay\",\"size\":10,\"solidity\":0.2}},\"type\":\"bar\"}],\"barpolar\":[{\"marker\":{\"line\":{\"color\":\"#E5ECF6\",\"width\":0.5},\"pattern\":{\"fillmode\":\"overlay\",\"size\":10,\"solidity\":0.2}},\"type\":\"barpolar\"}],\"carpet\":[{\"aaxis\":{\"endlinecolor\":\"#2a3f5f\",\"gridcolor\":\"white\",\"linecolor\":\"white\",\"minorgridcolor\":\"white\",\"startlinecolor\":\"#2a3f5f\"},\"baxis\":{\"endlinecolor\":\"#2a3f5f\",\"gridcolor\":\"white\",\"linecolor\":\"white\",\"minorgridcolor\":\"white\",\"startlinecolor\":\"#2a3f5f\"},\"type\":\"carpet\"}],\"choropleth\":[{\"colorbar\":{\"outlinewidth\":0,\"ticks\":\"\"},\"type\":\"choropleth\"}],\"contour\":[{\"colorbar\":{\"outlinewidth\":0,\"ticks\":\"\"},\"colorscale\":[[0.0,\"#0d0887\"],[0.1111111111111111,\"#46039f\"],[0.2222222222222222,\"#7201a8\"],[0.3333333333333333,\"#9c179e\"],[0.4444444444444444,\"#bd3786\"],[0.5555555555555556,\"#d8576b\"],[0.6666666666666666,\"#ed7953\"],[0.7777777777777778,\"#fb9f3a\"],[0.8888888888888888,\"#fdca26\"],[1.0,\"#f0f921\"]],\"type\":\"contour\"}],\"contourcarpet\":[{\"colorbar\":{\"outlinewidth\":0,\"ticks\":\"\"},\"type\":\"contourcarpet\"}],\"heatmap\":[{\"colorbar\":{\"outlinewidth\":0,\"ticks\":\"\"},\"colorscale\":[[0.0,\"#0d0887\"],[0.1111111111111111,\"#46039f\"],[0.2222222222222222,\"#7201a8\"],[0.3333333333333333,\"#9c179e\"],[0.4444444444444444,\"#bd3786\"],[0.5555555555555556,\"#d8576b\"],[0.6666666666666666,\"#ed7953\"],[0.7777777777777778,\"#fb9f3a\"],[0.8888888888888888,\"#fdca26\"],[1.0,\"#f0f921\"]],\"type\":\"heatmap\"}],\"heatmapgl\":[{\"colorbar\":{\"outlinewidth\":0,\"ticks\":\"\"},\"colorscale\":[[0.0,\"#0d0887\"],[0.1111111111111111,\"#46039f\"],[0.2222222222222222,\"#7201a8\"],[0.3333333333333333,\"#9c179e\"],[0.4444444444444444,\"#bd3786\"],[0.5555555555555556,\"#d8576b\"],[0.6666666666666666,\"#ed7953\"],[0.7777777777777778,\"#fb9f3a\"],[0.8888888888888888,\"#fdca26\"],[1.0,\"#f0f921\"]],\"type\":\"heatmapgl\"}],\"histogram\":[{\"marker\":{\"pattern\":{\"fillmode\":\"overlay\",\"size\":10,\"solidity\":0.2}},\"type\":\"histogram\"}],\"histogram2d\":[{\"colorbar\":{\"outlinewidth\":0,\"ticks\":\"\"},\"colorscale\":[[0.0,\"#0d0887\"],[0.1111111111111111,\"#46039f\"],[0.2222222222222222,\"#7201a8\"],[0.3333333333333333,\"#9c179e\"],[0.4444444444444444,\"#bd3786\"],[0.5555555555555556,\"#d8576b\"],[0.6666666666666666,\"#ed7953\"],[0.7777777777777778,\"#fb9f3a\"],[0.8888888888888888,\"#fdca26\"],[1.0,\"#f0f921\"]],\"type\":\"histogram2d\"}],\"histogram2dcontour\":[{\"colorbar\":{\"outlinewidth\":0,\"ticks\":\"\"},\"colorscale\":[[0.0,\"#0d0887\"],[0.1111111111111111,\"#46039f\"],[0.2222222222222222,\"#7201a8\"],[0.3333333333333333,\"#9c179e\"],[0.4444444444444444,\"#bd3786\"],[0.5555555555555556,\"#d8576b\"],[0.6666666666666666,\"#ed7953\"],[0.7777777777777778,\"#fb9f3a\"],[0.8888888888888888,\"#fdca26\"],[1.0,\"#f0f921\"]],\"type\":\"histogram2dcontour\"}],\"mesh3d\":[{\"colorbar\":{\"outlinewidth\":0,\"ticks\":\"\"},\"type\":\"mesh3d\"}],\"parcoords\":[{\"line\":{\"colorbar\":{\"outlinewidth\":0,\"ticks\":\"\"}},\"type\":\"parcoords\"}],\"pie\":[{\"automargin\":true,\"type\":\"pie\"}],\"scatter\":[{\"marker\":{\"colorbar\":{\"outlinewidth\":0,\"ticks\":\"\"}},\"type\":\"scatter\"}],\"scatter3d\":[{\"line\":{\"colorbar\":{\"outlinewidth\":0,\"ticks\":\"\"}},\"marker\":{\"colorbar\":{\"outlinewidth\":0,\"ticks\":\"\"}},\"type\":\"scatter3d\"}],\"scattercarpet\":[{\"marker\":{\"colorbar\":{\"outlinewidth\":0,\"ticks\":\"\"}},\"type\":\"scattercarpet\"}],\"scattergeo\":[{\"marker\":{\"colorbar\":{\"outlinewidth\":0,\"ticks\":\"\"}},\"type\":\"scattergeo\"}],\"scattergl\":[{\"marker\":{\"colorbar\":{\"outlinewidth\":0,\"ticks\":\"\"}},\"type\":\"scattergl\"}],\"scattermapbox\":[{\"marker\":{\"colorbar\":{\"outlinewidth\":0,\"ticks\":\"\"}},\"type\":\"scattermapbox\"}],\"scatterpolar\":[{\"marker\":{\"colorbar\":{\"outlinewidth\":0,\"ticks\":\"\"}},\"type\":\"scatterpolar\"}],\"scatterpolargl\":[{\"marker\":{\"colorbar\":{\"outlinewidth\":0,\"ticks\":\"\"}},\"type\":\"scatterpolargl\"}],\"scatterternary\":[{\"marker\":{\"colorbar\":{\"outlinewidth\":0,\"ticks\":\"\"}},\"type\":\"scatterternary\"}],\"surface\":[{\"colorbar\":{\"outlinewidth\":0,\"ticks\":\"\"},\"colorscale\":[[0.0,\"#0d0887\"],[0.1111111111111111,\"#46039f\"],[0.2222222222222222,\"#7201a8\"],[0.3333333333333333,\"#9c179e\"],[0.4444444444444444,\"#bd3786\"],[0.5555555555555556,\"#d8576b\"],[0.6666666666666666,\"#ed7953\"],[0.7777777777777778,\"#fb9f3a\"],[0.8888888888888888,\"#fdca26\"],[1.0,\"#f0f921\"]],\"type\":\"surface\"}],\"table\":[{\"cells\":{\"fill\":{\"color\":\"#EBF0F8\"},\"line\":{\"color\":\"white\"}},\"header\":{\"fill\":{\"color\":\"#C8D4E3\"},\"line\":{\"color\":\"white\"}},\"type\":\"table\"}]},\"layout\":{\"annotationdefaults\":{\"arrowcolor\":\"#2a3f5f\",\"arrowhead\":0,\"arrowwidth\":1},\"autotypenumbers\":\"strict\",\"coloraxis\":{\"colorbar\":{\"outlinewidth\":0,\"ticks\":\"\"}},\"colorscale\":{\"diverging\":[[0,\"#8e0152\"],[0.1,\"#c51b7d\"],[0.2,\"#de77ae\"],[0.3,\"#f1b6da\"],[0.4,\"#fde0ef\"],[0.5,\"#f7f7f7\"],[0.6,\"#e6f5d0\"],[0.7,\"#b8e186\"],[0.8,\"#7fbc41\"],[0.9,\"#4d9221\"],[1,\"#276419\"]],\"sequential\":[[0.0,\"#0d0887\"],[0.1111111111111111,\"#46039f\"],[0.2222222222222222,\"#7201a8\"],[0.3333333333333333,\"#9c179e\"],[0.4444444444444444,\"#bd3786\"],[0.5555555555555556,\"#d8576b\"],[0.6666666666666666,\"#ed7953\"],[0.7777777777777778,\"#fb9f3a\"],[0.8888888888888888,\"#fdca26\"],[1.0,\"#f0f921\"]],\"sequentialminus\":[[0.0,\"#0d0887\"],[0.1111111111111111,\"#46039f\"],[0.2222222222222222,\"#7201a8\"],[0.3333333333333333,\"#9c179e\"],[0.4444444444444444,\"#bd3786\"],[0.5555555555555556,\"#d8576b\"],[0.6666666666666666,\"#ed7953\"],[0.7777777777777778,\"#fb9f3a\"],[0.8888888888888888,\"#fdca26\"],[1.0,\"#f0f921\"]]},\"colorway\":[\"#636efa\",\"#EF553B\",\"#00cc96\",\"#ab63fa\",\"#FFA15A\",\"#19d3f3\",\"#FF6692\",\"#B6E880\",\"#FF97FF\",\"#FECB52\"],\"font\":{\"color\":\"#2a3f5f\"},\"geo\":{\"bgcolor\":\"white\",\"lakecolor\":\"white\",\"landcolor\":\"#E5ECF6\",\"showlakes\":true,\"showland\":true,\"subunitcolor\":\"white\"},\"hoverlabel\":{\"align\":\"left\"},\"hovermode\":\"closest\",\"mapbox\":{\"style\":\"light\"},\"paper_bgcolor\":\"white\",\"plot_bgcolor\":\"#E5ECF6\",\"polar\":{\"angularaxis\":{\"gridcolor\":\"white\",\"linecolor\":\"white\",\"ticks\":\"\"},\"bgcolor\":\"#E5ECF6\",\"radialaxis\":{\"gridcolor\":\"white\",\"linecolor\":\"white\",\"ticks\":\"\"}},\"scene\":{\"xaxis\":{\"backgroundcolor\":\"#E5ECF6\",\"gridcolor\":\"white\",\"gridwidth\":2,\"linecolor\":\"white\",\"showbackground\":true,\"ticks\":\"\",\"zerolinecolor\":\"white\"},\"yaxis\":{\"backgroundcolor\":\"#E5ECF6\",\"gridcolor\":\"white\",\"gridwidth\":2,\"linecolor\":\"white\",\"showbackground\":true,\"ticks\":\"\",\"zerolinecolor\":\"white\"},\"zaxis\":{\"backgroundcolor\":\"#E5ECF6\",\"gridcolor\":\"white\",\"gridwidth\":2,\"linecolor\":\"white\",\"showbackground\":true,\"ticks\":\"\",\"zerolinecolor\":\"white\"}},\"shapedefaults\":{\"line\":{\"color\":\"#2a3f5f\"}},\"ternary\":{\"aaxis\":{\"gridcolor\":\"white\",\"linecolor\":\"white\",\"ticks\":\"\"},\"baxis\":{\"gridcolor\":\"white\",\"linecolor\":\"white\",\"ticks\":\"\"},\"bgcolor\":\"#E5ECF6\",\"caxis\":{\"gridcolor\":\"white\",\"linecolor\":\"white\",\"ticks\":\"\"}},\"title\":{\"x\":0.05},\"xaxis\":{\"automargin\":true,\"gridcolor\":\"white\",\"linecolor\":\"white\",\"ticks\":\"\",\"title\":{\"standoff\":15},\"zerolinecolor\":\"white\",\"zerolinewidth\":2},\"yaxis\":{\"automargin\":true,\"gridcolor\":\"white\",\"linecolor\":\"white\",\"ticks\":\"\",\"title\":{\"standoff\":15},\"zerolinecolor\":\"white\",\"zerolinewidth\":2}}}},                        {\"responsive\": true}                    ).then(function(){\n",
              "                            \n",
              "var gd = document.getElementById('bc0987e4-c510-4600-a86c-9c728e16fd8d');\n",
              "var x = new MutationObserver(function (mutations, observer) {{\n",
              "        var display = window.getComputedStyle(gd).display;\n",
              "        if (!display || display === 'none') {{\n",
              "            console.log([gd, 'removed!']);\n",
              "            Plotly.purge(gd);\n",
              "            observer.disconnect();\n",
              "        }}\n",
              "}});\n",
              "\n",
              "// Listen for the removal of the full notebook cells\n",
              "var notebookContainer = gd.closest('#notebook-container');\n",
              "if (notebookContainer) {{\n",
              "    x.observe(notebookContainer, {childList: true});\n",
              "}}\n",
              "\n",
              "// Listen for the clearing of the current output cell\n",
              "var outputEl = gd.closest('.output');\n",
              "if (outputEl) {{\n",
              "    x.observe(outputEl, {childList: true});\n",
              "}}\n",
              "\n",
              "                        })                };                            </script>        </div>\n",
              "</body>\n",
              "</html>"
            ]
          },
          "metadata": {}
        }
      ]
    },
    {
      "cell_type": "markdown",
      "id": "9fc5ba71",
      "metadata": {
        "id": "9fc5ba71"
      },
      "source": [
        "## 14. Relation between Total and new: Total Cases vs New Cases, Total Deaths vs New Deaths, Total Recovered vs  New Recovered"
      ]
    },
    {
      "cell_type": "code",
      "source": [
        "{'New Deaths':'blue','Remain':'red'}"
      ],
      "metadata": {
        "colab": {
          "base_uri": "https://localhost:8080/"
        },
        "id": "B6NqCaWr0cKF",
        "outputId": "4c270cb3-4243-4bcf-f388-4113bb4e9bb2"
      },
      "id": "B6NqCaWr0cKF",
      "execution_count": null,
      "outputs": [
        {
          "output_type": "execute_result",
          "data": {
            "text/plain": [
              "{'New Deaths': 'blue', 'Remain': 'red'}"
            ]
          },
          "metadata": {},
          "execution_count": 38
        }
      ]
    },
    {
      "cell_type": "code",
      "source": [
        "import plotly.graph_objects as go\n",
        "from plotly.subplots import make_subplots\n",
        "\n",
        "# Define colors for each pie chart\n",
        "cases_colors = ['gold', 'mediumturquoise']\n",
        "deaths_colors = ['blue', 'red']\n",
        "recovered_colors = ['darkorange', 'lightgreen']\n",
        "\n",
        "# Create subplots: use 'domain' type for Pie subplot\n",
        "fig = make_subplots(rows=1, cols=3, specs=[[{'type':'domain'}, {'type':'domain'}, {'type':'domain'}]],  \n",
        "                    subplot_titles=(\"Total Cases\", \"Total Deaths\",'Total Recovered'))\n",
        "\n",
        "# Add traces for each pie chart with the corresponding labels, values, and colors\n",
        "fig.add_trace(go.Pie(labels=['New Cases','Remain'], \n",
        "                     values=[sum(df[\"New Cases\"]),sum(df[\"Total Cases\"]) - sum(df[\"New Cases\"])], \n",
        "                     name=\"Total Cases\", marker=dict(colors=cases_colors)), 1, 1)\n",
        "\n",
        "fig.add_trace(go.Pie(labels=[\"New Deaths\",'Remain'], \n",
        "                     values=[sum(df[\"New Deaths\"]),sum(df[\"Total Deaths\"]) - sum(df[\"New Deaths\"])], \n",
        "                     name=\"Total Deaths\", marker=dict(colors=deaths_colors)), 1, 2)\n",
        "\n",
        "fig.add_trace(go.Pie(labels=[\"New Recovered\",'Remain'], \n",
        "                     values=[sum(df[\"New Recovered\"]),sum(df[\"Total Recovered\"]) - sum(df[\"New Recovered\"])], \n",
        "                     name=\"Total Recovered\", marker=dict(colors=recovered_colors)), 1, 3)\n",
        "\n",
        "fig.show()\n"
      ],
      "metadata": {
        "colab": {
          "base_uri": "https://localhost:8080/",
          "height": 542
        },
        "id": "SF7SI7vXqhsK",
        "outputId": "ca1450a4-0523-4eec-85e7-aac85ccccd84"
      },
      "id": "SF7SI7vXqhsK",
      "execution_count": null,
      "outputs": [
        {
          "output_type": "display_data",
          "data": {
            "text/html": [
              "<html>\n",
              "<head><meta charset=\"utf-8\" /></head>\n",
              "<body>\n",
              "    <div>            <script src=\"https://cdnjs.cloudflare.com/ajax/libs/mathjax/2.7.5/MathJax.js?config=TeX-AMS-MML_SVG\"></script><script type=\"text/javascript\">if (window.MathJax) {MathJax.Hub.Config({SVG: {font: \"STIX-Web\"}});}</script>                <script type=\"text/javascript\">window.PlotlyConfig = {MathJaxConfig: 'local'};</script>\n",
              "        <script src=\"https://cdn.plot.ly/plotly-2.8.3.min.js\"></script>                <div id=\"346c2bfe-cbc9-420e-a7f9-fa605c2e1569\" class=\"plotly-graph-div\" style=\"height:525px; width:100%;\"></div>            <script type=\"text/javascript\">                                    window.PLOTLYENV=window.PLOTLYENV || {};                                    if (document.getElementById(\"346c2bfe-cbc9-420e-a7f9-fa605c2e1569\")) {                    Plotly.newPlot(                        \"346c2bfe-cbc9-420e-a7f9-fa605c2e1569\",                        [{\"labels\":[\"New Cases\",\"Remain\"],\"marker\":{\"colors\":[\"gold\",\"mediumturquoise\"]},\"name\":\"Total Cases\",\"values\":[152583,679056735],\"type\":\"pie\",\"domain\":{\"x\":[0.0,0.2888888888888889],\"y\":[0.0,1.0]}},{\"labels\":[\"New Deaths\",\"Remain\"],\"marker\":{\"colors\":[\"blue\",\"red\"]},\"name\":\"Total Deaths\",\"values\":[1112.0,6793932.0],\"type\":\"pie\",\"domain\":{\"x\":[0.35555555555555557,0.6444444444444445],\"y\":[0.0,1.0]}},{\"labels\":[\"New Recovered\",\"Remain\"],\"marker\":{\"colors\":[\"darkorange\",\"lightgreen\"]},\"name\":\"Total Recovered\",\"values\":[229969,632709376],\"type\":\"pie\",\"domain\":{\"x\":[0.7111111111111111,1.0],\"y\":[0.0,1.0]}}],                        {\"template\":{\"data\":{\"bar\":[{\"error_x\":{\"color\":\"#2a3f5f\"},\"error_y\":{\"color\":\"#2a3f5f\"},\"marker\":{\"line\":{\"color\":\"#E5ECF6\",\"width\":0.5},\"pattern\":{\"fillmode\":\"overlay\",\"size\":10,\"solidity\":0.2}},\"type\":\"bar\"}],\"barpolar\":[{\"marker\":{\"line\":{\"color\":\"#E5ECF6\",\"width\":0.5},\"pattern\":{\"fillmode\":\"overlay\",\"size\":10,\"solidity\":0.2}},\"type\":\"barpolar\"}],\"carpet\":[{\"aaxis\":{\"endlinecolor\":\"#2a3f5f\",\"gridcolor\":\"white\",\"linecolor\":\"white\",\"minorgridcolor\":\"white\",\"startlinecolor\":\"#2a3f5f\"},\"baxis\":{\"endlinecolor\":\"#2a3f5f\",\"gridcolor\":\"white\",\"linecolor\":\"white\",\"minorgridcolor\":\"white\",\"startlinecolor\":\"#2a3f5f\"},\"type\":\"carpet\"}],\"choropleth\":[{\"colorbar\":{\"outlinewidth\":0,\"ticks\":\"\"},\"type\":\"choropleth\"}],\"contour\":[{\"colorbar\":{\"outlinewidth\":0,\"ticks\":\"\"},\"colorscale\":[[0.0,\"#0d0887\"],[0.1111111111111111,\"#46039f\"],[0.2222222222222222,\"#7201a8\"],[0.3333333333333333,\"#9c179e\"],[0.4444444444444444,\"#bd3786\"],[0.5555555555555556,\"#d8576b\"],[0.6666666666666666,\"#ed7953\"],[0.7777777777777778,\"#fb9f3a\"],[0.8888888888888888,\"#fdca26\"],[1.0,\"#f0f921\"]],\"type\":\"contour\"}],\"contourcarpet\":[{\"colorbar\":{\"outlinewidth\":0,\"ticks\":\"\"},\"type\":\"contourcarpet\"}],\"heatmap\":[{\"colorbar\":{\"outlinewidth\":0,\"ticks\":\"\"},\"colorscale\":[[0.0,\"#0d0887\"],[0.1111111111111111,\"#46039f\"],[0.2222222222222222,\"#7201a8\"],[0.3333333333333333,\"#9c179e\"],[0.4444444444444444,\"#bd3786\"],[0.5555555555555556,\"#d8576b\"],[0.6666666666666666,\"#ed7953\"],[0.7777777777777778,\"#fb9f3a\"],[0.8888888888888888,\"#fdca26\"],[1.0,\"#f0f921\"]],\"type\":\"heatmap\"}],\"heatmapgl\":[{\"colorbar\":{\"outlinewidth\":0,\"ticks\":\"\"},\"colorscale\":[[0.0,\"#0d0887\"],[0.1111111111111111,\"#46039f\"],[0.2222222222222222,\"#7201a8\"],[0.3333333333333333,\"#9c179e\"],[0.4444444444444444,\"#bd3786\"],[0.5555555555555556,\"#d8576b\"],[0.6666666666666666,\"#ed7953\"],[0.7777777777777778,\"#fb9f3a\"],[0.8888888888888888,\"#fdca26\"],[1.0,\"#f0f921\"]],\"type\":\"heatmapgl\"}],\"histogram\":[{\"marker\":{\"pattern\":{\"fillmode\":\"overlay\",\"size\":10,\"solidity\":0.2}},\"type\":\"histogram\"}],\"histogram2d\":[{\"colorbar\":{\"outlinewidth\":0,\"ticks\":\"\"},\"colorscale\":[[0.0,\"#0d0887\"],[0.1111111111111111,\"#46039f\"],[0.2222222222222222,\"#7201a8\"],[0.3333333333333333,\"#9c179e\"],[0.4444444444444444,\"#bd3786\"],[0.5555555555555556,\"#d8576b\"],[0.6666666666666666,\"#ed7953\"],[0.7777777777777778,\"#fb9f3a\"],[0.8888888888888888,\"#fdca26\"],[1.0,\"#f0f921\"]],\"type\":\"histogram2d\"}],\"histogram2dcontour\":[{\"colorbar\":{\"outlinewidth\":0,\"ticks\":\"\"},\"colorscale\":[[0.0,\"#0d0887\"],[0.1111111111111111,\"#46039f\"],[0.2222222222222222,\"#7201a8\"],[0.3333333333333333,\"#9c179e\"],[0.4444444444444444,\"#bd3786\"],[0.5555555555555556,\"#d8576b\"],[0.6666666666666666,\"#ed7953\"],[0.7777777777777778,\"#fb9f3a\"],[0.8888888888888888,\"#fdca26\"],[1.0,\"#f0f921\"]],\"type\":\"histogram2dcontour\"}],\"mesh3d\":[{\"colorbar\":{\"outlinewidth\":0,\"ticks\":\"\"},\"type\":\"mesh3d\"}],\"parcoords\":[{\"line\":{\"colorbar\":{\"outlinewidth\":0,\"ticks\":\"\"}},\"type\":\"parcoords\"}],\"pie\":[{\"automargin\":true,\"type\":\"pie\"}],\"scatter\":[{\"marker\":{\"colorbar\":{\"outlinewidth\":0,\"ticks\":\"\"}},\"type\":\"scatter\"}],\"scatter3d\":[{\"line\":{\"colorbar\":{\"outlinewidth\":0,\"ticks\":\"\"}},\"marker\":{\"colorbar\":{\"outlinewidth\":0,\"ticks\":\"\"}},\"type\":\"scatter3d\"}],\"scattercarpet\":[{\"marker\":{\"colorbar\":{\"outlinewidth\":0,\"ticks\":\"\"}},\"type\":\"scattercarpet\"}],\"scattergeo\":[{\"marker\":{\"colorbar\":{\"outlinewidth\":0,\"ticks\":\"\"}},\"type\":\"scattergeo\"}],\"scattergl\":[{\"marker\":{\"colorbar\":{\"outlinewidth\":0,\"ticks\":\"\"}},\"type\":\"scattergl\"}],\"scattermapbox\":[{\"marker\":{\"colorbar\":{\"outlinewidth\":0,\"ticks\":\"\"}},\"type\":\"scattermapbox\"}],\"scatterpolar\":[{\"marker\":{\"colorbar\":{\"outlinewidth\":0,\"ticks\":\"\"}},\"type\":\"scatterpolar\"}],\"scatterpolargl\":[{\"marker\":{\"colorbar\":{\"outlinewidth\":0,\"ticks\":\"\"}},\"type\":\"scatterpolargl\"}],\"scatterternary\":[{\"marker\":{\"colorbar\":{\"outlinewidth\":0,\"ticks\":\"\"}},\"type\":\"scatterternary\"}],\"surface\":[{\"colorbar\":{\"outlinewidth\":0,\"ticks\":\"\"},\"colorscale\":[[0.0,\"#0d0887\"],[0.1111111111111111,\"#46039f\"],[0.2222222222222222,\"#7201a8\"],[0.3333333333333333,\"#9c179e\"],[0.4444444444444444,\"#bd3786\"],[0.5555555555555556,\"#d8576b\"],[0.6666666666666666,\"#ed7953\"],[0.7777777777777778,\"#fb9f3a\"],[0.8888888888888888,\"#fdca26\"],[1.0,\"#f0f921\"]],\"type\":\"surface\"}],\"table\":[{\"cells\":{\"fill\":{\"color\":\"#EBF0F8\"},\"line\":{\"color\":\"white\"}},\"header\":{\"fill\":{\"color\":\"#C8D4E3\"},\"line\":{\"color\":\"white\"}},\"type\":\"table\"}]},\"layout\":{\"annotationdefaults\":{\"arrowcolor\":\"#2a3f5f\",\"arrowhead\":0,\"arrowwidth\":1},\"autotypenumbers\":\"strict\",\"coloraxis\":{\"colorbar\":{\"outlinewidth\":0,\"ticks\":\"\"}},\"colorscale\":{\"diverging\":[[0,\"#8e0152\"],[0.1,\"#c51b7d\"],[0.2,\"#de77ae\"],[0.3,\"#f1b6da\"],[0.4,\"#fde0ef\"],[0.5,\"#f7f7f7\"],[0.6,\"#e6f5d0\"],[0.7,\"#b8e186\"],[0.8,\"#7fbc41\"],[0.9,\"#4d9221\"],[1,\"#276419\"]],\"sequential\":[[0.0,\"#0d0887\"],[0.1111111111111111,\"#46039f\"],[0.2222222222222222,\"#7201a8\"],[0.3333333333333333,\"#9c179e\"],[0.4444444444444444,\"#bd3786\"],[0.5555555555555556,\"#d8576b\"],[0.6666666666666666,\"#ed7953\"],[0.7777777777777778,\"#fb9f3a\"],[0.8888888888888888,\"#fdca26\"],[1.0,\"#f0f921\"]],\"sequentialminus\":[[0.0,\"#0d0887\"],[0.1111111111111111,\"#46039f\"],[0.2222222222222222,\"#7201a8\"],[0.3333333333333333,\"#9c179e\"],[0.4444444444444444,\"#bd3786\"],[0.5555555555555556,\"#d8576b\"],[0.6666666666666666,\"#ed7953\"],[0.7777777777777778,\"#fb9f3a\"],[0.8888888888888888,\"#fdca26\"],[1.0,\"#f0f921\"]]},\"colorway\":[\"#636efa\",\"#EF553B\",\"#00cc96\",\"#ab63fa\",\"#FFA15A\",\"#19d3f3\",\"#FF6692\",\"#B6E880\",\"#FF97FF\",\"#FECB52\"],\"font\":{\"color\":\"#2a3f5f\"},\"geo\":{\"bgcolor\":\"white\",\"lakecolor\":\"white\",\"landcolor\":\"#E5ECF6\",\"showlakes\":true,\"showland\":true,\"subunitcolor\":\"white\"},\"hoverlabel\":{\"align\":\"left\"},\"hovermode\":\"closest\",\"mapbox\":{\"style\":\"light\"},\"paper_bgcolor\":\"white\",\"plot_bgcolor\":\"#E5ECF6\",\"polar\":{\"angularaxis\":{\"gridcolor\":\"white\",\"linecolor\":\"white\",\"ticks\":\"\"},\"bgcolor\":\"#E5ECF6\",\"radialaxis\":{\"gridcolor\":\"white\",\"linecolor\":\"white\",\"ticks\":\"\"}},\"scene\":{\"xaxis\":{\"backgroundcolor\":\"#E5ECF6\",\"gridcolor\":\"white\",\"gridwidth\":2,\"linecolor\":\"white\",\"showbackground\":true,\"ticks\":\"\",\"zerolinecolor\":\"white\"},\"yaxis\":{\"backgroundcolor\":\"#E5ECF6\",\"gridcolor\":\"white\",\"gridwidth\":2,\"linecolor\":\"white\",\"showbackground\":true,\"ticks\":\"\",\"zerolinecolor\":\"white\"},\"zaxis\":{\"backgroundcolor\":\"#E5ECF6\",\"gridcolor\":\"white\",\"gridwidth\":2,\"linecolor\":\"white\",\"showbackground\":true,\"ticks\":\"\",\"zerolinecolor\":\"white\"}},\"shapedefaults\":{\"line\":{\"color\":\"#2a3f5f\"}},\"ternary\":{\"aaxis\":{\"gridcolor\":\"white\",\"linecolor\":\"white\",\"ticks\":\"\"},\"baxis\":{\"gridcolor\":\"white\",\"linecolor\":\"white\",\"ticks\":\"\"},\"bgcolor\":\"#E5ECF6\",\"caxis\":{\"gridcolor\":\"white\",\"linecolor\":\"white\",\"ticks\":\"\"}},\"title\":{\"x\":0.05},\"xaxis\":{\"automargin\":true,\"gridcolor\":\"white\",\"linecolor\":\"white\",\"ticks\":\"\",\"title\":{\"standoff\":15},\"zerolinecolor\":\"white\",\"zerolinewidth\":2},\"yaxis\":{\"automargin\":true,\"gridcolor\":\"white\",\"linecolor\":\"white\",\"ticks\":\"\",\"title\":{\"standoff\":15},\"zerolinecolor\":\"white\",\"zerolinewidth\":2}}},\"annotations\":[{\"font\":{\"size\":16},\"showarrow\":false,\"text\":\"Total Cases\",\"x\":0.14444444444444446,\"xanchor\":\"center\",\"xref\":\"paper\",\"y\":1.0,\"yanchor\":\"bottom\",\"yref\":\"paper\"},{\"font\":{\"size\":16},\"showarrow\":false,\"text\":\"Total Deaths\",\"x\":0.5,\"xanchor\":\"center\",\"xref\":\"paper\",\"y\":1.0,\"yanchor\":\"bottom\",\"yref\":\"paper\"},{\"font\":{\"size\":16},\"showarrow\":false,\"text\":\"Total Recovered\",\"x\":0.8555555555555556,\"xanchor\":\"center\",\"xref\":\"paper\",\"y\":1.0,\"yanchor\":\"bottom\",\"yref\":\"paper\"}]},                        {\"responsive\": true}                    ).then(function(){\n",
              "                            \n",
              "var gd = document.getElementById('346c2bfe-cbc9-420e-a7f9-fa605c2e1569');\n",
              "var x = new MutationObserver(function (mutations, observer) {{\n",
              "        var display = window.getComputedStyle(gd).display;\n",
              "        if (!display || display === 'none') {{\n",
              "            console.log([gd, 'removed!']);\n",
              "            Plotly.purge(gd);\n",
              "            observer.disconnect();\n",
              "        }}\n",
              "}});\n",
              "\n",
              "// Listen for the removal of the full notebook cells\n",
              "var notebookContainer = gd.closest('#notebook-container');\n",
              "if (notebookContainer) {{\n",
              "    x.observe(notebookContainer, {childList: true});\n",
              "}}\n",
              "\n",
              "// Listen for the clearing of the current output cell\n",
              "var outputEl = gd.closest('.output');\n",
              "if (outputEl) {{\n",
              "    x.observe(outputEl, {childList: true});\n",
              "}}\n",
              "\n",
              "                        })                };                            </script>        </div>\n",
              "</body>\n",
              "</html>"
            ]
          },
          "metadata": {}
        }
      ]
    },
    {
      "cell_type": "code",
      "execution_count": null,
      "id": "18267a5e",
      "metadata": {
        "colab": {
          "base_uri": "https://localhost:8080/",
          "height": 497
        },
        "id": "18267a5e",
        "outputId": "c830b3f8-123b-4e5c-8a27-930c197fcffd"
      },
      "outputs": [
        {
          "output_type": "display_data",
          "data": {
            "text/plain": [
              "<Figure size 864x576 with 3 Axes>"
            ],
            "image/png": "[encoded data removed]"
          },
          "metadata": {
            "needs_background": "light"
          }
        }
      ],
      "source": [
        "fig, axes = plt.subplots(nrows=2, ncols=2, figsize=(12, 8))\n",
        "sns.regplot(x=\"Total Cases\", y=\"New Cases\", data=df, ax=axes[0,0]);\n",
        "sns.regplot(x=\"Total Deaths\", y=\"New Deaths\", data=df, ax=axes[0,1]);\n",
        "sns.regplot(x=\"Total Recovered\", y=\"New Recovered\", data=df, ax=axes[1,0]);\n",
        "axes[1,1].remove();\n",
        "plt.show()"
      ]
    },
    {
      "cell_type": "markdown",
      "id": "249f2a1a",
      "metadata": {
        "id": "249f2a1a"
      },
      "source": [
        "While this is not true in every case, we can observe that there is a positive linear correlation between the total number of cases and the number of new cases, particularly when the total number of cases is high. The same pattern holds for the number of deaths and the number of recovered cases."
      ]
    },
    {
      "cell_type": "markdown",
      "id": "28e921f0",
      "metadata": {
        "id": "28e921f0"
      },
      "source": [
        "## 15. Relation between Total Deaths, Total Recovered, Active Cases"
      ]
    },
    {
      "cell_type": "code",
      "execution_count": null,
      "id": "72264cb3",
      "metadata": {
        "colab": {
          "base_uri": "https://localhost:8080/",
          "height": 550
        },
        "id": "72264cb3",
        "outputId": "cd981864-0439-4f91-ef28-80b31cb0b9de"
      },
      "outputs": [
        {
          "output_type": "display_data",
          "data": {
            "text/plain": [
              "<Figure size 540x540 with 12 Axes>"
            ],
            "image/png": "[encoded data removed]"
          },
          "metadata": {
            "needs_background": "light"
          }
        }
      ],
      "source": [
        "sns.pairplot(df[['Total Deaths', 'Total Recovered', 'Active Cases']], kind=\"reg\")\n",
        "plt.show();"
      ]
    },
    {
      "cell_type": "code",
      "execution_count": null,
      "id": "32e5b3d4",
      "metadata": {
        "colab": {
          "base_uri": "https://localhost:8080/",
          "height": 553
        },
        "id": "32e5b3d4",
        "outputId": "209b930c-c213-4ebb-8a70-908c82b15aa4"
      },
      "outputs": [
        {
          "output_type": "display_data",
          "data": {
            "text/plain": [
              "<Figure size 792x648 with 2 Axes>"
            ],
            "image/png": "[encoded data removed]"
          },
          "metadata": {
            "needs_background": "light"
          }
        }
      ],
      "source": [
        "mask = np.triu(np.ones_like(df[['Total Deaths', 'Total Recovered', 'Active Cases']].corr(), dtype=bool))\n",
        "f, ax = plt.subplots(figsize=(11, 9))\n",
        "cmap = sns.diverging_palette(230, 20, as_cmap=True)\n",
        "\n",
        "sns.heatmap(df[['Total Deaths', 'Total Recovered', 'Active Cases']].corr(),annot=True, mask=mask, cmap=cmap, vmax=.3, center=0,\n",
        "            square=True, linewidths=.5, cbar_kws={\"shrink\": .5})\n",
        "plt.title(\"Correlation Matrix using HeatMap\",fontweight=\"bold\")\n",
        "plt.show()"
      ]
    },
    {
      "cell_type": "code",
      "source": [
        "import plotly.graph_objects as go\n",
        "labels = ['Total Deaths', 'Total Recovered', 'Active Cases']\n",
        "sizes = [sum(df['Total Deaths']), sum(df['Total Recovered']), sum(df['Active Cases'])]  \n",
        "fig = go.Figure(data=[go.Pie(labels=labels, values=sizes,sort=False)])\n",
        "fig.update_traces(marker=dict(colors=['#ff4d6d','#70e000','#0096c7']))\n",
        "fig.show()"
      ],
      "metadata": {
        "colab": {
          "base_uri": "https://localhost:8080/",
          "height": 542
        },
        "id": "7nPGg7pSm-hd",
        "outputId": "df5d68f9-5304-4e83-8d75-d578bfb72a12"
      },
      "id": "7nPGg7pSm-hd",
      "execution_count": null,
      "outputs": [
        {
          "output_type": "display_data",
          "data": {
            "text/html": [
              "<html>\n",
              "<head><meta charset=\"utf-8\" /></head>\n",
              "<body>\n",
              "    <div>            <script src=\"https://cdnjs.cloudflare.com/ajax/libs/mathjax/2.7.5/MathJax.js?config=TeX-AMS-MML_SVG\"></script><script type=\"text/javascript\">if (window.MathJax) {MathJax.Hub.Config({SVG: {font: \"STIX-Web\"}});}</script>                <script type=\"text/javascript\">window.PlotlyConfig = {MathJaxConfig: 'local'};</script>\n",
              "        <script src=\"https://cdn.plot.ly/plotly-2.8.3.min.js\"></script>                <div id=\"ff4f90d7-7f2a-4b8f-8b3a-4b6185d20b12\" class=\"plotly-graph-div\" style=\"height:525px; width:100%;\"></div>            <script type=\"text/javascript\">                                    window.PLOTLYENV=window.PLOTLYENV || {};                                    if (document.getElementById(\"ff4f90d7-7f2a-4b8f-8b3a-4b6185d20b12\")) {                    Plotly.newPlot(                        \"ff4f90d7-7f2a-4b8f-8b3a-4b6185d20b12\",                        [{\"labels\":[\"Total Deaths\",\"Total Recovered\",\"Active Cases\"],\"sort\":false,\"values\":[6795044,632939345,18925818],\"type\":\"pie\",\"marker\":{\"colors\":[\"#ff4d6d\",\"#70e000\",\"#0096c7\"]}}],                        {\"template\":{\"data\":{\"bar\":[{\"error_x\":{\"color\":\"#2a3f5f\"},\"error_y\":{\"color\":\"#2a3f5f\"},\"marker\":{\"line\":{\"color\":\"#E5ECF6\",\"width\":0.5},\"pattern\":{\"fillmode\":\"overlay\",\"size\":10,\"solidity\":0.2}},\"type\":\"bar\"}],\"barpolar\":[{\"marker\":{\"line\":{\"color\":\"#E5ECF6\",\"width\":0.5},\"pattern\":{\"fillmode\":\"overlay\",\"size\":10,\"solidity\":0.2}},\"type\":\"barpolar\"}],\"carpet\":[{\"aaxis\":{\"endlinecolor\":\"#2a3f5f\",\"gridcolor\":\"white\",\"linecolor\":\"white\",\"minorgridcolor\":\"white\",\"startlinecolor\":\"#2a3f5f\"},\"baxis\":{\"endlinecolor\":\"#2a3f5f\",\"gridcolor\":\"white\",\"linecolor\":\"white\",\"minorgridcolor\":\"white\",\"startlinecolor\":\"#2a3f5f\"},\"type\":\"carpet\"}],\"choropleth\":[{\"colorbar\":{\"outlinewidth\":0,\"ticks\":\"\"},\"type\":\"choropleth\"}],\"contour\":[{\"colorbar\":{\"outlinewidth\":0,\"ticks\":\"\"},\"colorscale\":[[0.0,\"#0d0887\"],[0.1111111111111111,\"#46039f\"],[0.2222222222222222,\"#7201a8\"],[0.3333333333333333,\"#9c179e\"],[0.4444444444444444,\"#bd3786\"],[0.5555555555555556,\"#d8576b\"],[0.6666666666666666,\"#ed7953\"],[0.7777777777777778,\"#fb9f3a\"],[0.8888888888888888,\"#fdca26\"],[1.0,\"#f0f921\"]],\"type\":\"contour\"}],\"contourcarpet\":[{\"colorbar\":{\"outlinewidth\":0,\"ticks\":\"\"},\"type\":\"contourcarpet\"}],\"heatmap\":[{\"colorbar\":{\"outlinewidth\":0,\"ticks\":\"\"},\"colorscale\":[[0.0,\"#0d0887\"],[0.1111111111111111,\"#46039f\"],[0.2222222222222222,\"#7201a8\"],[0.3333333333333333,\"#9c179e\"],[0.4444444444444444,\"#bd3786\"],[0.5555555555555556,\"#d8576b\"],[0.6666666666666666,\"#ed7953\"],[0.7777777777777778,\"#fb9f3a\"],[0.8888888888888888,\"#fdca26\"],[1.0,\"#f0f921\"]],\"type\":\"heatmap\"}],\"heatmapgl\":[{\"colorbar\":{\"outlinewidth\":0,\"ticks\":\"\"},\"colorscale\":[[0.0,\"#0d0887\"],[0.1111111111111111,\"#46039f\"],[0.2222222222222222,\"#7201a8\"],[0.3333333333333333,\"#9c179e\"],[0.4444444444444444,\"#bd3786\"],[0.5555555555555556,\"#d8576b\"],[0.6666666666666666,\"#ed7953\"],[0.7777777777777778,\"#fb9f3a\"],[0.8888888888888888,\"#fdca26\"],[1.0,\"#f0f921\"]],\"type\":\"heatmapgl\"}],\"histogram\":[{\"marker\":{\"pattern\":{\"fillmode\":\"overlay\",\"size\":10,\"solidity\":0.2}},\"type\":\"histogram\"}],\"histogram2d\":[{\"colorbar\":{\"outlinewidth\":0,\"ticks\":\"\"},\"colorscale\":[[0.0,\"#0d0887\"],[0.1111111111111111,\"#46039f\"],[0.2222222222222222,\"#7201a8\"],[0.3333333333333333,\"#9c179e\"],[0.4444444444444444,\"#bd3786\"],[0.5555555555555556,\"#d8576b\"],[0.6666666666666666,\"#ed7953\"],[0.7777777777777778,\"#fb9f3a\"],[0.8888888888888888,\"#fdca26\"],[1.0,\"#f0f921\"]],\"type\":\"histogram2d\"}],\"histogram2dcontour\":[{\"colorbar\":{\"outlinewidth\":0,\"ticks\":\"\"},\"colorscale\":[[0.0,\"#0d0887\"],[0.1111111111111111,\"#46039f\"],[0.2222222222222222,\"#7201a8\"],[0.3333333333333333,\"#9c179e\"],[0.4444444444444444,\"#bd3786\"],[0.5555555555555556,\"#d8576b\"],[0.6666666666666666,\"#ed7953\"],[0.7777777777777778,\"#fb9f3a\"],[0.8888888888888888,\"#fdca26\"],[1.0,\"#f0f921\"]],\"type\":\"histogram2dcontour\"}],\"mesh3d\":[{\"colorbar\":{\"outlinewidth\":0,\"ticks\":\"\"},\"type\":\"mesh3d\"}],\"parcoords\":[{\"line\":{\"colorbar\":{\"outlinewidth\":0,\"ticks\":\"\"}},\"type\":\"parcoords\"}],\"pie\":[{\"automargin\":true,\"type\":\"pie\"}],\"scatter\":[{\"marker\":{\"colorbar\":{\"outlinewidth\":0,\"ticks\":\"\"}},\"type\":\"scatter\"}],\"scatter3d\":[{\"line\":{\"colorbar\":{\"outlinewidth\":0,\"ticks\":\"\"}},\"marker\":{\"colorbar\":{\"outlinewidth\":0,\"ticks\":\"\"}},\"type\":\"scatter3d\"}],\"scattercarpet\":[{\"marker\":{\"colorbar\":{\"outlinewidth\":0,\"ticks\":\"\"}},\"type\":\"scattercarpet\"}],\"scattergeo\":[{\"marker\":{\"colorbar\":{\"outlinewidth\":0,\"ticks\":\"\"}},\"type\":\"scattergeo\"}],\"scattergl\":[{\"marker\":{\"colorbar\":{\"outlinewidth\":0,\"ticks\":\"\"}},\"type\":\"scattergl\"}],\"scattermapbox\":[{\"marker\":{\"colorbar\":{\"outlinewidth\":0,\"ticks\":\"\"}},\"type\":\"scattermapbox\"}],\"scatterpolar\":[{\"marker\":{\"colorbar\":{\"outlinewidth\":0,\"ticks\":\"\"}},\"type\":\"scatterpolar\"}],\"scatterpolargl\":[{\"marker\":{\"colorbar\":{\"outlinewidth\":0,\"ticks\":\"\"}},\"type\":\"scatterpolargl\"}],\"scatterternary\":[{\"marker\":{\"colorbar\":{\"outlinewidth\":0,\"ticks\":\"\"}},\"type\":\"scatterternary\"}],\"surface\":[{\"colorbar\":{\"outlinewidth\":0,\"ticks\":\"\"},\"colorscale\":[[0.0,\"#0d0887\"],[0.1111111111111111,\"#46039f\"],[0.2222222222222222,\"#7201a8\"],[0.3333333333333333,\"#9c179e\"],[0.4444444444444444,\"#bd3786\"],[0.5555555555555556,\"#d8576b\"],[0.6666666666666666,\"#ed7953\"],[0.7777777777777778,\"#fb9f3a\"],[0.8888888888888888,\"#fdca26\"],[1.0,\"#f0f921\"]],\"type\":\"surface\"}],\"table\":[{\"cells\":{\"fill\":{\"color\":\"#EBF0F8\"},\"line\":{\"color\":\"white\"}},\"header\":{\"fill\":{\"color\":\"#C8D4E3\"},\"line\":{\"color\":\"white\"}},\"type\":\"table\"}]},\"layout\":{\"annotationdefaults\":{\"arrowcolor\":\"#2a3f5f\",\"arrowhead\":0,\"arrowwidth\":1},\"autotypenumbers\":\"strict\",\"coloraxis\":{\"colorbar\":{\"outlinewidth\":0,\"ticks\":\"\"}},\"colorscale\":{\"diverging\":[[0,\"#8e0152\"],[0.1,\"#c51b7d\"],[0.2,\"#de77ae\"],[0.3,\"#f1b6da\"],[0.4,\"#fde0ef\"],[0.5,\"#f7f7f7\"],[0.6,\"#e6f5d0\"],[0.7,\"#b8e186\"],[0.8,\"#7fbc41\"],[0.9,\"#4d9221\"],[1,\"#276419\"]],\"sequential\":[[0.0,\"#0d0887\"],[0.1111111111111111,\"#46039f\"],[0.2222222222222222,\"#7201a8\"],[0.3333333333333333,\"#9c179e\"],[0.4444444444444444,\"#bd3786\"],[0.5555555555555556,\"#d8576b\"],[0.6666666666666666,\"#ed7953\"],[0.7777777777777778,\"#fb9f3a\"],[0.8888888888888888,\"#fdca26\"],[1.0,\"#f0f921\"]],\"sequentialminus\":[[0.0,\"#0d0887\"],[0.1111111111111111,\"#46039f\"],[0.2222222222222222,\"#7201a8\"],[0.3333333333333333,\"#9c179e\"],[0.4444444444444444,\"#bd3786\"],[0.5555555555555556,\"#d8576b\"],[0.6666666666666666,\"#ed7953\"],[0.7777777777777778,\"#fb9f3a\"],[0.8888888888888888,\"#fdca26\"],[1.0,\"#f0f921\"]]},\"colorway\":[\"#636efa\",\"#EF553B\",\"#00cc96\",\"#ab63fa\",\"#FFA15A\",\"#19d3f3\",\"#FF6692\",\"#B6E880\",\"#FF97FF\",\"#FECB52\"],\"font\":{\"color\":\"#2a3f5f\"},\"geo\":{\"bgcolor\":\"white\",\"lakecolor\":\"white\",\"landcolor\":\"#E5ECF6\",\"showlakes\":true,\"showland\":true,\"subunitcolor\":\"white\"},\"hoverlabel\":{\"align\":\"left\"},\"hovermode\":\"closest\",\"mapbox\":{\"style\":\"light\"},\"paper_bgcolor\":\"white\",\"plot_bgcolor\":\"#E5ECF6\",\"polar\":{\"angularaxis\":{\"gridcolor\":\"white\",\"linecolor\":\"white\",\"ticks\":\"\"},\"bgcolor\":\"#E5ECF6\",\"radialaxis\":{\"gridcolor\":\"white\",\"linecolor\":\"white\",\"ticks\":\"\"}},\"scene\":{\"xaxis\":{\"backgroundcolor\":\"#E5ECF6\",\"gridcolor\":\"white\",\"gridwidth\":2,\"linecolor\":\"white\",\"showbackground\":true,\"ticks\":\"\",\"zerolinecolor\":\"white\"},\"yaxis\":{\"backgroundcolor\":\"#E5ECF6\",\"gridcolor\":\"white\",\"gridwidth\":2,\"linecolor\":\"white\",\"showbackground\":true,\"ticks\":\"\",\"zerolinecolor\":\"white\"},\"zaxis\":{\"backgroundcolor\":\"#E5ECF6\",\"gridcolor\":\"white\",\"gridwidth\":2,\"linecolor\":\"white\",\"showbackground\":true,\"ticks\":\"\",\"zerolinecolor\":\"white\"}},\"shapedefaults\":{\"line\":{\"color\":\"#2a3f5f\"}},\"ternary\":{\"aaxis\":{\"gridcolor\":\"white\",\"linecolor\":\"white\",\"ticks\":\"\"},\"baxis\":{\"gridcolor\":\"white\",\"linecolor\":\"white\",\"ticks\":\"\"},\"bgcolor\":\"#E5ECF6\",\"caxis\":{\"gridcolor\":\"white\",\"linecolor\":\"white\",\"ticks\":\"\"}},\"title\":{\"x\":0.05},\"xaxis\":{\"automargin\":true,\"gridcolor\":\"white\",\"linecolor\":\"white\",\"ticks\":\"\",\"title\":{\"standoff\":15},\"zerolinecolor\":\"white\",\"zerolinewidth\":2},\"yaxis\":{\"automargin\":true,\"gridcolor\":\"white\",\"linecolor\":\"white\",\"ticks\":\"\",\"title\":{\"standoff\":15},\"zerolinecolor\":\"white\",\"zerolinewidth\":2}}}},                        {\"responsive\": true}                    ).then(function(){\n",
              "                            \n",
              "var gd = document.getElementById('ff4f90d7-7f2a-4b8f-8b3a-4b6185d20b12');\n",
              "var x = new MutationObserver(function (mutations, observer) {{\n",
              "        var display = window.getComputedStyle(gd).display;\n",
              "        if (!display || display === 'none') {{\n",
              "            console.log([gd, 'removed!']);\n",
              "            Plotly.purge(gd);\n",
              "            observer.disconnect();\n",
              "        }}\n",
              "}});\n",
              "\n",
              "// Listen for the removal of the full notebook cells\n",
              "var notebookContainer = gd.closest('#notebook-container');\n",
              "if (notebookContainer) {{\n",
              "    x.observe(notebookContainer, {childList: true});\n",
              "}}\n",
              "\n",
              "// Listen for the clearing of the current output cell\n",
              "var outputEl = gd.closest('.output');\n",
              "if (outputEl) {{\n",
              "    x.observe(outputEl, {childList: true});\n",
              "}}\n",
              "\n",
              "                        })                };                            </script>        </div>\n",
              "</body>\n",
              "</html>"
            ]
          },
          "metadata": {}
        }
      ]
    },
    {
      "cell_type": "code",
      "execution_count": null,
      "id": "cb5af5f7",
      "metadata": {
        "colab": {
          "base_uri": "https://localhost:8080/",
          "height": 581
        },
        "id": "cb5af5f7",
        "outputId": "21512b67-b098-4d07-87ef-c77afa9cfdcb"
      },
      "outputs": [
        {
          "output_type": "execute_result",
          "data": {
            "text/plain": [
              "   Country, Other  Total Cases  New Cases  Total Deaths  New Deaths  \\\n",
              "1             USA    105148929      24941       1144242       249.0   \n",
              "2           India     44685450        193        530763         1.0   \n",
              "3          France     39600548       4584        164829        38.0   \n",
              "4         Germany     38068912      25038        167604       113.0   \n",
              "5          Brazil     36997328       5174        698381       312.0   \n",
              "6           Japan     33136016      18654         71923       114.0   \n",
              "7        S. Korea     30458857      13082         33887        14.0   \n",
              "8           Italy     25547414          0        187850         0.0   \n",
              "9              UK     24341615          0        206246         0.0   \n",
              "10         Russia     22203942      13954        395901        34.0   \n",
              "12          Spain     13755956          0        119186         0.0   \n",
              "13        Vietnam     11526858         24         43186         0.0   \n",
              "14      Australia     11360439       2961         19340        16.0   \n",
              "15      Argentina     10043308          0        130458         0.0   \n",
              "16         Taiwan      9970933      16480         17672        64.0   \n",
              "\n",
              "    Total Recovered  New Recovered  Active Cases  Serious, Critical  \\\n",
              "1         102473264          58247       1531423               2436   \n",
              "2          44152687            127          2000                  0   \n",
              "3          39368047           3989         67672                869   \n",
              "4          37630800          13600        270508                  0   \n",
              "5          36170812          54404        128135                  0   \n",
              "6          21669889           1261      11394204                212   \n",
              "7          30209520          14496        215450                186   \n",
              "8          25174036              0        185528                154   \n",
              "9          24071436           2621         63933                  0   \n",
              "10         21542609          15408        265432                  0   \n",
              "12         13596016              0         40754                231   \n",
              "13         10614735              7        868937                  5   \n",
              "14         11311584              0         29515                 43   \n",
              "15          9907133            456          5717                363   \n",
              "16          9579044          27033        374217                  0   \n",
              "\n",
              "    Tot Cases/ 1M pop  Deaths/ 1M pop  Total Tests  Tests/ 1M pop  Population  \\\n",
              "1              314060            3418   1163631220        3475546   334805269   \n",
              "2               31768             377    918101478         652695  1406631776   \n",
              "3              603809            2513    271490188        4139547    65584518   \n",
              "4              453830            1998    122332384        1458359    83883596   \n",
              "5              171798            3243     63776166         296146   215353593   \n",
              "6              263854             573     94608068         753340   125584838   \n",
              "7              593394             660     15804065         307892    51329899   \n",
              "8              423934            3117    267156892        4433200    60262770   \n",
              "9              355363            3011    522526476        7628357    68497907   \n",
              "10             152284            2715    273400000        1875095   145805947   \n",
              "12             294439            2551    471036328       10082298    46719142   \n",
              "13             116488             436     85826548         867342    98953541   \n",
              "14             435787             742     78835048        3024116    26068792   \n",
              "15             218284            2835     35716069         776264    46010234   \n",
              "16             417393             740     30742304        1286903    23888595   \n",
              "\n",
              "            Continent  \n",
              "1       North America  \n",
              "2                Asia  \n",
              "3              Europe  \n",
              "4              Europe  \n",
              "5       South America  \n",
              "6                Asia  \n",
              "7                Asia  \n",
              "8              Europe  \n",
              "9              Europe  \n",
              "10             Europe  \n",
              "12             Europe  \n",
              "13               Asia  \n",
              "14  Australia/Oceania  \n",
              "15      South America  \n",
              "16               Asia  "
            ],
            "text/html": [
              "\n",
              "  <div id=\"df-7f94bae7-93ea-483e-ba1f-da61c6a4eabd\">\n",
              "    <div class=\"colab-df-container\">\n",
              "      <div>\n",
              "<style scoped>\n",
              "    .dataframe tbody tr th:only-of-type {\n",
              "        vertical-align: middle;\n",
              "    }\n",
              "\n",
              "    .dataframe tbody tr th {\n",
              "        vertical-align: top;\n",
              "    }\n",
              "\n",
              "    .dataframe thead th {\n",
              "        text-align: right;\n",
              "    }\n",
              "</style>\n",
              "<table border=\"1\" class=\"dataframe\">\n",
              "  <thead>\n",
              "    <tr style=\"text-align: right;\">\n",
              "      <th></th>\n",
              "      <th>Country, Other</th>\n",
              "      <th>Total Cases</th>\n",
              "      <th>New Cases</th>\n",
              "      <th>Total Deaths</th>\n",
              "      <th>New Deaths</th>\n",
              "      <th>Total Recovered</th>\n",
              "      <th>New Recovered</th>\n",
              "      <th>Active Cases</th>\n",
              "      <th>Serious, Critical</th>\n",
              "      <th>Tot Cases/ 1M pop</th>\n",
              "      <th>Deaths/ 1M pop</th>\n",
              "      <th>Total Tests</th>\n",
              "      <th>Tests/ 1M pop</th>\n",
              "      <th>Population</th>\n",
              "      <th>Continent</th>\n",
              "    </tr>\n",
              "  </thead>\n",
              "  <tbody>\n",
              "    <tr>\n",
              "      <th>1</th>\n",
              "      <td>USA</td>\n",
              "      <td>105148929</td>\n",
              "      <td>24941</td>\n",
              "      <td>1144242</td>\n",
              "      <td>249.0</td>\n",
              "      <td>102473264</td>\n",
              "      <td>58247</td>\n",
              "      <td>1531423</td>\n",
              "      <td>2436</td>\n",
              "      <td>314060</td>\n",
              "      <td>3418</td>\n",
              "      <td>1163631220</td>\n",
              "      <td>3475546</td>\n",
              "      <td>334805269</td>\n",
              "      <td>North America</td>\n",
              "    </tr>\n",
              "    <tr>\n",
              "      <th>2</th>\n",
              "      <td>India</td>\n",
              "      <td>44685450</td>\n",
              "      <td>193</td>\n",
              "      <td>530763</td>\n",
              "      <td>1.0</td>\n",
              "      <td>44152687</td>\n",
              "      <td>127</td>\n",
              "      <td>2000</td>\n",
              "      <td>0</td>\n",
              "      <td>31768</td>\n",
              "      <td>377</td>\n",
              "      <td>918101478</td>\n",
              "      <td>652695</td>\n",
              "      <td>1406631776</td>\n",
              "      <td>Asia</td>\n",
              "    </tr>\n",
              "    <tr>\n",
              "      <th>3</th>\n",
              "      <td>France</td>\n",
              "      <td>39600548</td>\n",
              "      <td>4584</td>\n",
              "      <td>164829</td>\n",
              "      <td>38.0</td>\n",
              "      <td>39368047</td>\n",
              "      <td>3989</td>\n",
              "      <td>67672</td>\n",
              "      <td>869</td>\n",
              "      <td>603809</td>\n",
              "      <td>2513</td>\n",
              "      <td>271490188</td>\n",
              "      <td>4139547</td>\n",
              "      <td>65584518</td>\n",
              "      <td>Europe</td>\n",
              "    </tr>\n",
              "    <tr>\n",
              "      <th>4</th>\n",
              "      <td>Germany</td>\n",
              "      <td>38068912</td>\n",
              "      <td>25038</td>\n",
              "      <td>167604</td>\n",
              "      <td>113.0</td>\n",
              "      <td>37630800</td>\n",
              "      <td>13600</td>\n",
              "      <td>270508</td>\n",
              "      <td>0</td>\n",
              "      <td>453830</td>\n",
              "      <td>1998</td>\n",
              "      <td>122332384</td>\n",
              "      <td>1458359</td>\n",
              "      <td>83883596</td>\n",
              "      <td>Europe</td>\n",
              "    </tr>\n",
              "    <tr>\n",
              "      <th>5</th>\n",
              "      <td>Brazil</td>\n",
              "      <td>36997328</td>\n",
              "      <td>5174</td>\n",
              "      <td>698381</td>\n",
              "      <td>312.0</td>\n",
              "      <td>36170812</td>\n",
              "      <td>54404</td>\n",
              "      <td>128135</td>\n",
              "      <td>0</td>\n",
              "      <td>171798</td>\n",
              "      <td>3243</td>\n",
              "      <td>63776166</td>\n",
              "      <td>296146</td>\n",
              "      <td>215353593</td>\n",
              "      <td>South America</td>\n",
              "    </tr>\n",
              "    <tr>\n",
              "      <th>6</th>\n",
              "      <td>Japan</td>\n",
              "      <td>33136016</td>\n",
              "      <td>18654</td>\n",
              "      <td>71923</td>\n",
              "      <td>114.0</td>\n",
              "      <td>21669889</td>\n",
              "      <td>1261</td>\n",
              "      <td>11394204</td>\n",
              "      <td>212</td>\n",
              "      <td>263854</td>\n",
              "      <td>573</td>\n",
              "      <td>94608068</td>\n",
              "      <td>753340</td>\n",
              "      <td>125584838</td>\n",
              "      <td>Asia</td>\n",
              "    </tr>\n",
              "    <tr>\n",
              "      <th>7</th>\n",
              "      <td>S. Korea</td>\n",
              "      <td>30458857</td>\n",
              "      <td>13082</td>\n",
              "      <td>33887</td>\n",
              "      <td>14.0</td>\n",
              "      <td>30209520</td>\n",
              "      <td>14496</td>\n",
              "      <td>215450</td>\n",
              "      <td>186</td>\n",
              "      <td>593394</td>\n",
              "      <td>660</td>\n",
              "      <td>15804065</td>\n",
              "      <td>307892</td>\n",
              "      <td>51329899</td>\n",
              "      <td>Asia</td>\n",
              "    </tr>\n",
              "    <tr>\n",
              "      <th>8</th>\n",
              "      <td>Italy</td>\n",
              "      <td>25547414</td>\n",
              "      <td>0</td>\n",
              "      <td>187850</td>\n",
              "      <td>0.0</td>\n",
              "      <td>25174036</td>\n",
              "      <td>0</td>\n",
              "      <td>185528</td>\n",
              "      <td>154</td>\n",
              "      <td>423934</td>\n",
              "      <td>3117</td>\n",
              "      <td>267156892</td>\n",
              "      <td>4433200</td>\n",
              "      <td>60262770</td>\n",
              "      <td>Europe</td>\n",
              "    </tr>\n",
              "    <tr>\n",
              "      <th>9</th>\n",
              "      <td>UK</td>\n",
              "      <td>24341615</td>\n",
              "      <td>0</td>\n",
              "      <td>206246</td>\n",
              "      <td>0.0</td>\n",
              "      <td>24071436</td>\n",
              "      <td>2621</td>\n",
              "      <td>63933</td>\n",
              "      <td>0</td>\n",
              "      <td>355363</td>\n",
              "      <td>3011</td>\n",
              "      <td>522526476</td>\n",
              "      <td>7628357</td>\n",
              "      <td>68497907</td>\n",
              "      <td>Europe</td>\n",
              "    </tr>\n",
              "    <tr>\n",
              "      <th>10</th>\n",
              "      <td>Russia</td>\n",
              "      <td>22203942</td>\n",
              "      <td>13954</td>\n",
              "      <td>395901</td>\n",
              "      <td>34.0</td>\n",
              "      <td>21542609</td>\n",
              "      <td>15408</td>\n",
              "      <td>265432</td>\n",
              "      <td>0</td>\n",
              "      <td>152284</td>\n",
              "      <td>2715</td>\n",
              "      <td>273400000</td>\n",
              "      <td>1875095</td>\n",
              "      <td>145805947</td>\n",
              "      <td>Europe</td>\n",
              "    </tr>\n",
              "    <tr>\n",
              "      <th>12</th>\n",
              "      <td>Spain</td>\n",
              "      <td>13755956</td>\n",
              "      <td>0</td>\n",
              "      <td>119186</td>\n",
              "      <td>0.0</td>\n",
              "      <td>13596016</td>\n",
              "      <td>0</td>\n",
              "      <td>40754</td>\n",
              "      <td>231</td>\n",
              "      <td>294439</td>\n",
              "      <td>2551</td>\n",
              "      <td>471036328</td>\n",
              "      <td>10082298</td>\n",
              "      <td>46719142</td>\n",
              "      <td>Europe</td>\n",
              "    </tr>\n",
              "    <tr>\n",
              "      <th>13</th>\n",
              "      <td>Vietnam</td>\n",
              "      <td>11526858</td>\n",
              "      <td>24</td>\n",
              "      <td>43186</td>\n",
              "      <td>0.0</td>\n",
              "      <td>10614735</td>\n",
              "      <td>7</td>\n",
              "      <td>868937</td>\n",
              "      <td>5</td>\n",
              "      <td>116488</td>\n",
              "      <td>436</td>\n",
              "      <td>85826548</td>\n",
              "      <td>867342</td>\n",
              "      <td>98953541</td>\n",
              "      <td>Asia</td>\n",
              "    </tr>\n",
              "    <tr>\n",
              "      <th>14</th>\n",
              "      <td>Australia</td>\n",
              "      <td>11360439</td>\n",
              "      <td>2961</td>\n",
              "      <td>19340</td>\n",
              "      <td>16.0</td>\n",
              "      <td>11311584</td>\n",
              "      <td>0</td>\n",
              "      <td>29515</td>\n",
              "      <td>43</td>\n",
              "      <td>435787</td>\n",
              "      <td>742</td>\n",
              "      <td>78835048</td>\n",
              "      <td>3024116</td>\n",
              "      <td>26068792</td>\n",
              "      <td>Australia/Oceania</td>\n",
              "    </tr>\n",
              "    <tr>\n",
              "      <th>15</th>\n",
              "      <td>Argentina</td>\n",
              "      <td>10043308</td>\n",
              "      <td>0</td>\n",
              "      <td>130458</td>\n",
              "      <td>0.0</td>\n",
              "      <td>9907133</td>\n",
              "      <td>456</td>\n",
              "      <td>5717</td>\n",
              "      <td>363</td>\n",
              "      <td>218284</td>\n",
              "      <td>2835</td>\n",
              "      <td>35716069</td>\n",
              "      <td>776264</td>\n",
              "      <td>46010234</td>\n",
              "      <td>South America</td>\n",
              "    </tr>\n",
              "    <tr>\n",
              "      <th>16</th>\n",
              "      <td>Taiwan</td>\n",
              "      <td>9970933</td>\n",
              "      <td>16480</td>\n",
              "      <td>17672</td>\n",
              "      <td>64.0</td>\n",
              "      <td>9579044</td>\n",
              "      <td>27033</td>\n",
              "      <td>374217</td>\n",
              "      <td>0</td>\n",
              "      <td>417393</td>\n",
              "      <td>740</td>\n",
              "      <td>30742304</td>\n",
              "      <td>1286903</td>\n",
              "      <td>23888595</td>\n",
              "      <td>Asia</td>\n",
              "    </tr>\n",
              "  </tbody>\n",
              "</table>\n",
              "</div>\n",
              "      <button class=\"colab-df-convert\" onclick=\"convertToInteractive('df-7f94bae7-93ea-483e-ba1f-da61c6a4eabd')\"\n",
              "              title=\"Convert this dataframe to an interactive table.\"\n",
              "              style=\"display:none;\">\n",
              "        \n",
              "  <svg xmlns=\"http://www.w3.org/2000/svg\" height=\"24px\"viewBox=\"0 0 24 24\"\n",
              "       width=\"24px\">\n",
              "    <path d=\"M0 0h24v24H0V0z\" fill=\"none\"/>\n",
              "    <path d=\"M18.56 5.44l.94 2.06.94-2.06 2.06-.94-2.06-.94-.94-2.06-.94 2.06-2.06.94zm-11 1L8.5 8.5l.94-2.06 2.06-.94-2.06-.94L8.5 2.5l-.94 2.06-2.06.94zm10 10l.94 2.06.94-2.06 2.06-.94-2.06-.94-.94-2.06-.94 2.06-2.06.94z\"/><path d=\"M17.41 7.96l-1.37-1.37c-.4-.4-.92-.59-1.43-.59-.52 0-1.04.2-1.43.59L10.3 9.45l-7.72 7.72c-.78.78-.78 2.05 0 2.83L4 21.41c.39.39.9.59 1.41.59.51 0 1.02-.2 1.41-.59l7.78-7.78 2.81-2.81c.8-.78.8-2.07 0-2.86zM5.41 20L4 18.59l7.72-7.72 1.47 1.35L5.41 20z\"/>\n",
              "  </svg>\n",
              "      </button>\n",
              "      \n",
              "  <style>\n",
              "    .colab-df-container {\n",
              "      display:flex;\n",
              "      flex-wrap:wrap;\n",
              "      gap: 12px;\n",
              "    }\n",
              "\n",
              "    .colab-df-convert {\n",
              "      background-color: #E8F0FE;\n",
              "      border: none;\n",
              "      border-radius: 50%;\n",
              "      cursor: pointer;\n",
              "      display: none;\n",
              "      fill: #1967D2;\n",
              "      height: 32px;\n",
              "      padding: 0 0 0 0;\n",
              "      width: 32px;\n",
              "    }\n",
              "\n",
              "    .colab-df-convert:hover {\n",
              "      background-color: #E2EBFA;\n",
              "      box-shadow: 0px 1px 2px rgba(60, 64, 67, 0.3), 0px 1px 3px 1px rgba(60, 64, 67, 0.15);\n",
              "      fill: #174EA6;\n",
              "    }\n",
              "\n",
              "    [theme=dark] .colab-df-convert {\n",
              "      background-color: #3B4455;\n",
              "      fill: #D2E3FC;\n",
              "    }\n",
              "\n",
              "    [theme=dark] .colab-df-convert:hover {\n",
              "      background-color: #434B5C;\n",
              "      box-shadow: 0px 1px 3px 1px rgba(0, 0, 0, 0.15);\n",
              "      filter: drop-shadow(0px 1px 2px rgba(0, 0, 0, 0.3));\n",
              "      fill: #FFFFFF;\n",
              "    }\n",
              "  </style>\n",
              "\n",
              "      <script>\n",
              "        const buttonEl =\n",
              "          document.querySelector('#df-7f94bae7-93ea-483e-ba1f-da61c6a4eabd button.colab-df-convert');\n",
              "        buttonEl.style.display =\n",
              "          google.colab.kernel.accessAllowed ? 'block' : 'none';\n",
              "\n",
              "        async function convertToInteractive(key) {\n",
              "          const element = document.querySelector('#df-7f94bae7-93ea-483e-ba1f-da61c6a4eabd');\n",
              "          const dataTable =\n",
              "            await google.colab.kernel.invokeFunction('convertToInteractive',\n",
              "                                                     [key], {});\n",
              "          if (!dataTable) return;\n",
              "\n",
              "          const docLinkHtml = 'Like what you see? Visit the ' +\n",
              "            '<a target=\"_blank\" href=https://colab.research.google.com/notebooks/data_table.ipynb>data table notebook</a>'\n",
              "            + ' to learn more about interactive tables.';\n",
              "          element.innerHTML = '';\n",
              "          dataTable['output_type'] = 'display_data';\n",
              "          await google.colab.output.renderOutput(dataTable, element);\n",
              "          const docLink = document.createElement('div');\n",
              "          docLink.innerHTML = docLinkHtml;\n",
              "          element.appendChild(docLink);\n",
              "        }\n",
              "      </script>\n",
              "    </div>\n",
              "  </div>\n",
              "  "
            ]
          },
          "metadata": {},
          "execution_count": 44
        }
      ],
      "source": [
        "toptencases = df[df['Country, Other']!='Turkey'].sort_values(by=['Total Cases'], ascending=False)[:15]\n",
        "toptencases"
      ]
    },
    {
      "cell_type": "code",
      "execution_count": null,
      "id": "fc457a63",
      "metadata": {
        "colab": {
          "base_uri": "https://localhost:8080/",
          "height": 622
        },
        "id": "fc457a63",
        "outputId": "f11f9293-b9ca-4112-93e1-c047881194da"
      },
      "outputs": [
        {
          "output_type": "display_data",
          "data": {
            "text/plain": [
              "<Figure size 1008x720 with 1 Axes>"
            ],
            "image/png": "[encoded data removed]"
          },
          "metadata": {}
        }
      ],
      "source": [
        "import matplotlib.patches as mpatches\n",
        "# set plot style: grey grid in the background:\n",
        "sns.set(style=\"darkgrid\")\n",
        "# set the figure size\n",
        "plt.figure(figsize=(14, 10))\n",
        "\n",
        "bar1 = sns.barplot(x=\"Country, Other\",  y=\"Total Recovered\", data=toptencases, color='#70e000')\n",
        "\n",
        "bar2 = sns.barplot(x=\"Country, Other\", y=\"Active Cases\", data=toptencases, estimator=sum, ci=None,  color='#0096c7')\n",
        "\n",
        "bar3 = sns.barplot(x=\"Country, Other\", y=\"Total Deaths\", data=toptencases, estimator=sum, ci=None,  color='#ff4d6d')\n",
        "# add legend\n",
        "top_bar = mpatches.Patch(color='#70e000', label='Total Recovered')\n",
        "bottom_bar = mpatches.Patch(color='#0096c7', label='Active Cases')\n",
        "mid_bar = mpatches.Patch(color='#ff4d6d', label='Total Deaths')\n",
        "plt.legend(handles=[top_bar, bottom_bar,mid_bar])\n",
        "plt.ylabel('Total Cases')\n",
        "# show the graph\n",
        "plt.show();"
      ]
    },
    {
      "cell_type": "markdown",
      "id": "77e6f95d",
      "metadata": {
        "id": "77e6f95d"
      },
      "source": [
        "## Population vs Continent"
      ]
    },
    {
      "cell_type": "code",
      "execution_count": null,
      "id": "1bb8e929",
      "metadata": {
        "colab": {
          "base_uri": "https://localhost:8080/",
          "height": 405
        },
        "id": "1bb8e929",
        "outputId": "9b87080b-30b7-426d-dbde-6023b10f44d3"
      },
      "outputs": [
        {
          "output_type": "display_data",
          "data": {
            "text/plain": [
              "<Figure size 1008x432 with 1 Axes>"
            ],
            "image/png": "[encoded data removed]"
          },
          "metadata": {}
        }
      ],
      "source": [
        "data = df[df.Continent != 'Do not know'].groupby('Continent').sum()\n",
        "sumofPopulation = data.Population.sort_values(ascending=False)\n",
        "rank = sumofPopulation.argsort().argsort()\n",
        "pal = sns.color_palette(\"Greens_d\", len(data))\n",
        "fig, ax = plt.subplots(figsize=(14, 6))\n",
        "sns.barplot(x=sumofPopulation.index, y=sumofPopulation, palette=np.array(pal)[rank]);"
      ]
    },
    {
      "cell_type": "markdown",
      "id": "a857fcfc",
      "metadata": {
        "id": "a857fcfc"
      },
      "source": [
        "### Total Cases vs Continent"
      ]
    },
    {
      "cell_type": "code",
      "execution_count": null,
      "id": "45cf56ac",
      "metadata": {
        "colab": {
          "base_uri": "https://localhost:8080/"
        },
        "id": "45cf56ac",
        "outputId": "4080fd8a-0731-4782-c7a0-8ad644888f28"
      },
      "outputs": [
        {
          "output_type": "execute_result",
          "data": {
            "text/plain": [
              "Africa               58\n",
              "Asia                 50\n",
              "Europe               48\n",
              "North America        39\n",
              "Australia/Oceania    20\n",
              "South America        14\n",
              "Do not know           2\n",
              "Name: Continent, dtype: int64"
            ]
          },
          "metadata": {},
          "execution_count": 47
        }
      ],
      "source": [
        "df['Continent'].value_counts()"
      ]
    },
    {
      "cell_type": "code",
      "execution_count": null,
      "id": "f4e7b511",
      "metadata": {
        "colab": {
          "base_uri": "https://localhost:8080/",
          "height": 410
        },
        "id": "f4e7b511",
        "outputId": "fe3b2666-22a3-4784-d157-4efe42adc2c6"
      },
      "outputs": [
        {
          "output_type": "display_data",
          "data": {
            "text/plain": [
              "<Figure size 1008x432 with 1 Axes>"
            ],
            "image/png": "[encoded data removed]"
          },
          "metadata": {}
        }
      ],
      "source": [
        "con = df[df.Continent != 'Do not know']\n",
        "fig, ax = plt.subplots(figsize=(14, 6))\n",
        "grouped_data = con.groupby('Continent')['Total Cases'].apply(list)\n",
        "ax.boxplot(grouped_data, positions=range(0, len(con['Continent'].unique())), showmeans=True, meanline=True)\n",
        "plt.scatter(con['Continent'], con['Total Cases'])\n",
        "plt.title('Total cases in 229 Country from Continent')\n",
        "plt.xlabel('Continent')\n",
        "plt.ylabel('Total Cases')\n",
        "\n",
        "ax.set_xticks(range(len(con['Continent'].unique())))\n",
        "ax.set_xticklabels(con['Continent'].unique());"
      ]
    },
    {
      "cell_type": "markdown",
      "id": "e906638a",
      "metadata": {
        "id": "e906638a"
      },
      "source": [
        "We check the total cases on different continents using Analysis of variance (ANOVA). In order to answer the research question (“is the total cases in country different in continent?”) we now need to formulate it properly as a null hypothesis with a corresponding alternate hypothesis:\n",
        "\n",
        "> H0: true mean total cases are the same for all continent <br>\n",
        " H1: true mean total cases are not the same for all continent"
      ]
    },
    {
      "cell_type": "code",
      "execution_count": null,
      "id": "4a39cfff",
      "metadata": {
        "id": "4a39cfff"
      },
      "outputs": [],
      "source": [
        "continent = df['Continent'].value_counts().index.to_list()\n",
        "continent.remove('Do not know')\n",
        "continents = []\n",
        "for c in continent:\n",
        "    continents.append(df[df['Continent']==c]['Total Cases'].to_list())\n",
        "continent_groups = {}\n",
        "for continent, group in con.groupby('Continent'):\n",
        "    continent_groups[continent] = group['Total Cases']\n",
        "n_total = sum([len(x) for x in continent_groups.values()])\n",
        "total_mean = sum(df['Total Cases']) / n_total\n",
        "continent_means = {continent: sum(values) / len(values) for continent, values in continent_groups.items()}"
      ]
    },
    {
      "cell_type": "markdown",
      "id": "3cbaccc1",
      "metadata": {
        "id": "3cbaccc1"
      },
      "source": [
        "Finding a mean"
      ]
    },
    {
      "cell_type": "code",
      "execution_count": null,
      "id": "20bddc9a",
      "metadata": {
        "colab": {
          "base_uri": "https://localhost:8080/"
        },
        "id": "20bddc9a",
        "outputId": "f705074e-f58b-485d-af7a-dbbc4daef87a"
      },
      "outputs": [
        {
          "output_type": "execute_result",
          "data": {
            "text/plain": [
              "2965976.406113537"
            ]
          },
          "metadata": {},
          "execution_count": 50
        }
      ],
      "source": [
        "mean = con['Total Cases'].mean()\n",
        "mean"
      ]
    },
    {
      "cell_type": "markdown",
      "id": "b6f790e9",
      "metadata": {
        "id": "b6f790e9"
      },
      "source": [
        "Finding total sum of squares"
      ]
    },
    {
      "cell_type": "code",
      "execution_count": null,
      "id": "c9ddc85b",
      "metadata": {
        "colab": {
          "base_uri": "https://localhost:8080/"
        },
        "id": "c9ddc85b",
        "outputId": "f197103e-5c78-42e6-9ded-dc9b6902bcc3"
      },
      "outputs": [
        {
          "output_type": "stream",
          "name": "stdout",
          "text": [
            "2.0954334674440988e+16\n"
          ]
        }
      ],
      "source": [
        "sst = 0\n",
        "for cont in range(len(continents)):\n",
        "    for change in range(len(continents[cont])):\n",
        "        sst+=((continents[cont][change] - mean)**2)\n",
        "        \n",
        "print(sst)"
      ]
    },
    {
      "cell_type": "markdown",
      "id": "c4c290a3",
      "metadata": {
        "id": "c4c290a3"
      },
      "source": [
        "Finding degrees of freedom number 1"
      ]
    },
    {
      "cell_type": "code",
      "execution_count": null,
      "id": "0e6703a6",
      "metadata": {
        "colab": {
          "base_uri": "https://localhost:8080/"
        },
        "id": "0e6703a6",
        "outputId": "2691d616-aea6-4298-e7cf-7fa9d09ed3fd"
      },
      "outputs": [
        {
          "output_type": "execute_result",
          "data": {
            "text/plain": [
              "5"
            ]
          },
          "metadata": {},
          "execution_count": 52
        }
      ],
      "source": [
        "df_1 = len(continents) - 1\n",
        "df_1"
      ]
    },
    {
      "cell_type": "markdown",
      "id": "b98ea972",
      "metadata": {
        "id": "b98ea972"
      },
      "source": [
        "Calculating variations within groups "
      ]
    },
    {
      "cell_type": "code",
      "execution_count": null,
      "id": "c2c0dc2e",
      "metadata": {
        "id": "c2c0dc2e"
      },
      "outputs": [],
      "source": [
        "def ssw(data):\n",
        "    meann = sum(data) / len(data)\n",
        "    ssw = 0\n",
        "    for i in range(len(data)):\n",
        "        ssw += (data[i]-meann)**2\n",
        "    return meann, ssw\n",
        "ssw_cont = [ssw(x) for x in continents]"
      ]
    },
    {
      "cell_type": "markdown",
      "id": "e799d198",
      "metadata": {
        "id": "e799d198"
      },
      "source": [
        "Calculating a sum of variations within groups"
      ]
    },
    {
      "cell_type": "code",
      "execution_count": null,
      "id": "87ef21d7",
      "metadata": {
        "colab": {
          "base_uri": "https://localhost:8080/"
        },
        "id": "87ef21d7",
        "outputId": "abaa404e-1fb4-4d95-ba0d-bc596d35ca3f"
      },
      "outputs": [
        {
          "output_type": "execute_result",
          "data": {
            "text/plain": [
              "2.005235191025025e+16"
            ]
          },
          "metadata": {},
          "execution_count": 54
        }
      ],
      "source": [
        "ssw_full = sum([x[1] for x in ssw_cont])\n",
        "ssw_full"
      ]
    },
    {
      "cell_type": "markdown",
      "id": "032381c6",
      "metadata": {
        "id": "032381c6"
      },
      "source": [
        "Degrees of freedom number 2"
      ]
    },
    {
      "cell_type": "code",
      "execution_count": null,
      "id": "62b2772d",
      "metadata": {
        "colab": {
          "base_uri": "https://localhost:8080/"
        },
        "id": "62b2772d",
        "outputId": "4a5f5e19-51f5-4d8f-b3a9-566f82f06174"
      },
      "outputs": [
        {
          "output_type": "execute_result",
          "data": {
            "text/plain": [
              "223"
            ]
          },
          "metadata": {},
          "execution_count": 55
        }
      ],
      "source": [
        "df_2 = n_total - len(continent_groups)\n",
        "df_2"
      ]
    },
    {
      "cell_type": "code",
      "execution_count": null,
      "id": "80b1d3db",
      "metadata": {
        "id": "80b1d3db"
      },
      "outputs": [],
      "source": [
        "continent_means = {continent: sum(values) / len(values) for continent, values in continent_groups.items()}\n",
        "ssb  = sum([len(values) * (mean - total_mean)**2 for continent, values in continent_groups.items() for mean in [continent_means[continent]]])"
      ]
    },
    {
      "cell_type": "markdown",
      "id": "ff43fd26",
      "metadata": {
        "id": "ff43fd26"
      },
      "source": [
        "Calculating F-score"
      ]
    },
    {
      "cell_type": "code",
      "execution_count": null,
      "id": "5f325963",
      "metadata": {
        "colab": {
          "base_uri": "https://localhost:8080/"
        },
        "id": "5f325963",
        "outputId": "0e652132-b93d-45f3-81b3-c7d307073fe0"
      },
      "outputs": [
        {
          "output_type": "execute_result",
          "data": {
            "text/plain": [
              "2.0061702219799953"
            ]
          },
          "metadata": {},
          "execution_count": 67
        }
      ],
      "source": [
        "F = ssb/df_1/(ssw_full/df_2)\n",
        "F "
      ]
    },
    {
      "cell_type": "markdown",
      "id": "cb791980",
      "metadata": {
        "id": "cb791980"
      },
      "source": [
        "With Critical F-value:\t2.25453784 (Degrees of freedom 1 = 5, Degrees of freedom 2 = 223, Probability level = 0.05). When the F statistic is less than the F critical value, it means that there is not enough evidence to reject the null hypothesis that the group means are equal. This indicates that there is not a statistically significant difference between the means of the groups being compared.\n"
      ]
    },
    {
      "cell_type": "markdown",
      "id": "1a535e3f",
      "metadata": {
        "id": "1a535e3f"
      },
      "source": [
        "## Total Deaths vs Population"
      ]
    },
    {
      "cell_type": "markdown",
      "id": "31ee4df8",
      "metadata": {
        "id": "31ee4df8"
      },
      "source": [
        "Due to the presence of extreme values in the data, Spearman Correlation can be used instead of Correlation Coefficient to determine the correlation between Total Deaths and Population.\n",
        "\n",
        "Spearman’s correlation coefficient is a statistical measure of the strength of a monotonic relationship between paired data. In a sample it is denoted by and is by $r_s$ design constrained as follows: \n",
        "$$-1 \\leq r_s \\leq 1$$\n",
        "\n",
        "And its interpretation is similar to that of Pearsons, e.g. the closer \n",
        "is to the \n",
        "stronger the monotonic relationship. Correlation is an effect size and so we can \n",
        "verbally describe the strength of the correlation using the following guide for the \n",
        "absolute value of \n",
        ":\n",
        "* .00-.19 “very weak”\n",
        "* .20-.39 “weak”\n",
        "* .40-.59 “moderate”\n",
        "* .60-.79 “strong”\n",
        "* .80-1.0 “very strong”\n"
      ]
    },
    {
      "cell_type": "code",
      "execution_count": null,
      "id": "7e00a9eb",
      "metadata": {
        "id": "7e00a9eb"
      },
      "outputs": [],
      "source": [
        "def spearman_corr(x, y):\n",
        "    n = len(x)\n",
        "    rank_x = {val: i+1 for i, val in enumerate(sorted(set(x)))}\n",
        "    rank_y = {val: i+1 for i, val in enumerate(sorted(set(y)))}\n",
        "    rank_x_values = [rank_x[val] for val in x]\n",
        "    rank_y_values = [rank_y[val] for val in y]\n",
        "    rank_diff_sq = sum([(rank_x_values[i] - rank_y_values[i]) ** 2 for i in range(n)])\n",
        "    return 1 - (6 * rank_diff_sq / (n * (n**2 - 1)))\n"
      ]
    },
    {
      "cell_type": "code",
      "execution_count": null,
      "id": "c6d5b6ef",
      "metadata": {
        "colab": {
          "base_uri": "https://localhost:8080/"
        },
        "id": "c6d5b6ef",
        "outputId": "5f0fc7c2-d33a-4eee-9603-9d86a1ba5893"
      },
      "outputs": [
        {
          "output_type": "stream",
          "name": "stdout",
          "text": [
            "0.7651487567904359\n"
          ]
        }
      ],
      "source": [
        "print(spearman_corr(df['Total Deaths'], df['Population']))"
      ]
    },
    {
      "cell_type": "markdown",
      "id": "e0e60222",
      "metadata": {
        "id": "e0e60222"
      },
      "source": [
        "Since $r_s = 0.76514$ We can infer a strong correlation between Total Deaths and Population."
      ]
    },
    {
      "cell_type": "code",
      "execution_count": null,
      "id": "66d4181f",
      "metadata": {
        "colab": {
          "base_uri": "https://localhost:8080/",
          "height": 437
        },
        "id": "66d4181f",
        "outputId": "b0389433-96de-418b-e3ce-0a97e39a27da"
      },
      "outputs": [
        {
          "output_type": "display_data",
          "data": {
            "text/plain": [
              "<Figure size 432x432 with 3 Axes>"
            ],
            "image/png": "[encoded data removed]"
          },
          "metadata": {}
        }
      ],
      "source": [
        "g = sns.jointplot(x=\"Population\", y=\"Total Deaths\", data=df)\n",
        "plt.show();"
      ]
    },
    {
      "cell_type": "code",
      "source": [
        "continents = df[df.Continent != 'Do not know'].groupby('Continent').sum()\n",
        "continents['Continent'] = continents.index \n",
        "fig = px.bar(continents, x=\"Continent\",y = ['Total Recovered','Total Deaths','Active Cases'], title=\"Compare Recovered, Deaths and Active case between Continent\")\n",
        "fig.show()"
      ],
      "metadata": {
        "colab": {
          "base_uri": "https://localhost:8080/",
          "height": 542
        },
        "id": "osy1Wr3eFQAF",
        "outputId": "68eee72a-b11c-4695-b462-1bc0baf91d63"
      },
      "id": "osy1Wr3eFQAF",
      "execution_count": null,
      "outputs": [
        {
          "output_type": "display_data",
          "data": {
            "text/html": [
              "<html>\n",
              "<head><meta charset=\"utf-8\" /></head>\n",
              "<body>\n",
              "    <div>            <script src=\"https://cdnjs.cloudflare.com/ajax/libs/mathjax/2.7.5/MathJax.js?config=TeX-AMS-MML_SVG\"></script><script type=\"text/javascript\">if (window.MathJax) {MathJax.Hub.Config({SVG: {font: \"STIX-Web\"}});}</script>                <script type=\"text/javascript\">window.PlotlyConfig = {MathJaxConfig: 'local'};</script>\n",
              "        <script src=\"https://cdn.plot.ly/plotly-2.8.3.min.js\"></script>                <div id=\"1bc831e6-4cb1-49ca-a3a6-60fb520d9f2a\" class=\"plotly-graph-div\" style=\"height:525px; width:100%;\"></div>            <script type=\"text/javascript\">                                    window.PLOTLYENV=window.PLOTLYENV || {};                                    if (document.getElementById(\"1bc831e6-4cb1-49ca-a3a6-60fb520d9f2a\")) {                    Plotly.newPlot(                        \"1bc831e6-4cb1-49ca-a3a6-60fb520d9f2a\",                        [{\"alignmentgroup\":\"True\",\"hovertemplate\":\"variable=Total Recovered<br>Continent=%{x}<br>value=%{y}<extra></extra>\",\"legendgroup\":\"Total Recovered\",\"marker\":{\"color\":\"#636efa\",\"pattern\":{\"shape\":\"\"}},\"name\":\"Total Recovered\",\"offsetgroup\":\"Total Recovered\",\"orientation\":\"v\",\"showlegend\":true,\"textposition\":\"auto\",\"x\":[\"Africa\",\"Asia\",\"Australia/Oceania\",\"Europe\",\"North America\",\"South America\"],\"xaxis\":\"x\",\"y\":[10956357,181892651,13765780,241445260,119441096,65437495],\"yaxis\":\"y\",\"type\":\"bar\"},{\"alignmentgroup\":\"True\",\"hovertemplate\":\"variable=Total Deaths<br>Continent=%{x}<br>value=%{y}<extra></extra>\",\"legendgroup\":\"Total Deaths\",\"marker\":{\"color\":\"#EF553B\",\"pattern\":{\"shape\":\"\"}},\"name\":\"Total Deaths\",\"offsetgroup\":\"Total Deaths\",\"orientation\":\"v\",\"showlegend\":true,\"textposition\":\"auto\",\"x\":[\"Africa\",\"Asia\",\"Australia/Oceania\",\"Europe\",\"North America\",\"South America\"],\"xaxis\":\"x\",\"y\":[258576,1535572,26043,2015454,1609650,1349734],\"yaxis\":\"y\",\"type\":\"bar\"},{\"alignmentgroup\":\"True\",\"hovertemplate\":\"variable=Active Cases<br>Continent=%{x}<br>value=%{y}<extra></extra>\",\"legendgroup\":\"Active Cases\",\"marker\":{\"color\":\"#00cc96\",\"pattern\":{\"shape\":\"\"}},\"name\":\"Active Cases\",\"offsetgroup\":\"Active Cases\",\"orientation\":\"v\",\"showlegend\":true,\"textposition\":\"auto\",\"x\":[\"Africa\",\"Asia\",\"Australia/Oceania\",\"Europe\",\"North America\",\"South America\"],\"xaxis\":\"x\",\"y\":[362909,13513476,64105,2233145,2471164,281019],\"yaxis\":\"y\",\"type\":\"bar\"}],                        {\"template\":{\"data\":{\"bar\":[{\"error_x\":{\"color\":\"#2a3f5f\"},\"error_y\":{\"color\":\"#2a3f5f\"},\"marker\":{\"line\":{\"color\":\"#E5ECF6\",\"width\":0.5},\"pattern\":{\"fillmode\":\"overlay\",\"size\":10,\"solidity\":0.2}},\"type\":\"bar\"}],\"barpolar\":[{\"marker\":{\"line\":{\"color\":\"#E5ECF6\",\"width\":0.5},\"pattern\":{\"fillmode\":\"overlay\",\"size\":10,\"solidity\":0.2}},\"type\":\"barpolar\"}],\"carpet\":[{\"aaxis\":{\"endlinecolor\":\"#2a3f5f\",\"gridcolor\":\"white\",\"linecolor\":\"white\",\"minorgridcolor\":\"white\",\"startlinecolor\":\"#2a3f5f\"},\"baxis\":{\"endlinecolor\":\"#2a3f5f\",\"gridcolor\":\"white\",\"linecolor\":\"white\",\"minorgridcolor\":\"white\",\"startlinecolor\":\"#2a3f5f\"},\"type\":\"carpet\"}],\"choropleth\":[{\"colorbar\":{\"outlinewidth\":0,\"ticks\":\"\"},\"type\":\"choropleth\"}],\"contour\":[{\"colorbar\":{\"outlinewidth\":0,\"ticks\":\"\"},\"colorscale\":[[0.0,\"#0d0887\"],[0.1111111111111111,\"#46039f\"],[0.2222222222222222,\"#7201a8\"],[0.3333333333333333,\"#9c179e\"],[0.4444444444444444,\"#bd3786\"],[0.5555555555555556,\"#d8576b\"],[0.6666666666666666,\"#ed7953\"],[0.7777777777777778,\"#fb9f3a\"],[0.8888888888888888,\"#fdca26\"],[1.0,\"#f0f921\"]],\"type\":\"contour\"}],\"contourcarpet\":[{\"colorbar\":{\"outlinewidth\":0,\"ticks\":\"\"},\"type\":\"contourcarpet\"}],\"heatmap\":[{\"colorbar\":{\"outlinewidth\":0,\"ticks\":\"\"},\"colorscale\":[[0.0,\"#0d0887\"],[0.1111111111111111,\"#46039f\"],[0.2222222222222222,\"#7201a8\"],[0.3333333333333333,\"#9c179e\"],[0.4444444444444444,\"#bd3786\"],[0.5555555555555556,\"#d8576b\"],[0.6666666666666666,\"#ed7953\"],[0.7777777777777778,\"#fb9f3a\"],[0.8888888888888888,\"#fdca26\"],[1.0,\"#f0f921\"]],\"type\":\"heatmap\"}],\"heatmapgl\":[{\"colorbar\":{\"outlinewidth\":0,\"ticks\":\"\"},\"colorscale\":[[0.0,\"#0d0887\"],[0.1111111111111111,\"#46039f\"],[0.2222222222222222,\"#7201a8\"],[0.3333333333333333,\"#9c179e\"],[0.4444444444444444,\"#bd3786\"],[0.5555555555555556,\"#d8576b\"],[0.6666666666666666,\"#ed7953\"],[0.7777777777777778,\"#fb9f3a\"],[0.8888888888888888,\"#fdca26\"],[1.0,\"#f0f921\"]],\"type\":\"heatmapgl\"}],\"histogram\":[{\"marker\":{\"pattern\":{\"fillmode\":\"overlay\",\"size\":10,\"solidity\":0.2}},\"type\":\"histogram\"}],\"histogram2d\":[{\"colorbar\":{\"outlinewidth\":0,\"ticks\":\"\"},\"colorscale\":[[0.0,\"#0d0887\"],[0.1111111111111111,\"#46039f\"],[0.2222222222222222,\"#7201a8\"],[0.3333333333333333,\"#9c179e\"],[0.4444444444444444,\"#bd3786\"],[0.5555555555555556,\"#d8576b\"],[0.6666666666666666,\"#ed7953\"],[0.7777777777777778,\"#fb9f3a\"],[0.8888888888888888,\"#fdca26\"],[1.0,\"#f0f921\"]],\"type\":\"histogram2d\"}],\"histogram2dcontour\":[{\"colorbar\":{\"outlinewidth\":0,\"ticks\":\"\"},\"colorscale\":[[0.0,\"#0d0887\"],[0.1111111111111111,\"#46039f\"],[0.2222222222222222,\"#7201a8\"],[0.3333333333333333,\"#9c179e\"],[0.4444444444444444,\"#bd3786\"],[0.5555555555555556,\"#d8576b\"],[0.6666666666666666,\"#ed7953\"],[0.7777777777777778,\"#fb9f3a\"],[0.8888888888888888,\"#fdca26\"],[1.0,\"#f0f921\"]],\"type\":\"histogram2dcontour\"}],\"mesh3d\":[{\"colorbar\":{\"outlinewidth\":0,\"ticks\":\"\"},\"type\":\"mesh3d\"}],\"parcoords\":[{\"line\":{\"colorbar\":{\"outlinewidth\":0,\"ticks\":\"\"}},\"type\":\"parcoords\"}],\"pie\":[{\"automargin\":true,\"type\":\"pie\"}],\"scatter\":[{\"marker\":{\"colorbar\":{\"outlinewidth\":0,\"ticks\":\"\"}},\"type\":\"scatter\"}],\"scatter3d\":[{\"line\":{\"colorbar\":{\"outlinewidth\":0,\"ticks\":\"\"}},\"marker\":{\"colorbar\":{\"outlinewidth\":0,\"ticks\":\"\"}},\"type\":\"scatter3d\"}],\"scattercarpet\":[{\"marker\":{\"colorbar\":{\"outlinewidth\":0,\"ticks\":\"\"}},\"type\":\"scattercarpet\"}],\"scattergeo\":[{\"marker\":{\"colorbar\":{\"outlinewidth\":0,\"ticks\":\"\"}},\"type\":\"scattergeo\"}],\"scattergl\":[{\"marker\":{\"colorbar\":{\"outlinewidth\":0,\"ticks\":\"\"}},\"type\":\"scattergl\"}],\"scattermapbox\":[{\"marker\":{\"colorbar\":{\"outlinewidth\":0,\"ticks\":\"\"}},\"type\":\"scattermapbox\"}],\"scatterpolar\":[{\"marker\":{\"colorbar\":{\"outlinewidth\":0,\"ticks\":\"\"}},\"type\":\"scatterpolar\"}],\"scatterpolargl\":[{\"marker\":{\"colorbar\":{\"outlinewidth\":0,\"ticks\":\"\"}},\"type\":\"scatterpolargl\"}],\"scatterternary\":[{\"marker\":{\"colorbar\":{\"outlinewidth\":0,\"ticks\":\"\"}},\"type\":\"scatterternary\"}],\"surface\":[{\"colorbar\":{\"outlinewidth\":0,\"ticks\":\"\"},\"colorscale\":[[0.0,\"#0d0887\"],[0.1111111111111111,\"#46039f\"],[0.2222222222222222,\"#7201a8\"],[0.3333333333333333,\"#9c179e\"],[0.4444444444444444,\"#bd3786\"],[0.5555555555555556,\"#d8576b\"],[0.6666666666666666,\"#ed7953\"],[0.7777777777777778,\"#fb9f3a\"],[0.8888888888888888,\"#fdca26\"],[1.0,\"#f0f921\"]],\"type\":\"surface\"}],\"table\":[{\"cells\":{\"fill\":{\"color\":\"#EBF0F8\"},\"line\":{\"color\":\"white\"}},\"header\":{\"fill\":{\"color\":\"#C8D4E3\"},\"line\":{\"color\":\"white\"}},\"type\":\"table\"}]},\"layout\":{\"annotationdefaults\":{\"arrowcolor\":\"#2a3f5f\",\"arrowhead\":0,\"arrowwidth\":1},\"autotypenumbers\":\"strict\",\"coloraxis\":{\"colorbar\":{\"outlinewidth\":0,\"ticks\":\"\"}},\"colorscale\":{\"diverging\":[[0,\"#8e0152\"],[0.1,\"#c51b7d\"],[0.2,\"#de77ae\"],[0.3,\"#f1b6da\"],[0.4,\"#fde0ef\"],[0.5,\"#f7f7f7\"],[0.6,\"#e6f5d0\"],[0.7,\"#b8e186\"],[0.8,\"#7fbc41\"],[0.9,\"#4d9221\"],[1,\"#276419\"]],\"sequential\":[[0.0,\"#0d0887\"],[0.1111111111111111,\"#46039f\"],[0.2222222222222222,\"#7201a8\"],[0.3333333333333333,\"#9c179e\"],[0.4444444444444444,\"#bd3786\"],[0.5555555555555556,\"#d8576b\"],[0.6666666666666666,\"#ed7953\"],[0.7777777777777778,\"#fb9f3a\"],[0.8888888888888888,\"#fdca26\"],[1.0,\"#f0f921\"]],\"sequentialminus\":[[0.0,\"#0d0887\"],[0.1111111111111111,\"#46039f\"],[0.2222222222222222,\"#7201a8\"],[0.3333333333333333,\"#9c179e\"],[0.4444444444444444,\"#bd3786\"],[0.5555555555555556,\"#d8576b\"],[0.6666666666666666,\"#ed7953\"],[0.7777777777777778,\"#fb9f3a\"],[0.8888888888888888,\"#fdca26\"],[1.0,\"#f0f921\"]]},\"colorway\":[\"#636efa\",\"#EF553B\",\"#00cc96\",\"#ab63fa\",\"#FFA15A\",\"#19d3f3\",\"#FF6692\",\"#B6E880\",\"#FF97FF\",\"#FECB52\"],\"font\":{\"color\":\"#2a3f5f\"},\"geo\":{\"bgcolor\":\"white\",\"lakecolor\":\"white\",\"landcolor\":\"#E5ECF6\",\"showlakes\":true,\"showland\":true,\"subunitcolor\":\"white\"},\"hoverlabel\":{\"align\":\"left\"},\"hovermode\":\"closest\",\"mapbox\":{\"style\":\"light\"},\"paper_bgcolor\":\"white\",\"plot_bgcolor\":\"#E5ECF6\",\"polar\":{\"angularaxis\":{\"gridcolor\":\"white\",\"linecolor\":\"white\",\"ticks\":\"\"},\"bgcolor\":\"#E5ECF6\",\"radialaxis\":{\"gridcolor\":\"white\",\"linecolor\":\"white\",\"ticks\":\"\"}},\"scene\":{\"xaxis\":{\"backgroundcolor\":\"#E5ECF6\",\"gridcolor\":\"white\",\"gridwidth\":2,\"linecolor\":\"white\",\"showbackground\":true,\"ticks\":\"\",\"zerolinecolor\":\"white\"},\"yaxis\":{\"backgroundcolor\":\"#E5ECF6\",\"gridcolor\":\"white\",\"gridwidth\":2,\"linecolor\":\"white\",\"showbackground\":true,\"ticks\":\"\",\"zerolinecolor\":\"white\"},\"zaxis\":{\"backgroundcolor\":\"#E5ECF6\",\"gridcolor\":\"white\",\"gridwidth\":2,\"linecolor\":\"white\",\"showbackground\":true,\"ticks\":\"\",\"zerolinecolor\":\"white\"}},\"shapedefaults\":{\"line\":{\"color\":\"#2a3f5f\"}},\"ternary\":{\"aaxis\":{\"gridcolor\":\"white\",\"linecolor\":\"white\",\"ticks\":\"\"},\"baxis\":{\"gridcolor\":\"white\",\"linecolor\":\"white\",\"ticks\":\"\"},\"bgcolor\":\"#E5ECF6\",\"caxis\":{\"gridcolor\":\"white\",\"linecolor\":\"white\",\"ticks\":\"\"}},\"title\":{\"x\":0.05},\"xaxis\":{\"automargin\":true,\"gridcolor\":\"white\",\"linecolor\":\"white\",\"ticks\":\"\",\"title\":{\"standoff\":15},\"zerolinecolor\":\"white\",\"zerolinewidth\":2},\"yaxis\":{\"automargin\":true,\"gridcolor\":\"white\",\"linecolor\":\"white\",\"ticks\":\"\",\"title\":{\"standoff\":15},\"zerolinecolor\":\"white\",\"zerolinewidth\":2}}},\"xaxis\":{\"anchor\":\"y\",\"domain\":[0.0,1.0],\"title\":{\"text\":\"Continent\"}},\"yaxis\":{\"anchor\":\"x\",\"domain\":[0.0,1.0],\"title\":{\"text\":\"value\"}},\"legend\":{\"title\":{\"text\":\"variable\"},\"tracegroupgap\":0},\"title\":{\"text\":\"Compare Recovered, Deaths and Active case between Continent\"},\"barmode\":\"relative\"},                        {\"responsive\": true}                    ).then(function(){\n",
              "                            \n",
              "var gd = document.getElementById('1bc831e6-4cb1-49ca-a3a6-60fb520d9f2a');\n",
              "var x = new MutationObserver(function (mutations, observer) {{\n",
              "        var display = window.getComputedStyle(gd).display;\n",
              "        if (!display || display === 'none') {{\n",
              "            console.log([gd, 'removed!']);\n",
              "            Plotly.purge(gd);\n",
              "            observer.disconnect();\n",
              "        }}\n",
              "}});\n",
              "\n",
              "// Listen for the removal of the full notebook cells\n",
              "var notebookContainer = gd.closest('#notebook-container');\n",
              "if (notebookContainer) {{\n",
              "    x.observe(notebookContainer, {childList: true});\n",
              "}}\n",
              "\n",
              "// Listen for the clearing of the current output cell\n",
              "var outputEl = gd.closest('.output');\n",
              "if (outputEl) {{\n",
              "    x.observe(outputEl, {childList: true});\n",
              "}}\n",
              "\n",
              "                        })                };                            </script>        </div>\n",
              "</body>\n",
              "</html>"
            ]
          },
          "metadata": {}
        }
      ]
    },
    {
      "cell_type": "markdown",
      "id": "114964c0",
      "metadata": {
        "id": "114964c0"
      },
      "source": [
        "### Total Tests, Totals Cases, New Cases, Active Cases"
      ]
    },
    {
      "cell_type": "code",
      "source": [
        "import plotly.express as px\n",
        "fig = px.scatter(df[df.Continent != 'Do not know'], x=\"Total Tests\", y=\"Total Cases\",size='Population', trendline='ols', trendline_color_override='#DEB887')\n",
        "fig.show()"
      ],
      "metadata": {
        "colab": {
          "base_uri": "https://localhost:8080/",
          "height": 542
        },
        "id": "HYzcj8oD2NMg",
        "outputId": "1a918b0c-90ca-4662-ba2f-368d0d8bae2e"
      },
      "id": "HYzcj8oD2NMg",
      "execution_count": null,
      "outputs": [
        {
          "output_type": "display_data",
          "data": {
            "text/html": [
              "<html>\n",
              "<head><meta charset=\"utf-8\" /></head>\n",
              "<body>\n",
              "    <div>            <script src=\"https://cdnjs.cloudflare.com/ajax/libs/mathjax/2.7.5/MathJax.js?config=TeX-AMS-MML_SVG\"></script><script type=\"text/javascript\">if (window.MathJax) {MathJax.Hub.Config({SVG: {font: \"STIX-Web\"}});}</script>                <script type=\"text/javascript\">window.PlotlyConfig = {MathJaxConfig: 'local'};</script>\n",
              "        <script src=\"https://cdn.plot.ly/plotly-2.8.3.min.js\"></script>                <div id=\"3fc367cd-a926-4ec4-992c-bc18dd43d67c\" class=\"plotly-graph-div\" style=\"height:525px; width:100%;\"></div>            <script type=\"text/javascript\">                                    window.PLOTLYENV=window.PLOTLYENV || {};                                    if (document.getElementById(\"3fc367cd-a926-4ec4-992c-bc18dd43d67c\")) {                    Plotly.newPlot(                        \"3fc367cd-a926-4ec4-992c-bc18dd43d67c\",                        [{\"hovertemplate\":\"Total Tests=%{x}<br>Total Cases=%{y}<br>Population=%{marker.size}<extra></extra>\",\"legendgroup\":\"\",\"marker\":{\"color\":\"#636efa\",\"size\":[1448471400,334805269,1406631776,65584518,83883596,215353593,125584838,51329899,60262770,68497907,145805947,85561976,46719142,98953541,26068792,46010234,23888595,17211447,86022837,131562772,279134505,37739785,51512762,9066710,10316637,10140570,43192122,19250195,33181072,9326000,25990679,70078203,11668278,10736784,38388419,33684208,8773637,112508994,60756135,19031335,5834950,7604299,10218971,8653016,42164965,5943546,4898203,9606259,167885689,5460193,3968738,10300869,5020199,229488994,5511370,5554960,19205043,2078034,2661708,6844597,37772756,4059286,18584039,6684849,5182354,11992656,12046656,11305652,18113361,10081785,3496016,4446964,3378078,30225582,9432800,1848837,35844909,10300205,7305843,1783983,21575842,4380326,11056370,1223387,55227143,5345541,1321910,4013171,29266991,106156692,7040745,120812698,2979915,908061,10221247,2971966,3249317,5323993,2081304,56215221,19470234,2866374,2441162,642371,627950,445431,45350148,216746934,15331428,34382084,33089461,374087,7481023,40754388,345393,6728271,399794,6550389,1406585,540985,32395450,2633874,48432863,2985094,17168639,13600464,27911548,444033,288023,35027343,176463,314169,95240792,17653671,20180839,27742298,596831,290915,284164,1184817,794045,412190,909466,29178077,45992020,4901981,567678,787941,19364809,12624840,99426,2331533,77463,9292169,165529,107609,63298550,286259,1274727,8680837,13865691,85732,400516,2175699,49233,11680283,21473764,67277,185113,12784726,16841795,5797805,721159,117489,34085,1369429,22102838,38387,33704,113475,61939,6779100,11618511,9957464,1496662,107749,202239,39783,72344,1016097,60057,5016678,2558482,39730,321832,56973,31154867,26647,43966,3662244,26083660,111551,99509,907419,2063367,5305117,8306436,17413580,30596,17571,53871,39741,227679,18233,9945,10903,123419,15230,667490,5759,10982,12066,6115,3539,4965,1622,799,626161,1378],\"sizemode\":\"area\",\"sizeref\":3621178.5,\"symbol\":\"circle\"},\"mode\":\"markers\",\"name\":\"\",\"orientation\":\"v\",\"showlegend\":false,\"x\":[160000000,1163631220,918101478,271490188,122332384,63776166,94608068,15804065,267156892,522526476,273400000,162743369,471036328,85826548,78835048,35716069,30742304,25984435,55034937,19519260,114158919,38235844,36951507,211273524,102228365,45948100,32603805,48367600,68009122,41373364,0,17270775,36665011,56974185,66343123,37970939,23833472,34543739,26473049,26603809,129187461,76127725,19458009,12349305,19544451,24756666,7768604,11394556,15254399,7400363,16920079,17201885,13003038,30570862,11002430,12041358,11575012,2834334,10372063,11041500,12972026,5503682,6891394,4795578,4659757,2705422,5001397,14314110,3082403,199104417,6114822,7491978,4030048,6010742,13646641,7863503,45124522,7517428,2657506,10725689,6486117,8455743,3740928,9640118,10027516,3078533,3671717,3216305,3359014,3693367,2483538,5483106,4065369,1603660,1626616,3242901,1884721,25000000,2223705,3967062,3923997,1941032,2026898,4412567,2712064,717784,230861,5708974,2525756,1377915,1371127,828928,1233207,1197450,1996384,1907195,938039,2610114,895520,2213831,2529887,1062663,3012408,1183986,3091420,5959042,1751774,2111209,794426,1499795,1252808,651257,846704,1146543,624784,1677538,240907,98964,0,1048704,720953,576016,668445,525141,562941,1009957,401622,2303734,146269,345742,0,1621909,249838,249149,496693,177885,0,176919,358675,807880,660107,150753,257839,431221,778000,132422,794233,222773,210983,604310,400466,347815,0,54967,157634,278529,248995,112457,534283,182981,1027337,0,410280,0,365697,535009,187397,78646,229344,305941,0,81294,155686,112382,24976,164926,329592,30126,62056,23693,254538,113604,18901,0,145231,139824,259958,191341,107339,19690,126927,611527,29036,69136,78646,20509,0,51382,7850,25400,20508,0,0,8632,17762,0,0,0,0],\"xaxis\":\"x\",\"y\":[503302,105148929,44685450,39600548,38068912,36997328,33136016,30458857,25547414,24341615,22203942,17042722,13755956,11526858,11360439,10043308,9970933,8591721,7567421,7435066,6734818,6406796,6359464,5878928,5842655,5566708,5382095,5154106,5041587,4795887,4772813,4727831,4716315,4604440,4581763,4484903,4389655,4075662,4061085,3335131,3174821,2882682,2697827,2487935,2465545,2222006,2207775,2194969,2037773,1862395,1825598,1746997,1702523,1576760,1478767,1462169,1407351,1326393,1303040,1296450,1272411,1268666,1234843,1231303,1199055,1192283,1150793,1112561,1056578,1051336,1034046,1030658,1007896,1001137,994037,975884,829095,828426,807453,705444,672024,662858,660533,647031,633903,621008,614848,603750,551950,515698,507171,499903,493639,486588,471557,446819,401575,399449,346733,342900,342831,334336,329662,297757,287772,277992,271431,266463,263921,250932,233098,229807,218012,209195,208999,206633,201852,201785,188737,185729,171167,171121,170478,154065,138713,133170,124328,117338,106645,105205,101320,98041,95646,88917,88681,88138,82227,79871,77957,74199,73062,70740,68876,67852,63787,63667,63240,62615,57463,53609,50665,48981,47866,46792,45986,44026,42823,42004,41698,39367,38267,38008,37491,34790,34658,34143,32963,31472,29882,27990,27324,25375,24575,23671,23536,23418,22056,21393,20420,19680,18799,18491,18368,17786,17229,16801,16607,16106,15760,15690,15598,15368,12586,12257,12014,11971,11945,11668,11016,10189,9931,9589,9106,8998,8953,8065,7760,7675,7305,7025,6596,6551,6281,5988,5439,5247,5013,3904,3513,3452,3427,2805,2166,1930,1403,783,29,10,5],\"yaxis\":\"y\",\"type\":\"scatter\"},{\"hovertemplate\":\"<b>OLS trendline</b><br>Total Cases = 0.0706493 * Total Tests + 825882<br>R<sup>2</sup>=0.707306<br><br>Total Tests=%{x}<br>Total Cases=%{y} <b>(trend)</b><extra></extra>\",\"legendgroup\":\"\",\"line\":{\"color\":\"#DEB887\"},\"marker\":{\"color\":\"#636efa\",\"symbol\":\"circle\"},\"mode\":\"lines\",\"name\":\"\",\"showlegend\":false,\"x\":[0,0,0,0,0,0,0,0,0,0,0,0,0,0,0,0,7850,8632,17762,18901,19690,20508,20509,23693,24976,25400,29036,30126,51382,54967,62056,69136,78646,78646,81294,98964,107339,112382,112457,113604,126927,132422,139824,145231,146269,150753,155686,157634,164926,176919,177885,182981,187397,191341,210983,222773,229344,230861,240907,248995,249149,249838,254538,257839,259958,278529,305941,329592,345742,347815,358675,365697,400466,401622,410280,431221,496693,525141,534283,535009,562941,576016,604310,611527,624784,651257,660107,668445,717784,720953,778000,794233,794426,807880,828928,846704,895520,938039,1009957,1027337,1048704,1062663,1146543,1183986,1197450,1233207,1252808,1371127,1377915,1499795,1603660,1621909,1626616,1677538,1751774,1884721,1907195,1941032,1996384,2026898,2111209,2213831,2223705,2303734,2483538,2525756,2529887,2610114,2657506,2705422,2712064,2834334,3012408,3078533,3082403,3091420,3216305,3242901,3359014,3671717,3693367,3740928,3923997,3967062,4030048,4065369,4412567,4659757,4795578,5001397,5483106,5503682,5708974,5959042,6010742,6114822,6486117,6891394,7400363,7491978,7517428,7768604,7863503,8455743,9640118,10027516,10372063,10725689,11002430,11041500,11394556,11575012,12041358,12349305,12972026,13003038,13646641,14314110,15254399,15804065,16920079,17201885,17270775,19458009,19519260,19544451,23833472,24756666,25000000,25984435,26473049,26603809,30570862,30742304,32603805,34543739,35716069,36665011,36951507,37970939,38235844,41373364,45124522,45948100,48367600,55034937,56974185,63776166,66343123,68009122,76127725,78835048,85826548,94608068,102228365,114158919,122332384,129187461,160000000,162743369,199104417,211273524,267156892,271490188,273400000,471036328,522526476,918101478,1163631220],\"xaxis\":\"x\",\"y\":[825882.3681581465,825882.3681581465,825882.3681581465,825882.3681581465,825882.3681581465,825882.3681581465,825882.3681581465,825882.3681581465,825882.3681581465,825882.3681581465,825882.3681581465,825882.3681581465,825882.3681581465,825882.3681581465,825882.3681581465,825882.3681581465,826436.9654033472,826492.2131798755,827137.2415682427,827217.7111557947,827273.4534776371,827331.244630067,827331.3152793976,827556.2627480242,827646.9058391824,827676.8611553564,827933.7421214137,828010.7498917663,829512.4720629748,829765.7499131715,830266.5830177865,830766.7802784261,831438.6554124209,831438.6554124209,831625.7348398465,832874.1085115275,833465.7966552926,833822.0812295025,833827.3799292974,833908.4147114942,834849.6757430622,835237.8938147028,835760.8401597951,836142.841090343,836216.1750955045,836532.9666939096,836881.4798417535,837019.10473776,837534.2796564866,838381.5770783582,838449.8243317166,838809.8533204482,839121.8407643725,839400.4817242542,840788.1758758762,841621.1314836362,842085.368235001,842192.5432695193,842902.2864447151,843473.6982305982,843484.5782275106,843533.255616293,843865.3074701076,844098.5209104142,844248.2268419531,845560.2555605037,847496.8950108783,849167.8223288709,850308.8090180418,850455.2650803732,851222.5168106762,851718.6164101411,854175.0229857313,854256.6936119036,854868.375516228,856347.8431482979,860973.3961212634,862983.2282781384,863629.1044584728,863680.3958724876,865653.7729747737,866577.5129723531,868576.465132316,869086.3413512476,870022.9395269961,871893.2392559386,872518.4858317381,873107.5599502709,876593.3272726858,876817.2150013535,880847.5473640241,881994.3979476347,882008.0332684402,882958.5493623166,884445.5764727605,885701.438973485,889150.2566959967,892154.1955837277,897235.1541417333,898463.0395075406,899972.6037544456,900958.7977602744,906884.8636109029,909530.1864965144,910481.4090836968,913007.6171979186,914392.414726986,922751.572874107,923231.1405302119,931841.8809435953,939179.8736662412,940469.1533003389,940801.6996994675,944399.3049122203,949644.0286185539,959036.6451736746,960624.4182295522,963014.9796290244,966925.56137633,969081.3550502221,975037.8707623389,982288.0463670504,982985.637857383,988639.6331358756,1001342.6653748647,1004325.3388140855,1004617.1911987892,1010285.1750447403,1013633.3881204793,1017018.6214454521,1017487.8742992894,1026126.1679516064,1038706.9768486597,1043378.6638345063,1043652.0767439237,1044289.1217579332,1053112.1634097663,1054991.1530063723,1063194.4587301924,1085286.7163564335,1086816.2743638977,1090176.427176508,1103110.1294799023,1106152.6429021403,1110602.5616392372,1113097.9666453179,1137627.272930565,1155091.080961286,1164686.7436925475,1179227.718267065,1213260.1366604893,1214713.8172868905,1229217.5596641821,1246884.6964683665,1250537.2668603251,1257890.4491890497,1284122.1923937364,1312754.7411508323,1348713.0602963802,1355185.5987191906,1356983.6241829304,1374729.040445418,1381433.591269915,1423274.9508237569,1506950.2517517277,1534319.6611270471,1558661.6760368769,1583645.1162192132,1603196.6826184597,1605956.9519649553,1630900.1220288505,1643649.2176313899,1676596.2503588246,1698352.4997687377,1742347.3215685622,1744538.2986090924,1790008.4197304812,1837164.6577759413,1903595.4461953698,1942428.9811482977,2021274.623187203,2041184.0284459323,2046051.0608308848,2200577.678793852,2204905.02094236,2206684.7482294748,2509701.2108037323,2574924.248916574,2592115.6331285057,2661665.3068965496,2696185.558917759,2705423.6653868593,2985693.3042868776,2997805.5668233996,3129319.366382424,3266374.404888304,3349198.734629212,3416240.851706312,3436481.6023255503,3508503.7907165606,3527219.1516388394,3748882.8393792314,4013899.641049619,4072084.875445529,4243020.93082936,4714063.826756068,4851070.399821158,5331625.804217012,5512979.597942952,5630681.312071246,6204255.179418772,6395525.737083546,6889470.531965157,7509879.041605257,8048247.923619411,8891133.577392418,9468583.408315256,9952890.009568585,12129775.263968445,12323592.447403984,14892476.148475343,15752215.412010688,19700337.95281789,20006482.414504413,20141409.353873994,34104283.6290817,37742028.11771559,65689137.210640244,83035649.12503985],\"yaxis\":\"y\",\"type\":\"scatter\"}],                        {\"template\":{\"data\":{\"bar\":[{\"error_x\":{\"color\":\"#2a3f5f\"},\"error_y\":{\"color\":\"#2a3f5f\"},\"marker\":{\"line\":{\"color\":\"#E5ECF6\",\"width\":0.5},\"pattern\":{\"fillmode\":\"overlay\",\"size\":10,\"solidity\":0.2}},\"type\":\"bar\"}],\"barpolar\":[{\"marker\":{\"line\":{\"color\":\"#E5ECF6\",\"width\":0.5},\"pattern\":{\"fillmode\":\"overlay\",\"size\":10,\"solidity\":0.2}},\"type\":\"barpolar\"}],\"carpet\":[{\"aaxis\":{\"endlinecolor\":\"#2a3f5f\",\"gridcolor\":\"white\",\"linecolor\":\"white\",\"minorgridcolor\":\"white\",\"startlinecolor\":\"#2a3f5f\"},\"baxis\":{\"endlinecolor\":\"#2a3f5f\",\"gridcolor\":\"white\",\"linecolor\":\"white\",\"minorgridcolor\":\"white\",\"startlinecolor\":\"#2a3f5f\"},\"type\":\"carpet\"}],\"choropleth\":[{\"colorbar\":{\"outlinewidth\":0,\"ticks\":\"\"},\"type\":\"choropleth\"}],\"contour\":[{\"colorbar\":{\"outlinewidth\":0,\"ticks\":\"\"},\"colorscale\":[[0.0,\"#0d0887\"],[0.1111111111111111,\"#46039f\"],[0.2222222222222222,\"#7201a8\"],[0.3333333333333333,\"#9c179e\"],[0.4444444444444444,\"#bd3786\"],[0.5555555555555556,\"#d8576b\"],[0.6666666666666666,\"#ed7953\"],[0.7777777777777778,\"#fb9f3a\"],[0.8888888888888888,\"#fdca26\"],[1.0,\"#f0f921\"]],\"type\":\"contour\"}],\"contourcarpet\":[{\"colorbar\":{\"outlinewidth\":0,\"ticks\":\"\"},\"type\":\"contourcarpet\"}],\"heatmap\":[{\"colorbar\":{\"outlinewidth\":0,\"ticks\":\"\"},\"colorscale\":[[0.0,\"#0d0887\"],[0.1111111111111111,\"#46039f\"],[0.2222222222222222,\"#7201a8\"],[0.3333333333333333,\"#9c179e\"],[0.4444444444444444,\"#bd3786\"],[0.5555555555555556,\"#d8576b\"],[0.6666666666666666,\"#ed7953\"],[0.7777777777777778,\"#fb9f3a\"],[0.8888888888888888,\"#fdca26\"],[1.0,\"#f0f921\"]],\"type\":\"heatmap\"}],\"heatmapgl\":[{\"colorbar\":{\"outlinewidth\":0,\"ticks\":\"\"},\"colorscale\":[[0.0,\"#0d0887\"],[0.1111111111111111,\"#46039f\"],[0.2222222222222222,\"#7201a8\"],[0.3333333333333333,\"#9c179e\"],[0.4444444444444444,\"#bd3786\"],[0.5555555555555556,\"#d8576b\"],[0.6666666666666666,\"#ed7953\"],[0.7777777777777778,\"#fb9f3a\"],[0.8888888888888888,\"#fdca26\"],[1.0,\"#f0f921\"]],\"type\":\"heatmapgl\"}],\"histogram\":[{\"marker\":{\"pattern\":{\"fillmode\":\"overlay\",\"size\":10,\"solidity\":0.2}},\"type\":\"histogram\"}],\"histogram2d\":[{\"colorbar\":{\"outlinewidth\":0,\"ticks\":\"\"},\"colorscale\":[[0.0,\"#0d0887\"],[0.1111111111111111,\"#46039f\"],[0.2222222222222222,\"#7201a8\"],[0.3333333333333333,\"#9c179e\"],[0.4444444444444444,\"#bd3786\"],[0.5555555555555556,\"#d8576b\"],[0.6666666666666666,\"#ed7953\"],[0.7777777777777778,\"#fb9f3a\"],[0.8888888888888888,\"#fdca26\"],[1.0,\"#f0f921\"]],\"type\":\"histogram2d\"}],\"histogram2dcontour\":[{\"colorbar\":{\"outlinewidth\":0,\"ticks\":\"\"},\"colorscale\":[[0.0,\"#0d0887\"],[0.1111111111111111,\"#46039f\"],[0.2222222222222222,\"#7201a8\"],[0.3333333333333333,\"#9c179e\"],[0.4444444444444444,\"#bd3786\"],[0.5555555555555556,\"#d8576b\"],[0.6666666666666666,\"#ed7953\"],[0.7777777777777778,\"#fb9f3a\"],[0.8888888888888888,\"#fdca26\"],[1.0,\"#f0f921\"]],\"type\":\"histogram2dcontour\"}],\"mesh3d\":[{\"colorbar\":{\"outlinewidth\":0,\"ticks\":\"\"},\"type\":\"mesh3d\"}],\"parcoords\":[{\"line\":{\"colorbar\":{\"outlinewidth\":0,\"ticks\":\"\"}},\"type\":\"parcoords\"}],\"pie\":[{\"automargin\":true,\"type\":\"pie\"}],\"scatter\":[{\"marker\":{\"colorbar\":{\"outlinewidth\":0,\"ticks\":\"\"}},\"type\":\"scatter\"}],\"scatter3d\":[{\"line\":{\"colorbar\":{\"outlinewidth\":0,\"ticks\":\"\"}},\"marker\":{\"colorbar\":{\"outlinewidth\":0,\"ticks\":\"\"}},\"type\":\"scatter3d\"}],\"scattercarpet\":[{\"marker\":{\"colorbar\":{\"outlinewidth\":0,\"ticks\":\"\"}},\"type\":\"scattercarpet\"}],\"scattergeo\":[{\"marker\":{\"colorbar\":{\"outlinewidth\":0,\"ticks\":\"\"}},\"type\":\"scattergeo\"}],\"scattergl\":[{\"marker\":{\"colorbar\":{\"outlinewidth\":0,\"ticks\":\"\"}},\"type\":\"scattergl\"}],\"scattermapbox\":[{\"marker\":{\"colorbar\":{\"outlinewidth\":0,\"ticks\":\"\"}},\"type\":\"scattermapbox\"}],\"scatterpolar\":[{\"marker\":{\"colorbar\":{\"outlinewidth\":0,\"ticks\":\"\"}},\"type\":\"scatterpolar\"}],\"scatterpolargl\":[{\"marker\":{\"colorbar\":{\"outlinewidth\":0,\"ticks\":\"\"}},\"type\":\"scatterpolargl\"}],\"scatterternary\":[{\"marker\":{\"colorbar\":{\"outlinewidth\":0,\"ticks\":\"\"}},\"type\":\"scatterternary\"}],\"surface\":[{\"colorbar\":{\"outlinewidth\":0,\"ticks\":\"\"},\"colorscale\":[[0.0,\"#0d0887\"],[0.1111111111111111,\"#46039f\"],[0.2222222222222222,\"#7201a8\"],[0.3333333333333333,\"#9c179e\"],[0.4444444444444444,\"#bd3786\"],[0.5555555555555556,\"#d8576b\"],[0.6666666666666666,\"#ed7953\"],[0.7777777777777778,\"#fb9f3a\"],[0.8888888888888888,\"#fdca26\"],[1.0,\"#f0f921\"]],\"type\":\"surface\"}],\"table\":[{\"cells\":{\"fill\":{\"color\":\"#EBF0F8\"},\"line\":{\"color\":\"white\"}},\"header\":{\"fill\":{\"color\":\"#C8D4E3\"},\"line\":{\"color\":\"white\"}},\"type\":\"table\"}]},\"layout\":{\"annotationdefaults\":{\"arrowcolor\":\"#2a3f5f\",\"arrowhead\":0,\"arrowwidth\":1},\"autotypenumbers\":\"strict\",\"coloraxis\":{\"colorbar\":{\"outlinewidth\":0,\"ticks\":\"\"}},\"colorscale\":{\"diverging\":[[0,\"#8e0152\"],[0.1,\"#c51b7d\"],[0.2,\"#de77ae\"],[0.3,\"#f1b6da\"],[0.4,\"#fde0ef\"],[0.5,\"#f7f7f7\"],[0.6,\"#e6f5d0\"],[0.7,\"#b8e186\"],[0.8,\"#7fbc41\"],[0.9,\"#4d9221\"],[1,\"#276419\"]],\"sequential\":[[0.0,\"#0d0887\"],[0.1111111111111111,\"#46039f\"],[0.2222222222222222,\"#7201a8\"],[0.3333333333333333,\"#9c179e\"],[0.4444444444444444,\"#bd3786\"],[0.5555555555555556,\"#d8576b\"],[0.6666666666666666,\"#ed7953\"],[0.7777777777777778,\"#fb9f3a\"],[0.8888888888888888,\"#fdca26\"],[1.0,\"#f0f921\"]],\"sequentialminus\":[[0.0,\"#0d0887\"],[0.1111111111111111,\"#46039f\"],[0.2222222222222222,\"#7201a8\"],[0.3333333333333333,\"#9c179e\"],[0.4444444444444444,\"#bd3786\"],[0.5555555555555556,\"#d8576b\"],[0.6666666666666666,\"#ed7953\"],[0.7777777777777778,\"#fb9f3a\"],[0.8888888888888888,\"#fdca26\"],[1.0,\"#f0f921\"]]},\"colorway\":[\"#636efa\",\"#EF553B\",\"#00cc96\",\"#ab63fa\",\"#FFA15A\",\"#19d3f3\",\"#FF6692\",\"#B6E880\",\"#FF97FF\",\"#FECB52\"],\"font\":{\"color\":\"#2a3f5f\"},\"geo\":{\"bgcolor\":\"white\",\"lakecolor\":\"white\",\"landcolor\":\"#E5ECF6\",\"showlakes\":true,\"showland\":true,\"subunitcolor\":\"white\"},\"hoverlabel\":{\"align\":\"left\"},\"hovermode\":\"closest\",\"mapbox\":{\"style\":\"light\"},\"paper_bgcolor\":\"white\",\"plot_bgcolor\":\"#E5ECF6\",\"polar\":{\"angularaxis\":{\"gridcolor\":\"white\",\"linecolor\":\"white\",\"ticks\":\"\"},\"bgcolor\":\"#E5ECF6\",\"radialaxis\":{\"gridcolor\":\"white\",\"linecolor\":\"white\",\"ticks\":\"\"}},\"scene\":{\"xaxis\":{\"backgroundcolor\":\"#E5ECF6\",\"gridcolor\":\"white\",\"gridwidth\":2,\"linecolor\":\"white\",\"showbackground\":true,\"ticks\":\"\",\"zerolinecolor\":\"white\"},\"yaxis\":{\"backgroundcolor\":\"#E5ECF6\",\"gridcolor\":\"white\",\"gridwidth\":2,\"linecolor\":\"white\",\"showbackground\":true,\"ticks\":\"\",\"zerolinecolor\":\"white\"},\"zaxis\":{\"backgroundcolor\":\"#E5ECF6\",\"gridcolor\":\"white\",\"gridwidth\":2,\"linecolor\":\"white\",\"showbackground\":true,\"ticks\":\"\",\"zerolinecolor\":\"white\"}},\"shapedefaults\":{\"line\":{\"color\":\"#2a3f5f\"}},\"ternary\":{\"aaxis\":{\"gridcolor\":\"white\",\"linecolor\":\"white\",\"ticks\":\"\"},\"baxis\":{\"gridcolor\":\"white\",\"linecolor\":\"white\",\"ticks\":\"\"},\"bgcolor\":\"#E5ECF6\",\"caxis\":{\"gridcolor\":\"white\",\"linecolor\":\"white\",\"ticks\":\"\"}},\"title\":{\"x\":0.05},\"xaxis\":{\"automargin\":true,\"gridcolor\":\"white\",\"linecolor\":\"white\",\"ticks\":\"\",\"title\":{\"standoff\":15},\"zerolinecolor\":\"white\",\"zerolinewidth\":2},\"yaxis\":{\"automargin\":true,\"gridcolor\":\"white\",\"linecolor\":\"white\",\"ticks\":\"\",\"title\":{\"standoff\":15},\"zerolinecolor\":\"white\",\"zerolinewidth\":2}}},\"xaxis\":{\"anchor\":\"y\",\"domain\":[0.0,1.0],\"title\":{\"text\":\"Total Tests\"}},\"yaxis\":{\"anchor\":\"x\",\"domain\":[0.0,1.0],\"title\":{\"text\":\"Total Cases\"}},\"legend\":{\"tracegroupgap\":0,\"itemsizing\":\"constant\"},\"margin\":{\"t\":60}},                        {\"responsive\": true}                    ).then(function(){\n",
              "                            \n",
              "var gd = document.getElementById('3fc367cd-a926-4ec4-992c-bc18dd43d67c');\n",
              "var x = new MutationObserver(function (mutations, observer) {{\n",
              "        var display = window.getComputedStyle(gd).display;\n",
              "        if (!display || display === 'none') {{\n",
              "            console.log([gd, 'removed!']);\n",
              "            Plotly.purge(gd);\n",
              "            observer.disconnect();\n",
              "        }}\n",
              "}});\n",
              "\n",
              "// Listen for the removal of the full notebook cells\n",
              "var notebookContainer = gd.closest('#notebook-container');\n",
              "if (notebookContainer) {{\n",
              "    x.observe(notebookContainer, {childList: true});\n",
              "}}\n",
              "\n",
              "// Listen for the clearing of the current output cell\n",
              "var outputEl = gd.closest('.output');\n",
              "if (outputEl) {{\n",
              "    x.observe(outputEl, {childList: true});\n",
              "}}\n",
              "\n",
              "                        })                };                            </script>        </div>\n",
              "</body>\n",
              "</html>"
            ]
          },
          "metadata": {}
        }
      ]
    },
    {
      "cell_type": "code",
      "source": [
        "fig = px.scatter(df[df.Continent != 'Do not know'], x=\"Total Tests\", y=\"Total Deaths\",size='Population', trendline='ols', trendline_color_override='#DEB887')\n",
        "fig.show()"
      ],
      "metadata": {
        "colab": {
          "base_uri": "https://localhost:8080/",
          "height": 542
        },
        "id": "w_eMP9YT_tBO",
        "outputId": "aa76c993-8d7e-4b22-f1cd-ae133c6c4e8f"
      },
      "id": "w_eMP9YT_tBO",
      "execution_count": null,
      "outputs": [
        {
          "output_type": "display_data",
          "data": {
            "text/html": [
              "<html>\n",
              "<head><meta charset=\"utf-8\" /></head>\n",
              "<body>\n",
              "    <div>            <script src=\"https://cdnjs.cloudflare.com/ajax/libs/mathjax/2.7.5/MathJax.js?config=TeX-AMS-MML_SVG\"></script><script type=\"text/javascript\">if (window.MathJax) {MathJax.Hub.Config({SVG: {font: \"STIX-Web\"}});}</script>                <script type=\"text/javascript\">window.PlotlyConfig = {MathJaxConfig: 'local'};</script>\n",
              "        <script src=\"https://cdn.plot.ly/plotly-2.8.3.min.js\"></script>                <div id=\"d707b66e-75d3-4e9e-8902-7dca323fd27e\" class=\"plotly-graph-div\" style=\"height:525px; width:100%;\"></div>            <script type=\"text/javascript\">                                    window.PLOTLYENV=window.PLOTLYENV || {};                                    if (document.getElementById(\"d707b66e-75d3-4e9e-8902-7dca323fd27e\")) {                    Plotly.newPlot(                        \"d707b66e-75d3-4e9e-8902-7dca323fd27e\",                        [{\"hovertemplate\":\"Total Tests=%{x}<br>Total Deaths=%{y}<br>Population=%{marker.size}<extra></extra>\",\"legendgroup\":\"\",\"marker\":{\"color\":\"#636efa\",\"size\":[1448471400,334805269,1406631776,65584518,83883596,215353593,125584838,51329899,60262770,68497907,145805947,85561976,46719142,98953541,26068792,46010234,23888595,17211447,86022837,131562772,279134505,37739785,51512762,9066710,10316637,10140570,43192122,19250195,33181072,9326000,25990679,70078203,11668278,10736784,38388419,33684208,8773637,112508994,60756135,19031335,5834950,7604299,10218971,8653016,42164965,5943546,4898203,9606259,167885689,5460193,3968738,10300869,5020199,229488994,5511370,5554960,19205043,2078034,2661708,6844597,37772756,4059286,18584039,6684849,5182354,11992656,12046656,11305652,18113361,10081785,3496016,4446964,3378078,30225582,9432800,1848837,35844909,10300205,7305843,1783983,21575842,4380326,11056370,1223387,55227143,5345541,1321910,4013171,29266991,106156692,7040745,120812698,2979915,908061,10221247,2971966,3249317,5323993,2081304,56215221,19470234,2866374,2441162,642371,627950,445431,45350148,216746934,15331428,34382084,33089461,374087,7481023,40754388,345393,6728271,399794,6550389,1406585,540985,32395450,2633874,48432863,2985094,17168639,13600464,27911548,444033,288023,35027343,176463,314169,95240792,17653671,20180839,27742298,596831,290915,284164,1184817,794045,412190,909466,29178077,45992020,4901981,567678,787941,19364809,12624840,99426,2331533,77463,9292169,165529,107609,63298550,286259,1274727,8680837,13865691,85732,400516,2175699,49233,11680283,21473764,67277,185113,12784726,16841795,5797805,721159,117489,34085,1369429,22102838,38387,33704,113475,61939,6779100,11618511,9957464,1496662,107749,202239,39783,72344,1016097,60057,5016678,2558482,39730,321832,56973,31154867,26647,43966,3662244,26083660,111551,99509,907419,2063367,5305117,8306436,17413580,30596,17571,53871,39741,227679,18233,9945,10903,123419,15230,667490,5759,10982,12066,6115,3539,4965,1622,799,626161,1378],\"sizemode\":\"area\",\"sizeref\":3621178.5,\"symbol\":\"circle\"},\"mode\":\"markers\",\"name\":\"\",\"orientation\":\"v\",\"showlegend\":false,\"x\":[160000000,1163631220,918101478,271490188,122332384,63776166,94608068,15804065,267156892,522526476,273400000,162743369,471036328,85826548,78835048,35716069,30742304,25984435,55034937,19519260,114158919,38235844,36951507,211273524,102228365,45948100,32603805,48367600,68009122,41373364,0,17270775,36665011,56974185,66343123,37970939,23833472,34543739,26473049,26603809,129187461,76127725,19458009,12349305,19544451,24756666,7768604,11394556,15254399,7400363,16920079,17201885,13003038,30570862,11002430,12041358,11575012,2834334,10372063,11041500,12972026,5503682,6891394,4795578,4659757,2705422,5001397,14314110,3082403,199104417,6114822,7491978,4030048,6010742,13646641,7863503,45124522,7517428,2657506,10725689,6486117,8455743,3740928,9640118,10027516,3078533,3671717,3216305,3359014,3693367,2483538,5483106,4065369,1603660,1626616,3242901,1884721,25000000,2223705,3967062,3923997,1941032,2026898,4412567,2712064,717784,230861,5708974,2525756,1377915,1371127,828928,1233207,1197450,1996384,1907195,938039,2610114,895520,2213831,2529887,1062663,3012408,1183986,3091420,5959042,1751774,2111209,794426,1499795,1252808,651257,846704,1146543,624784,1677538,240907,98964,0,1048704,720953,576016,668445,525141,562941,1009957,401622,2303734,146269,345742,0,1621909,249838,249149,496693,177885,0,176919,358675,807880,660107,150753,257839,431221,778000,132422,794233,222773,210983,604310,400466,347815,0,54967,157634,278529,248995,112457,534283,182981,1027337,0,410280,0,365697,535009,187397,78646,229344,305941,0,81294,155686,112382,24976,164926,329592,30126,62056,23693,254538,113604,18901,0,145231,139824,259958,191341,107339,19690,126927,611527,29036,69136,78646,20509,0,51382,7850,25400,20508,0,0,8632,17762,0,0,0,0],\"xaxis\":\"x\",\"y\":[5272,1144242,530763,164829,167604,698381,71923,33887,187850,206246,395901,101492,119186,43186,19340,130458,17672,22992,144824,332885,160894,118840,142615,21852,36066,26117,111175,64109,36957,12256,74,33902,33709,42407,51061,219365,14452,66051,102595,67675,8239,13445,23633,17788,25375,1722,3864,48745,29445,21008,16965,14122,8629,30641,5112,8892,13846,7067,9580,38208,16296,17950,20160,10821,9214,22362,29330,8530,36008,2348,7617,8600,2179,12020,7118,6235,9607,10108,19849,1548,16829,2570,4384,1297,19490,5404,2934,11974,5852,24613,6437,7572,686,921,11109,8721,16278,4628,9653,5688,4055,3596,2801,1133,2800,225,6881,3155,5663,1637,2242,1098,758,7896,229,2991,1010,4230,4339,311,1462,4090,3630,3500,3056,1468,1965,827,575,1931,227,420,1464,1971,2686,834,1400,314,649,1423,1298,688,883,1421,5011,997,413,21,3164,38,172,306,165,670,295,236,846,188,1043,290,467,116,833,723,28,860,743,37,409,163,1361,386,153,60,122,138,396,89,111,238,160,225,138,125,183,13,29,67,74,189,17,113,372,63,14,21,2159,38,91,103,312,123,146,161,176,294,126,194,64,2,46,38,77,9,6,1,18,12,121,2,7,0,0,0,8,0,0,1,0],\"yaxis\":\"y\",\"type\":\"scatter\"},{\"hovertemplate\":\"<b>OLS trendline</b><br>Total Deaths = 0.000732853 * Total Tests + 7473.18<br>R<sup>2</sup>=0.632513<br><br>Total Tests=%{x}<br>Total Deaths=%{y} <b>(trend)</b><extra></extra>\",\"legendgroup\":\"\",\"line\":{\"color\":\"#DEB887\"},\"marker\":{\"color\":\"#636efa\",\"symbol\":\"circle\"},\"mode\":\"lines\",\"name\":\"\",\"showlegend\":false,\"x\":[0,0,0,0,0,0,0,0,0,0,0,0,0,0,0,0,7850,8632,17762,18901,19690,20508,20509,23693,24976,25400,29036,30126,51382,54967,62056,69136,78646,78646,81294,98964,107339,112382,112457,113604,126927,132422,139824,145231,146269,150753,155686,157634,164926,176919,177885,182981,187397,191341,210983,222773,229344,230861,240907,248995,249149,249838,254538,257839,259958,278529,305941,329592,345742,347815,358675,365697,400466,401622,410280,431221,496693,525141,534283,535009,562941,576016,604310,611527,624784,651257,660107,668445,717784,720953,778000,794233,794426,807880,828928,846704,895520,938039,1009957,1027337,1048704,1062663,1146543,1183986,1197450,1233207,1252808,1371127,1377915,1499795,1603660,1621909,1626616,1677538,1751774,1884721,1907195,1941032,1996384,2026898,2111209,2213831,2223705,2303734,2483538,2525756,2529887,2610114,2657506,2705422,2712064,2834334,3012408,3078533,3082403,3091420,3216305,3242901,3359014,3671717,3693367,3740928,3923997,3967062,4030048,4065369,4412567,4659757,4795578,5001397,5483106,5503682,5708974,5959042,6010742,6114822,6486117,6891394,7400363,7491978,7517428,7768604,7863503,8455743,9640118,10027516,10372063,10725689,11002430,11041500,11394556,11575012,12041358,12349305,12972026,13003038,13646641,14314110,15254399,15804065,16920079,17201885,17270775,19458009,19519260,19544451,23833472,24756666,25000000,25984435,26473049,26603809,30570862,30742304,32603805,34543739,35716069,36665011,36951507,37970939,38235844,41373364,45124522,45948100,48367600,55034937,56974185,63776166,66343123,68009122,76127725,78835048,85826548,94608068,102228365,114158919,122332384,129187461,160000000,162743369,199104417,211273524,267156892,271490188,273400000,471036328,522526476,918101478,1163631220],\"xaxis\":\"x\",\"y\":[7473.181562564209,7473.181562564209,7473.181562564209,7473.181562564209,7473.181562564209,7473.181562564209,7473.181562564209,7473.181562564209,7473.181562564209,7473.181562564209,7473.181562564209,7473.181562564209,7473.181562564209,7473.181562564209,7473.181562564209,7473.181562564209,7478.934461647457,7479.507552995623,7486.198504413464,7487.033224420576,7487.611445742446,7488.210919812522,7488.211652665908,7490.54505784821,7491.485308742962,7491.7960385787965,7494.46069349175,7495.259503682928,7510.837035264269,7513.464314654516,7518.659512310714,7523.848114286433,7530.817549991107,7530.817549991107,7532.758145758296,7545.707665096003,7551.845312207112,7555.5410918347325,7555.596055838712,7556.436638672914,7566.200444339936,7570.22747369821,7575.652054464351,7579.614592724621,7580.3752945397055,7583.661409124327,7587.276574879444,7588.704173276154,7594.04814016979,7602.837250832898,7603.545187204161,7607.279808061261,7610.516088615608,7613.406462371573,7627.801168587263,7636.441510012932,7641.257089614973,7642.368828202143,7649.731073321928,7655.65839151114,7655.771250932646,7656.276186915876,7659.720597831961,7662.139746860471,7663.692663186254,7677.302483425108,7697.391460453135,7714.724175894906,7726.559758085283,7728.0789631552925,7736.037750931608,7741.183847410915,7766.664426802694,7767.511605317373,7773.856649936834,7789.203332701459,7837.184709615908,7858.032922752245,7864.732668410724,7865.264719969251,7885.7347807582055,7895.316838785399,7916.05219250023,7921.341195389887,7931.056632733405,7950.457460431601,7956.94321290125,7963.053744437062,7999.211997668704,8001.534410050209,8043.34149718423,8055.237906205678,8055.379346909253,8065.239156369893,8080.664254446863,8093.691456243528,8129.466427154081,8160.626620290468,8213.331970133659,8226.06896198931,8241.72784029654,8251.957740717313,8313.429482768634,8340.869712115647,8350.736850110152,8376.941488647695,8391.306147874542,8478.016627700128,8482.991236487018,8572.31140722158,8648.429224200125,8661.803065648557,8665.252606538346,8702.570966680662,8756.97507067353,8854.405729835391,8870.875876841368,8895.673436877021,8936.238337521092,8958.600625753734,9020.388227614594,9095.595107833842,9102.831302171166,9161.480825831457,9293.250796119912,9324.190400386991,9327.217817726214,9386.012446357012,9420.74383404533,9455.859236908123,9460.7268491006,9550.332832655857,9680.834966585837,9729.294896761607,9732.13103936698,9738.739178352158,9830.261573512853,9849.752542177575,9934.846347432762,10164.01179992053,10179.878075736113,10214.733315646734,10348.896052241787,10380.45638332715,10426.615886723006,10452.501001184079,10706.946231235752,10888.100259820229,10987.637139614606,11138.472290750284,11491.49436266015,11506.573553938739,11657.022491339783,11840.285671970323,11878.174192047256,11954.44957250388,12226.554370607659,12523.562992488118,12896.562647711278,12963.70301070641,12982.354129390316,13166.429311572989,13235.976365089062,13670.001454651221,14537.97468416997,14821.880620354967,15074.383056079292,15333.53906769875,15536.349646704764,15564.982228511453,15823.720513700664,15955.968304397054,16297.731549731638,16523.411551513684,16979.774745146737,17002.501994365804,17474.168632413683,17963.32554938141,18652.41952722707,19055.244116716593,19873.11875588758,20079.641237295713,20130.127507084882,21733.04935083641,21777.93735360686,21796.398663263688,24939.622227458924,25616.18807666406,25794.516222590573,26515.962746032295,26874.04517057526,26969.87307938106,29877.141304463526,30002.783154734894,31366.990466373845,32788.67766766839,33647.823678147935,34343.25903634613,34553.21860013648,35300.312793542085,35494.44931986665,37793.79147676769,40542.8403199931,41146.402246258505,42919.54101465586,47805.72151338291,49226.905977254384,54211.76078734001,56092.963917535904,57313.89692642668,63263.64262782244,65247.7134564539,70371.45790747687,76807.02457722546,82391.58503905725,91134.9319395979,97124.8834434784,102148.64983696838,124729.72338673293,126740.21064853061,153387.52780842193,162305.6990828487,203260.01456514504,206435.6852130232,207835.29740461256,352673.7496552821,390408.4789833736,680306.9587746776,860244.2616615548],\"yaxis\":\"y\",\"type\":\"scatter\"}],                        {\"template\":{\"data\":{\"bar\":[{\"error_x\":{\"color\":\"#2a3f5f\"},\"error_y\":{\"color\":\"#2a3f5f\"},\"marker\":{\"line\":{\"color\":\"#E5ECF6\",\"width\":0.5},\"pattern\":{\"fillmode\":\"overlay\",\"size\":10,\"solidity\":0.2}},\"type\":\"bar\"}],\"barpolar\":[{\"marker\":{\"line\":{\"color\":\"#E5ECF6\",\"width\":0.5},\"pattern\":{\"fillmode\":\"overlay\",\"size\":10,\"solidity\":0.2}},\"type\":\"barpolar\"}],\"carpet\":[{\"aaxis\":{\"endlinecolor\":\"#2a3f5f\",\"gridcolor\":\"white\",\"linecolor\":\"white\",\"minorgridcolor\":\"white\",\"startlinecolor\":\"#2a3f5f\"},\"baxis\":{\"endlinecolor\":\"#2a3f5f\",\"gridcolor\":\"white\",\"linecolor\":\"white\",\"minorgridcolor\":\"white\",\"startlinecolor\":\"#2a3f5f\"},\"type\":\"carpet\"}],\"choropleth\":[{\"colorbar\":{\"outlinewidth\":0,\"ticks\":\"\"},\"type\":\"choropleth\"}],\"contour\":[{\"colorbar\":{\"outlinewidth\":0,\"ticks\":\"\"},\"colorscale\":[[0.0,\"#0d0887\"],[0.1111111111111111,\"#46039f\"],[0.2222222222222222,\"#7201a8\"],[0.3333333333333333,\"#9c179e\"],[0.4444444444444444,\"#bd3786\"],[0.5555555555555556,\"#d8576b\"],[0.6666666666666666,\"#ed7953\"],[0.7777777777777778,\"#fb9f3a\"],[0.8888888888888888,\"#fdca26\"],[1.0,\"#f0f921\"]],\"type\":\"contour\"}],\"contourcarpet\":[{\"colorbar\":{\"outlinewidth\":0,\"ticks\":\"\"},\"type\":\"contourcarpet\"}],\"heatmap\":[{\"colorbar\":{\"outlinewidth\":0,\"ticks\":\"\"},\"colorscale\":[[0.0,\"#0d0887\"],[0.1111111111111111,\"#46039f\"],[0.2222222222222222,\"#7201a8\"],[0.3333333333333333,\"#9c179e\"],[0.4444444444444444,\"#bd3786\"],[0.5555555555555556,\"#d8576b\"],[0.6666666666666666,\"#ed7953\"],[0.7777777777777778,\"#fb9f3a\"],[0.8888888888888888,\"#fdca26\"],[1.0,\"#f0f921\"]],\"type\":\"heatmap\"}],\"heatmapgl\":[{\"colorbar\":{\"outlinewidth\":0,\"ticks\":\"\"},\"colorscale\":[[0.0,\"#0d0887\"],[0.1111111111111111,\"#46039f\"],[0.2222222222222222,\"#7201a8\"],[0.3333333333333333,\"#9c179e\"],[0.4444444444444444,\"#bd3786\"],[0.5555555555555556,\"#d8576b\"],[0.6666666666666666,\"#ed7953\"],[0.7777777777777778,\"#fb9f3a\"],[0.8888888888888888,\"#fdca26\"],[1.0,\"#f0f921\"]],\"type\":\"heatmapgl\"}],\"histogram\":[{\"marker\":{\"pattern\":{\"fillmode\":\"overlay\",\"size\":10,\"solidity\":0.2}},\"type\":\"histogram\"}],\"histogram2d\":[{\"colorbar\":{\"outlinewidth\":0,\"ticks\":\"\"},\"colorscale\":[[0.0,\"#0d0887\"],[0.1111111111111111,\"#46039f\"],[0.2222222222222222,\"#7201a8\"],[0.3333333333333333,\"#9c179e\"],[0.4444444444444444,\"#bd3786\"],[0.5555555555555556,\"#d8576b\"],[0.6666666666666666,\"#ed7953\"],[0.7777777777777778,\"#fb9f3a\"],[0.8888888888888888,\"#fdca26\"],[1.0,\"#f0f921\"]],\"type\":\"histogram2d\"}],\"histogram2dcontour\":[{\"colorbar\":{\"outlinewidth\":0,\"ticks\":\"\"},\"colorscale\":[[0.0,\"#0d0887\"],[0.1111111111111111,\"#46039f\"],[0.2222222222222222,\"#7201a8\"],[0.3333333333333333,\"#9c179e\"],[0.4444444444444444,\"#bd3786\"],[0.5555555555555556,\"#d8576b\"],[0.6666666666666666,\"#ed7953\"],[0.7777777777777778,\"#fb9f3a\"],[0.8888888888888888,\"#fdca26\"],[1.0,\"#f0f921\"]],\"type\":\"histogram2dcontour\"}],\"mesh3d\":[{\"colorbar\":{\"outlinewidth\":0,\"ticks\":\"\"},\"type\":\"mesh3d\"}],\"parcoords\":[{\"line\":{\"colorbar\":{\"outlinewidth\":0,\"ticks\":\"\"}},\"type\":\"parcoords\"}],\"pie\":[{\"automargin\":true,\"type\":\"pie\"}],\"scatter\":[{\"marker\":{\"colorbar\":{\"outlinewidth\":0,\"ticks\":\"\"}},\"type\":\"scatter\"}],\"scatter3d\":[{\"line\":{\"colorbar\":{\"outlinewidth\":0,\"ticks\":\"\"}},\"marker\":{\"colorbar\":{\"outlinewidth\":0,\"ticks\":\"\"}},\"type\":\"scatter3d\"}],\"scattercarpet\":[{\"marker\":{\"colorbar\":{\"outlinewidth\":0,\"ticks\":\"\"}},\"type\":\"scattercarpet\"}],\"scattergeo\":[{\"marker\":{\"colorbar\":{\"outlinewidth\":0,\"ticks\":\"\"}},\"type\":\"scattergeo\"}],\"scattergl\":[{\"marker\":{\"colorbar\":{\"outlinewidth\":0,\"ticks\":\"\"}},\"type\":\"scattergl\"}],\"scattermapbox\":[{\"marker\":{\"colorbar\":{\"outlinewidth\":0,\"ticks\":\"\"}},\"type\":\"scattermapbox\"}],\"scatterpolar\":[{\"marker\":{\"colorbar\":{\"outlinewidth\":0,\"ticks\":\"\"}},\"type\":\"scatterpolar\"}],\"scatterpolargl\":[{\"marker\":{\"colorbar\":{\"outlinewidth\":0,\"ticks\":\"\"}},\"type\":\"scatterpolargl\"}],\"scatterternary\":[{\"marker\":{\"colorbar\":{\"outlinewidth\":0,\"ticks\":\"\"}},\"type\":\"scatterternary\"}],\"surface\":[{\"colorbar\":{\"outlinewidth\":0,\"ticks\":\"\"},\"colorscale\":[[0.0,\"#0d0887\"],[0.1111111111111111,\"#46039f\"],[0.2222222222222222,\"#7201a8\"],[0.3333333333333333,\"#9c179e\"],[0.4444444444444444,\"#bd3786\"],[0.5555555555555556,\"#d8576b\"],[0.6666666666666666,\"#ed7953\"],[0.7777777777777778,\"#fb9f3a\"],[0.8888888888888888,\"#fdca26\"],[1.0,\"#f0f921\"]],\"type\":\"surface\"}],\"table\":[{\"cells\":{\"fill\":{\"color\":\"#EBF0F8\"},\"line\":{\"color\":\"white\"}},\"header\":{\"fill\":{\"color\":\"#C8D4E3\"},\"line\":{\"color\":\"white\"}},\"type\":\"table\"}]},\"layout\":{\"annotationdefaults\":{\"arrowcolor\":\"#2a3f5f\",\"arrowhead\":0,\"arrowwidth\":1},\"autotypenumbers\":\"strict\",\"coloraxis\":{\"colorbar\":{\"outlinewidth\":0,\"ticks\":\"\"}},\"colorscale\":{\"diverging\":[[0,\"#8e0152\"],[0.1,\"#c51b7d\"],[0.2,\"#de77ae\"],[0.3,\"#f1b6da\"],[0.4,\"#fde0ef\"],[0.5,\"#f7f7f7\"],[0.6,\"#e6f5d0\"],[0.7,\"#b8e186\"],[0.8,\"#7fbc41\"],[0.9,\"#4d9221\"],[1,\"#276419\"]],\"sequential\":[[0.0,\"#0d0887\"],[0.1111111111111111,\"#46039f\"],[0.2222222222222222,\"#7201a8\"],[0.3333333333333333,\"#9c179e\"],[0.4444444444444444,\"#bd3786\"],[0.5555555555555556,\"#d8576b\"],[0.6666666666666666,\"#ed7953\"],[0.7777777777777778,\"#fb9f3a\"],[0.8888888888888888,\"#fdca26\"],[1.0,\"#f0f921\"]],\"sequentialminus\":[[0.0,\"#0d0887\"],[0.1111111111111111,\"#46039f\"],[0.2222222222222222,\"#7201a8\"],[0.3333333333333333,\"#9c179e\"],[0.4444444444444444,\"#bd3786\"],[0.5555555555555556,\"#d8576b\"],[0.6666666666666666,\"#ed7953\"],[0.7777777777777778,\"#fb9f3a\"],[0.8888888888888888,\"#fdca26\"],[1.0,\"#f0f921\"]]},\"colorway\":[\"#636efa\",\"#EF553B\",\"#00cc96\",\"#ab63fa\",\"#FFA15A\",\"#19d3f3\",\"#FF6692\",\"#B6E880\",\"#FF97FF\",\"#FECB52\"],\"font\":{\"color\":\"#2a3f5f\"},\"geo\":{\"bgcolor\":\"white\",\"lakecolor\":\"white\",\"landcolor\":\"#E5ECF6\",\"showlakes\":true,\"showland\":true,\"subunitcolor\":\"white\"},\"hoverlabel\":{\"align\":\"left\"},\"hovermode\":\"closest\",\"mapbox\":{\"style\":\"light\"},\"paper_bgcolor\":\"white\",\"plot_bgcolor\":\"#E5ECF6\",\"polar\":{\"angularaxis\":{\"gridcolor\":\"white\",\"linecolor\":\"white\",\"ticks\":\"\"},\"bgcolor\":\"#E5ECF6\",\"radialaxis\":{\"gridcolor\":\"white\",\"linecolor\":\"white\",\"ticks\":\"\"}},\"scene\":{\"xaxis\":{\"backgroundcolor\":\"#E5ECF6\",\"gridcolor\":\"white\",\"gridwidth\":2,\"linecolor\":\"white\",\"showbackground\":true,\"ticks\":\"\",\"zerolinecolor\":\"white\"},\"yaxis\":{\"backgroundcolor\":\"#E5ECF6\",\"gridcolor\":\"white\",\"gridwidth\":2,\"linecolor\":\"white\",\"showbackground\":true,\"ticks\":\"\",\"zerolinecolor\":\"white\"},\"zaxis\":{\"backgroundcolor\":\"#E5ECF6\",\"gridcolor\":\"white\",\"gridwidth\":2,\"linecolor\":\"white\",\"showbackground\":true,\"ticks\":\"\",\"zerolinecolor\":\"white\"}},\"shapedefaults\":{\"line\":{\"color\":\"#2a3f5f\"}},\"ternary\":{\"aaxis\":{\"gridcolor\":\"white\",\"linecolor\":\"white\",\"ticks\":\"\"},\"baxis\":{\"gridcolor\":\"white\",\"linecolor\":\"white\",\"ticks\":\"\"},\"bgcolor\":\"#E5ECF6\",\"caxis\":{\"gridcolor\":\"white\",\"linecolor\":\"white\",\"ticks\":\"\"}},\"title\":{\"x\":0.05},\"xaxis\":{\"automargin\":true,\"gridcolor\":\"white\",\"linecolor\":\"white\",\"ticks\":\"\",\"title\":{\"standoff\":15},\"zerolinecolor\":\"white\",\"zerolinewidth\":2},\"yaxis\":{\"automargin\":true,\"gridcolor\":\"white\",\"linecolor\":\"white\",\"ticks\":\"\",\"title\":{\"standoff\":15},\"zerolinecolor\":\"white\",\"zerolinewidth\":2}}},\"xaxis\":{\"anchor\":\"y\",\"domain\":[0.0,1.0],\"title\":{\"text\":\"Total Tests\"}},\"yaxis\":{\"anchor\":\"x\",\"domain\":[0.0,1.0],\"title\":{\"text\":\"Total Deaths\"}},\"legend\":{\"tracegroupgap\":0,\"itemsizing\":\"constant\"},\"margin\":{\"t\":60}},                        {\"responsive\": true}                    ).then(function(){\n",
              "                            \n",
              "var gd = document.getElementById('d707b66e-75d3-4e9e-8902-7dca323fd27e');\n",
              "var x = new MutationObserver(function (mutations, observer) {{\n",
              "        var display = window.getComputedStyle(gd).display;\n",
              "        if (!display || display === 'none') {{\n",
              "            console.log([gd, 'removed!']);\n",
              "            Plotly.purge(gd);\n",
              "            observer.disconnect();\n",
              "        }}\n",
              "}});\n",
              "\n",
              "// Listen for the removal of the full notebook cells\n",
              "var notebookContainer = gd.closest('#notebook-container');\n",
              "if (notebookContainer) {{\n",
              "    x.observe(notebookContainer, {childList: true});\n",
              "}}\n",
              "\n",
              "// Listen for the clearing of the current output cell\n",
              "var outputEl = gd.closest('.output');\n",
              "if (outputEl) {{\n",
              "    x.observe(outputEl, {childList: true});\n",
              "}}\n",
              "\n",
              "                        })                };                            </script>        </div>\n",
              "</body>\n",
              "</html>"
            ]
          },
          "metadata": {}
        }
      ]
    },
    {
      "cell_type": "code",
      "source": [
        "fig = px.scatter_3d(df, x=\"Total Tests\", y=\"Total Deaths\", z='Total Cases', color = 'Continent')\n",
        "fig.show()"
      ],
      "metadata": {
        "colab": {
          "base_uri": "https://localhost:8080/",
          "height": 542
        },
        "id": "Nt80xTHPAmYc",
        "outputId": "9d9b2e06-8810-4c8f-9ca4-f5bcfe379e24"
      },
      "id": "Nt80xTHPAmYc",
      "execution_count": null,
      "outputs": [
        {
          "output_type": "display_data",
          "data": {
            "text/html": [
              "<html>\n",
              "<head><meta charset=\"utf-8\" /></head>\n",
              "<body>\n",
              "    <div>            <script src=\"https://cdnjs.cloudflare.com/ajax/libs/mathjax/2.7.5/MathJax.js?config=TeX-AMS-MML_SVG\"></script><script type=\"text/javascript\">if (window.MathJax) {MathJax.Hub.Config({SVG: {font: \"STIX-Web\"}});}</script>                <script type=\"text/javascript\">window.PlotlyConfig = {MathJaxConfig: 'local'};</script>\n",
              "        <script src=\"https://cdn.plot.ly/plotly-2.8.3.min.js\"></script>                <div id=\"4b188c15-6678-43d8-b984-594602e8d9d3\" class=\"plotly-graph-div\" style=\"height:525px; width:100%;\"></div>            <script type=\"text/javascript\">                                    window.PLOTLYENV=window.PLOTLYENV || {};                                    if (document.getElementById(\"4b188c15-6678-43d8-b984-594602e8d9d3\")) {                    Plotly.newPlot(                        \"4b188c15-6678-43d8-b984-594602e8d9d3\",                        [{\"hovertemplate\":\"Continent=Asia<br>Total Tests=%{x}<br>Total Deaths=%{y}<br>Total Cases=%{z}<extra></extra>\",\"legendgroup\":\"Asia\",\"marker\":{\"color\":\"#636efa\",\"symbol\":\"circle\"},\"mode\":\"markers\",\"name\":\"Asia\",\"scene\":\"scene\",\"showlegend\":true,\"x\":[160000000,918101478,94608068,15804065,162743369,85826548,30742304,55034937,114158919,68009122,41373364,0,17270775,34543739,76127725,19544451,24756666,15254399,16920079,17201885,30570862,11575012,4795578,199104417,4030048,6010742,45124522,7517428,10725689,6486117,8455743,9640118,10027516,3078533,4065369,3242901,25000000,717784,1377915,1233207,1197450,1907195,2213831,3091420,2303734,146269,278529,0,329592,7850],\"y\":[5272,530763,71923,33887,101492,43186,17672,144824,160894,36957,12256,74,33902,66051,13445,25375,1722,29445,16965,14122,30641,13846,10821,2348,2179,12020,9607,10108,1548,16829,2570,1297,19490,5404,686,8721,4628,225,1637,758,7896,2991,311,3056,21,3164,138,125,2159,121],\"z\":[503302,44685450,33136016,30458857,17042722,11526858,9970933,7567421,6734818,5041587,4795887,4772813,4727831,4075662,2882682,2465545,2222006,2037773,1825598,1746997,1576760,1407351,1231303,1051336,1007896,1001137,829095,828426,705444,672024,662858,647031,633903,621008,493639,446819,399449,277992,250932,218012,209195,206633,185729,138713,62615,57463,23418,17786,11945,3513],\"type\":\"scatter3d\"},{\"hovertemplate\":\"Continent=North America<br>Total Tests=%{x}<br>Total Deaths=%{y}<br>Total Cases=%{z}<extra></extra>\",\"legendgroup\":\"North America\",\"marker\":{\"color\":\"#EF553B\",\"symbol\":\"circle\"},\"mode\":\"markers\",\"name\":\"North America\",\"scene\":\"scene\",\"showlegend\":true,\"x\":[1163631220,19519260,66343123,6891394,4659757,14314110,7491978,3740928,1626616,828928,938039,2610114,895520,1183986,794426,576016,496693,177885,257839,132422,222773,210983,182981,1027337,0,229344,112382,164926,30126,62056,113604,18901,107339,126927,611527,78646,51382,25400,17762],\"y\":[1144242,332885,51061,20160,9214,8530,8600,4384,11109,1098,1010,4230,4339,3500,575,688,295,236,833,860,37,409,238,160,225,74,63,21,38,91,123,146,64,46,38,6,12,2,8],\"z\":[105148929,7435066,4581763,1234843,1199055,1112561,1030658,660533,471557,229807,201852,201785,188737,154065,106645,70740,45986,44026,37491,34143,31472,29882,19680,18799,18491,15760,12257,11971,11668,11016,9589,9106,7305,6596,6551,5439,3904,3452,1403],\"type\":\"scatter3d\"},{\"hovertemplate\":\"Continent=Europe<br>Total Tests=%{x}<br>Total Deaths=%{y}<br>Total Cases=%{z}<extra></extra>\",\"legendgroup\":\"Europe\",\"marker\":{\"color\":\"#00cc96\",\"symbol\":\"circle\"},\"mode\":\"markers\",\"name\":\"Europe\",\"scene\":\"scene\",\"showlegend\":true,\"x\":[271490188,122332384,267156892,522526476,273400000,471036328,25984435,38235844,211273524,102228365,45948100,32603805,36665011,56974185,23833472,26603809,129187461,19458009,12349305,11394556,7400363,13003038,11002430,12041358,2834334,10372063,11041500,5503682,13646641,7863503,3671717,3216305,1884721,2223705,1941032,4412567,2712064,1996384,2111209,1252808,249838,150753,778000,157634,112457,534283,78646,0],\"y\":[164829,167604,187850,206246,395901,119186,22992,118840,21852,36066,26117,111175,33709,42407,14452,67675,8239,23633,17788,48745,21008,8629,5112,8892,7067,9580,38208,17950,7118,6235,2934,11974,16278,9653,3596,1133,2800,229,827,227,165,116,28,122,89,111,67,0],\"z\":[39600548,38068912,25547414,24341615,22203942,13755956,8591721,6406796,5878928,5842655,5566708,5382095,4716315,4604440,4389655,3335131,3174821,2697827,2487935,2194969,1862395,1702523,1478767,1462169,1326393,1303040,1296450,1268666,994037,975884,614848,603750,401575,346733,334336,297757,287772,208999,117338,101320,47866,38008,34658,23536,21393,20420,16106,29],\"type\":\"scatter3d\"},{\"hovertemplate\":\"Continent=South America<br>Total Tests=%{x}<br>Total Deaths=%{y}<br>Total Cases=%{z}<extra></extra>\",\"legendgroup\":\"South America\",\"marker\":{\"color\":\"#ab63fa\",\"symbol\":\"circle\"},\"mode\":\"markers\",\"name\":\"South America\",\"scene\":\"scene\",\"showlegend\":true,\"x\":[63776166,35716069,36951507,48367600,37970939,2705422,3082403,6114822,2657506,3359014,651257,240907,720953,8632],\"y\":[698381,130458,142615,64109,219365,22362,36008,7617,19849,5852,420,1400,1298,0],\"z\":[36997328,10043308,6359464,5154106,4484903,1192283,1056578,1034046,807453,551950,98041,82227,73062,1930],\"type\":\"scatter3d\"},{\"hovertemplate\":\"Continent=Australia/Oceania<br>Total Tests=%{x}<br>Total Deaths=%{y}<br>Total Cases=%{z}<extra></extra>\",\"legendgroup\":\"Australia/Oceania\",\"marker\":{\"color\":\"#FFA15A\",\"symbol\":\"circle\"},\"mode\":\"markers\",\"name\":\"Australia/Oceania\",\"scene\":\"scene\",\"showlegend\":true,\"x\":[78835048,7768604,98964,0,668445,249149,0,54967,535009,187397,0,24976,19690,69136,20509,0,20508,0,0,0],\"y\":[19340,3864,314,649,883,670,153,60,13,29,17,14,2,9,1,18,7,0,0,0],\"z\":[11360439,2207775,79871,77957,68876,46792,24575,23671,16801,16607,15598,12014,7025,5988,5247,5013,3427,2805,783,5],\"type\":\"scatter3d\"},{\"hovertemplate\":\"Continent=Africa<br>Total Tests=%{x}<br>Total Deaths=%{y}<br>Total Cases=%{z}<extra></extra>\",\"legendgroup\":\"Africa\",\"marker\":{\"color\":\"#19d3f3\",\"symbol\":\"circle\"},\"mode\":\"markers\",\"name\":\"Africa\",\"scene\":\"scene\",\"showlegend\":true,\"x\":[26473049,12972026,5001397,3693367,2483538,5483106,1603660,3967062,3923997,2026898,230861,5708974,2525756,1371127,2529887,1062663,3012408,5959042,1751774,1499795,846704,1146543,624784,1677538,1048704,525141,562941,1009957,401622,345742,0,1621909,0,176919,358675,807880,660107,431221,794233,604310,400466,347815,248995,410280,365697,305941,81294,155686,23693,254538,0,145231,139824,259958,191341,29036,0,0],\"y\":[102595,16296,29330,24613,6437,7572,921,5688,4055,2801,6881,3155,5663,2242,1462,4090,3630,1468,1965,1931,1464,1971,2686,834,1423,1421,5011,997,413,38,172,306,846,188,1043,290,467,723,743,163,1361,386,396,138,183,189,113,372,103,312,161,176,294,126,194,77,0,1],\"z\":[4061085,1272411,1150793,515698,507171,499903,486588,342900,342831,329662,271431,266463,263921,233098,171167,171121,170478,133170,124328,105205,95646,88917,88681,88138,74199,67852,63787,63667,63240,53609,50665,48981,42823,42004,41698,39367,38267,34790,32963,27990,27324,25375,22056,18368,17229,15690,15368,12586,10189,9931,8998,8953,8065,7760,7675,6281,2166,10],\"type\":\"scatter3d\"},{\"hovertemplate\":\"Continent=Do not know<br>Total Tests=%{x}<br>Total Deaths=%{y}<br>Total Cases=%{z}<extra></extra>\",\"legendgroup\":\"Do not know\",\"marker\":{\"color\":\"#FF6692\",\"symbol\":\"circle\"},\"mode\":\"markers\",\"name\":\"Do not know\",\"scene\":\"scene\",\"showlegend\":true,\"x\":[0,0],\"y\":[13,2],\"z\":[712,9],\"type\":\"scatter3d\"}],                        {\"template\":{\"data\":{\"bar\":[{\"error_x\":{\"color\":\"#2a3f5f\"},\"error_y\":{\"color\":\"#2a3f5f\"},\"marker\":{\"line\":{\"color\":\"#E5ECF6\",\"width\":0.5},\"pattern\":{\"fillmode\":\"overlay\",\"size\":10,\"solidity\":0.2}},\"type\":\"bar\"}],\"barpolar\":[{\"marker\":{\"line\":{\"color\":\"#E5ECF6\",\"width\":0.5},\"pattern\":{\"fillmode\":\"overlay\",\"size\":10,\"solidity\":0.2}},\"type\":\"barpolar\"}],\"carpet\":[{\"aaxis\":{\"endlinecolor\":\"#2a3f5f\",\"gridcolor\":\"white\",\"linecolor\":\"white\",\"minorgridcolor\":\"white\",\"startlinecolor\":\"#2a3f5f\"},\"baxis\":{\"endlinecolor\":\"#2a3f5f\",\"gridcolor\":\"white\",\"linecolor\":\"white\",\"minorgridcolor\":\"white\",\"startlinecolor\":\"#2a3f5f\"},\"type\":\"carpet\"}],\"choropleth\":[{\"colorbar\":{\"outlinewidth\":0,\"ticks\":\"\"},\"type\":\"choropleth\"}],\"contour\":[{\"colorbar\":{\"outlinewidth\":0,\"ticks\":\"\"},\"colorscale\":[[0.0,\"#0d0887\"],[0.1111111111111111,\"#46039f\"],[0.2222222222222222,\"#7201a8\"],[0.3333333333333333,\"#9c179e\"],[0.4444444444444444,\"#bd3786\"],[0.5555555555555556,\"#d8576b\"],[0.6666666666666666,\"#ed7953\"],[0.7777777777777778,\"#fb9f3a\"],[0.8888888888888888,\"#fdca26\"],[1.0,\"#f0f921\"]],\"type\":\"contour\"}],\"contourcarpet\":[{\"colorbar\":{\"outlinewidth\":0,\"ticks\":\"\"},\"type\":\"contourcarpet\"}],\"heatmap\":[{\"colorbar\":{\"outlinewidth\":0,\"ticks\":\"\"},\"colorscale\":[[0.0,\"#0d0887\"],[0.1111111111111111,\"#46039f\"],[0.2222222222222222,\"#7201a8\"],[0.3333333333333333,\"#9c179e\"],[0.4444444444444444,\"#bd3786\"],[0.5555555555555556,\"#d8576b\"],[0.6666666666666666,\"#ed7953\"],[0.7777777777777778,\"#fb9f3a\"],[0.8888888888888888,\"#fdca26\"],[1.0,\"#f0f921\"]],\"type\":\"heatmap\"}],\"heatmapgl\":[{\"colorbar\":{\"outlinewidth\":0,\"ticks\":\"\"},\"colorscale\":[[0.0,\"#0d0887\"],[0.1111111111111111,\"#46039f\"],[0.2222222222222222,\"#7201a8\"],[0.3333333333333333,\"#9c179e\"],[0.4444444444444444,\"#bd3786\"],[0.5555555555555556,\"#d8576b\"],[0.6666666666666666,\"#ed7953\"],[0.7777777777777778,\"#fb9f3a\"],[0.8888888888888888,\"#fdca26\"],[1.0,\"#f0f921\"]],\"type\":\"heatmapgl\"}],\"histogram\":[{\"marker\":{\"pattern\":{\"fillmode\":\"overlay\",\"size\":10,\"solidity\":0.2}},\"type\":\"histogram\"}],\"histogram2d\":[{\"colorbar\":{\"outlinewidth\":0,\"ticks\":\"\"},\"colorscale\":[[0.0,\"#0d0887\"],[0.1111111111111111,\"#46039f\"],[0.2222222222222222,\"#7201a8\"],[0.3333333333333333,\"#9c179e\"],[0.4444444444444444,\"#bd3786\"],[0.5555555555555556,\"#d8576b\"],[0.6666666666666666,\"#ed7953\"],[0.7777777777777778,\"#fb9f3a\"],[0.8888888888888888,\"#fdca26\"],[1.0,\"#f0f921\"]],\"type\":\"histogram2d\"}],\"histogram2dcontour\":[{\"colorbar\":{\"outlinewidth\":0,\"ticks\":\"\"},\"colorscale\":[[0.0,\"#0d0887\"],[0.1111111111111111,\"#46039f\"],[0.2222222222222222,\"#7201a8\"],[0.3333333333333333,\"#9c179e\"],[0.4444444444444444,\"#bd3786\"],[0.5555555555555556,\"#d8576b\"],[0.6666666666666666,\"#ed7953\"],[0.7777777777777778,\"#fb9f3a\"],[0.8888888888888888,\"#fdca26\"],[1.0,\"#f0f921\"]],\"type\":\"histogram2dcontour\"}],\"mesh3d\":[{\"colorbar\":{\"outlinewidth\":0,\"ticks\":\"\"},\"type\":\"mesh3d\"}],\"parcoords\":[{\"line\":{\"colorbar\":{\"outlinewidth\":0,\"ticks\":\"\"}},\"type\":\"parcoords\"}],\"pie\":[{\"automargin\":true,\"type\":\"pie\"}],\"scatter\":[{\"marker\":{\"colorbar\":{\"outlinewidth\":0,\"ticks\":\"\"}},\"type\":\"scatter\"}],\"scatter3d\":[{\"line\":{\"colorbar\":{\"outlinewidth\":0,\"ticks\":\"\"}},\"marker\":{\"colorbar\":{\"outlinewidth\":0,\"ticks\":\"\"}},\"type\":\"scatter3d\"}],\"scattercarpet\":[{\"marker\":{\"colorbar\":{\"outlinewidth\":0,\"ticks\":\"\"}},\"type\":\"scattercarpet\"}],\"scattergeo\":[{\"marker\":{\"colorbar\":{\"outlinewidth\":0,\"ticks\":\"\"}},\"type\":\"scattergeo\"}],\"scattergl\":[{\"marker\":{\"colorbar\":{\"outlinewidth\":0,\"ticks\":\"\"}},\"type\":\"scattergl\"}],\"scattermapbox\":[{\"marker\":{\"colorbar\":{\"outlinewidth\":0,\"ticks\":\"\"}},\"type\":\"scattermapbox\"}],\"scatterpolar\":[{\"marker\":{\"colorbar\":{\"outlinewidth\":0,\"ticks\":\"\"}},\"type\":\"scatterpolar\"}],\"scatterpolargl\":[{\"marker\":{\"colorbar\":{\"outlinewidth\":0,\"ticks\":\"\"}},\"type\":\"scatterpolargl\"}],\"scatterternary\":[{\"marker\":{\"colorbar\":{\"outlinewidth\":0,\"ticks\":\"\"}},\"type\":\"scatterternary\"}],\"surface\":[{\"colorbar\":{\"outlinewidth\":0,\"ticks\":\"\"},\"colorscale\":[[0.0,\"#0d0887\"],[0.1111111111111111,\"#46039f\"],[0.2222222222222222,\"#7201a8\"],[0.3333333333333333,\"#9c179e\"],[0.4444444444444444,\"#bd3786\"],[0.5555555555555556,\"#d8576b\"],[0.6666666666666666,\"#ed7953\"],[0.7777777777777778,\"#fb9f3a\"],[0.8888888888888888,\"#fdca26\"],[1.0,\"#f0f921\"]],\"type\":\"surface\"}],\"table\":[{\"cells\":{\"fill\":{\"color\":\"#EBF0F8\"},\"line\":{\"color\":\"white\"}},\"header\":{\"fill\":{\"color\":\"#C8D4E3\"},\"line\":{\"color\":\"white\"}},\"type\":\"table\"}]},\"layout\":{\"annotationdefaults\":{\"arrowcolor\":\"#2a3f5f\",\"arrowhead\":0,\"arrowwidth\":1},\"autotypenumbers\":\"strict\",\"coloraxis\":{\"colorbar\":{\"outlinewidth\":0,\"ticks\":\"\"}},\"colorscale\":{\"diverging\":[[0,\"#8e0152\"],[0.1,\"#c51b7d\"],[0.2,\"#de77ae\"],[0.3,\"#f1b6da\"],[0.4,\"#fde0ef\"],[0.5,\"#f7f7f7\"],[0.6,\"#e6f5d0\"],[0.7,\"#b8e186\"],[0.8,\"#7fbc41\"],[0.9,\"#4d9221\"],[1,\"#276419\"]],\"sequential\":[[0.0,\"#0d0887\"],[0.1111111111111111,\"#46039f\"],[0.2222222222222222,\"#7201a8\"],[0.3333333333333333,\"#9c179e\"],[0.4444444444444444,\"#bd3786\"],[0.5555555555555556,\"#d8576b\"],[0.6666666666666666,\"#ed7953\"],[0.7777777777777778,\"#fb9f3a\"],[0.8888888888888888,\"#fdca26\"],[1.0,\"#f0f921\"]],\"sequentialminus\":[[0.0,\"#0d0887\"],[0.1111111111111111,\"#46039f\"],[0.2222222222222222,\"#7201a8\"],[0.3333333333333333,\"#9c179e\"],[0.4444444444444444,\"#bd3786\"],[0.5555555555555556,\"#d8576b\"],[0.6666666666666666,\"#ed7953\"],[0.7777777777777778,\"#fb9f3a\"],[0.8888888888888888,\"#fdca26\"],[1.0,\"#f0f921\"]]},\"colorway\":[\"#636efa\",\"#EF553B\",\"#00cc96\",\"#ab63fa\",\"#FFA15A\",\"#19d3f3\",\"#FF6692\",\"#B6E880\",\"#FF97FF\",\"#FECB52\"],\"font\":{\"color\":\"#2a3f5f\"},\"geo\":{\"bgcolor\":\"white\",\"lakecolor\":\"white\",\"landcolor\":\"#E5ECF6\",\"showlakes\":true,\"showland\":true,\"subunitcolor\":\"white\"},\"hoverlabel\":{\"align\":\"left\"},\"hovermode\":\"closest\",\"mapbox\":{\"style\":\"light\"},\"paper_bgcolor\":\"white\",\"plot_bgcolor\":\"#E5ECF6\",\"polar\":{\"angularaxis\":{\"gridcolor\":\"white\",\"linecolor\":\"white\",\"ticks\":\"\"},\"bgcolor\":\"#E5ECF6\",\"radialaxis\":{\"gridcolor\":\"white\",\"linecolor\":\"white\",\"ticks\":\"\"}},\"scene\":{\"xaxis\":{\"backgroundcolor\":\"#E5ECF6\",\"gridcolor\":\"white\",\"gridwidth\":2,\"linecolor\":\"white\",\"showbackground\":true,\"ticks\":\"\",\"zerolinecolor\":\"white\"},\"yaxis\":{\"backgroundcolor\":\"#E5ECF6\",\"gridcolor\":\"white\",\"gridwidth\":2,\"linecolor\":\"white\",\"showbackground\":true,\"ticks\":\"\",\"zerolinecolor\":\"white\"},\"zaxis\":{\"backgroundcolor\":\"#E5ECF6\",\"gridcolor\":\"white\",\"gridwidth\":2,\"linecolor\":\"white\",\"showbackground\":true,\"ticks\":\"\",\"zerolinecolor\":\"white\"}},\"shapedefaults\":{\"line\":{\"color\":\"#2a3f5f\"}},\"ternary\":{\"aaxis\":{\"gridcolor\":\"white\",\"linecolor\":\"white\",\"ticks\":\"\"},\"baxis\":{\"gridcolor\":\"white\",\"linecolor\":\"white\",\"ticks\":\"\"},\"bgcolor\":\"#E5ECF6\",\"caxis\":{\"gridcolor\":\"white\",\"linecolor\":\"white\",\"ticks\":\"\"}},\"title\":{\"x\":0.05},\"xaxis\":{\"automargin\":true,\"gridcolor\":\"white\",\"linecolor\":\"white\",\"ticks\":\"\",\"title\":{\"standoff\":15},\"zerolinecolor\":\"white\",\"zerolinewidth\":2},\"yaxis\":{\"automargin\":true,\"gridcolor\":\"white\",\"linecolor\":\"white\",\"ticks\":\"\",\"title\":{\"standoff\":15},\"zerolinecolor\":\"white\",\"zerolinewidth\":2}}},\"scene\":{\"domain\":{\"x\":[0.0,1.0],\"y\":[0.0,1.0]},\"xaxis\":{\"title\":{\"text\":\"Total Tests\"}},\"yaxis\":{\"title\":{\"text\":\"Total Deaths\"}},\"zaxis\":{\"title\":{\"text\":\"Total Cases\"}}},\"legend\":{\"title\":{\"text\":\"Continent\"},\"tracegroupgap\":0},\"margin\":{\"t\":60}},                        {\"responsive\": true}                    ).then(function(){\n",
              "                            \n",
              "var gd = document.getElementById('4b188c15-6678-43d8-b984-594602e8d9d3');\n",
              "var x = new MutationObserver(function (mutations, observer) {{\n",
              "        var display = window.getComputedStyle(gd).display;\n",
              "        if (!display || display === 'none') {{\n",
              "            console.log([gd, 'removed!']);\n",
              "            Plotly.purge(gd);\n",
              "            observer.disconnect();\n",
              "        }}\n",
              "}});\n",
              "\n",
              "// Listen for the removal of the full notebook cells\n",
              "var notebookContainer = gd.closest('#notebook-container');\n",
              "if (notebookContainer) {{\n",
              "    x.observe(notebookContainer, {childList: true});\n",
              "}}\n",
              "\n",
              "// Listen for the clearing of the current output cell\n",
              "var outputEl = gd.closest('.output');\n",
              "if (outputEl) {{\n",
              "    x.observe(outputEl, {childList: true});\n",
              "}}\n",
              "\n",
              "                        })                };                            </script>        </div>\n",
              "</body>\n",
              "</html>"
            ]
          },
          "metadata": {}
        }
      ]
    }
  ],
  "metadata": {
    "kernelspec": {
      "display_name": "Python 3 (ipykernel)",
      "language": "python",
      "name": "python3"
    },
    "language_info": {
      "codemirror_mode": {
        "name": "ipython",
        "version": 3
      },
      "file_extension": ".py",
      "mimetype": "text/x-python",
      "name": "python",
      "nbconvert_exporter": "python",
      "pygments_lexer": "ipython3",
      "version": "3.8.8"
    },
    "vscode": {
      "interpreter": {
        "hash": "a42ccb73e7d9bfdf27e036f1d2b8b681e55fc0743cc5586bc2474d4a60f4b886"
      }
    },
    "colab": {
      "provenance": []
    }
  },
  "nbformat": 4,
  "nbformat_minor": 5
}